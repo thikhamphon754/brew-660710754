{
  "cells": [
    {
      "cell_type": "code",
      "execution_count": 1,
      "metadata": {
        "colab": {
          "base_uri": "https://localhost:8080/"
        },
        "id": "1ta3rpBmuqo3",
        "outputId": "77c41bd3-88e8-466f-d6a1-a1c915b98d87"
      },
      "outputs": [
        {
          "name": "stdout",
          "output_type": "stream",
          "text": [
            "Requirement already satisfied: langchain-ollama in /usr/local/lib/python3.12/dist-packages (1.0.0)\n",
            "Requirement already satisfied: langchain-openai in /usr/local/lib/python3.12/dist-packages (1.0.0)\n",
            "Requirement already satisfied: langchain-core<2.0.0,>=1.0.0 in /usr/local/lib/python3.12/dist-packages (from langchain-ollama) (1.0.0)\n",
            "Requirement already satisfied: ollama<1.0.0,>=0.6.0 in /usr/local/lib/python3.12/dist-packages (from langchain-ollama) (0.6.0)\n",
            "Requirement already satisfied: openai<3.0.0,>=1.109.1 in /usr/local/lib/python3.12/dist-packages (from langchain-openai) (1.109.1)\n",
            "Requirement already satisfied: tiktoken<1.0.0,>=0.7.0 in /usr/local/lib/python3.12/dist-packages (from langchain-openai) (0.12.0)\n",
            "Requirement already satisfied: jsonpatch<2.0.0,>=1.33.0 in /usr/local/lib/python3.12/dist-packages (from langchain-core<2.0.0,>=1.0.0->langchain-ollama) (1.33)\n",
            "Requirement already satisfied: langsmith<1.0.0,>=0.3.45 in /usr/local/lib/python3.12/dist-packages (from langchain-core<2.0.0,>=1.0.0->langchain-ollama) (0.4.35)\n",
            "Requirement already satisfied: packaging<26.0.0,>=23.2.0 in /usr/local/lib/python3.12/dist-packages (from langchain-core<2.0.0,>=1.0.0->langchain-ollama) (25.0)\n",
            "Requirement already satisfied: pydantic<3.0.0,>=2.7.4 in /usr/local/lib/python3.12/dist-packages (from langchain-core<2.0.0,>=1.0.0->langchain-ollama) (2.11.10)\n",
            "Requirement already satisfied: pyyaml<7.0.0,>=5.3.0 in /usr/local/lib/python3.12/dist-packages (from langchain-core<2.0.0,>=1.0.0->langchain-ollama) (6.0.3)\n",
            "Requirement already satisfied: tenacity!=8.4.0,<10.0.0,>=8.1.0 in /usr/local/lib/python3.12/dist-packages (from langchain-core<2.0.0,>=1.0.0->langchain-ollama) (8.5.0)\n",
            "Requirement already satisfied: typing-extensions<5.0.0,>=4.7.0 in /usr/local/lib/python3.12/dist-packages (from langchain-core<2.0.0,>=1.0.0->langchain-ollama) (4.15.0)\n",
            "Requirement already satisfied: httpx>=0.27 in /usr/local/lib/python3.12/dist-packages (from ollama<1.0.0,>=0.6.0->langchain-ollama) (0.28.1)\n",
            "Requirement already satisfied: anyio<5,>=3.5.0 in /usr/local/lib/python3.12/dist-packages (from openai<3.0.0,>=1.109.1->langchain-openai) (4.11.0)\n",
            "Requirement already satisfied: distro<2,>=1.7.0 in /usr/local/lib/python3.12/dist-packages (from openai<3.0.0,>=1.109.1->langchain-openai) (1.9.0)\n",
            "Requirement already satisfied: jiter<1,>=0.4.0 in /usr/local/lib/python3.12/dist-packages (from openai<3.0.0,>=1.109.1->langchain-openai) (0.11.0)\n",
            "Requirement already satisfied: sniffio in /usr/local/lib/python3.12/dist-packages (from openai<3.0.0,>=1.109.1->langchain-openai) (1.3.1)\n",
            "Requirement already satisfied: tqdm>4 in /usr/local/lib/python3.12/dist-packages (from openai<3.0.0,>=1.109.1->langchain-openai) (4.67.1)\n",
            "Requirement already satisfied: regex>=2022.1.18 in /usr/local/lib/python3.12/dist-packages (from tiktoken<1.0.0,>=0.7.0->langchain-openai) (2024.11.6)\n",
            "Requirement already satisfied: requests>=2.26.0 in /usr/local/lib/python3.12/dist-packages (from tiktoken<1.0.0,>=0.7.0->langchain-openai) (2.32.5)\n",
            "Requirement already satisfied: idna>=2.8 in /usr/local/lib/python3.12/dist-packages (from anyio<5,>=3.5.0->openai<3.0.0,>=1.109.1->langchain-openai) (3.11)\n",
            "Requirement already satisfied: certifi in /usr/local/lib/python3.12/dist-packages (from httpx>=0.27->ollama<1.0.0,>=0.6.0->langchain-ollama) (2025.10.5)\n",
            "Requirement already satisfied: httpcore==1.* in /usr/local/lib/python3.12/dist-packages (from httpx>=0.27->ollama<1.0.0,>=0.6.0->langchain-ollama) (1.0.9)\n",
            "Requirement already satisfied: h11>=0.16 in /usr/local/lib/python3.12/dist-packages (from httpcore==1.*->httpx>=0.27->ollama<1.0.0,>=0.6.0->langchain-ollama) (0.16.0)\n",
            "Requirement already satisfied: jsonpointer>=1.9 in /usr/local/lib/python3.12/dist-packages (from jsonpatch<2.0.0,>=1.33.0->langchain-core<2.0.0,>=1.0.0->langchain-ollama) (3.0.0)\n",
            "Requirement already satisfied: orjson>=3.9.14 in /usr/local/lib/python3.12/dist-packages (from langsmith<1.0.0,>=0.3.45->langchain-core<2.0.0,>=1.0.0->langchain-ollama) (3.11.3)\n",
            "Requirement already satisfied: requests-toolbelt>=1.0.0 in /usr/local/lib/python3.12/dist-packages (from langsmith<1.0.0,>=0.3.45->langchain-core<2.0.0,>=1.0.0->langchain-ollama) (1.0.0)\n",
            "Requirement already satisfied: zstandard>=0.23.0 in /usr/local/lib/python3.12/dist-packages (from langsmith<1.0.0,>=0.3.45->langchain-core<2.0.0,>=1.0.0->langchain-ollama) (0.25.0)\n",
            "Requirement already satisfied: annotated-types>=0.6.0 in /usr/local/lib/python3.12/dist-packages (from pydantic<3.0.0,>=2.7.4->langchain-core<2.0.0,>=1.0.0->langchain-ollama) (0.7.0)\n",
            "Requirement already satisfied: pydantic-core==2.33.2 in /usr/local/lib/python3.12/dist-packages (from pydantic<3.0.0,>=2.7.4->langchain-core<2.0.0,>=1.0.0->langchain-ollama) (2.33.2)\n",
            "Requirement already satisfied: typing-inspection>=0.4.0 in /usr/local/lib/python3.12/dist-packages (from pydantic<3.0.0,>=2.7.4->langchain-core<2.0.0,>=1.0.0->langchain-ollama) (0.4.2)\n",
            "Requirement already satisfied: charset_normalizer<4,>=2 in /usr/local/lib/python3.12/dist-packages (from requests>=2.26.0->tiktoken<1.0.0,>=0.7.0->langchain-openai) (3.4.4)\n",
            "Requirement already satisfied: urllib3<3,>=1.21.1 in /usr/local/lib/python3.12/dist-packages (from requests>=2.26.0->tiktoken<1.0.0,>=0.7.0->langchain-openai) (2.5.0)\n"
          ]
        }
      ],
      "source": [
        "!pip install -U langchain-ollama langchain-openai"
      ]
    },
    {
      "cell_type": "code",
      "execution_count": 2,
      "metadata": {
        "colab": {
          "base_uri": "https://localhost:8080/"
        },
        "id": "PT401sfpw-se",
        "outputId": "f3e480d1-484c-438c-d78d-97d79f8f0f2b"
      },
      "outputs": [
        {
          "name": "stdout",
          "output_type": "stream",
          "text": [
            "Drive already mounted at /content/drive; to attempt to forcibly remount, call drive.mount(\"/content/drive\", force_remount=True).\n"
          ]
        }
      ],
      "source": [
        "from google.colab import drive\n",
        "drive.mount('/content/drive')"
      ]
    },
    {
      "cell_type": "code",
      "execution_count": 3,
      "metadata": {
        "colab": {
          "base_uri": "https://localhost:8080/"
        },
        "id": "hRIrPv68xEKr",
        "outputId": "dfa11c85-0667-4f8d-adc3-1424cd98b406"
      },
      "outputs": [
        {
          "name": "stdout",
          "output_type": "stream",
          "text": [
            "w_review_train.csv  w_review_train.parquet\n"
          ]
        }
      ],
      "source": [
        "!ls /content/drive/MyDrive/review_dataset"
      ]
    },
    {
      "cell_type": "code",
      "execution_count": 4,
      "metadata": {
        "id": "zhnIQbLAxNw5"
      },
      "outputs": [],
      "source": [
        "import duckdb\n",
        "\n",
        "con = duckdb.connect(database=':memory:', read_only=False)"
      ]
    },
    {
      "cell_type": "code",
      "execution_count": 5,
      "metadata": {
        "colab": {
          "base_uri": "https://localhost:8080/",
          "height": 206
        },
        "id": "4odZ2MwOxf-P",
        "outputId": "4b0906da-44a8-4624-bfd8-2c829daa5d37"
      },
      "outputs": [
        {
          "data": {
            "application/vnd.google.colaboratory.intrinsic+json": {
              "summary": "{\n  \"name\": \"df\",\n  \"rows\": 40000,\n  \"fields\": [\n    {\n      \"column\": \"column0\",\n      \"properties\": {\n        \"dtype\": \"string\",\n        \"num_unique_values\": 39993,\n        \"samples\": [\n          \"\\u0e40\\u0e04\\u0e22\\u0e21\\u0e32\\u0e23\\u0e49\\u0e32\\u0e19\\u0e19\\u0e35\\u0e492\\u0e04\\u0e23\\u0e31\\u0e49\\u0e07\\u0e41\\u0e23\\u0e30 \\u0e23\\u0e49\\u0e32\\u0e19\\u0e2d\\u0e22\\u0e39\\u0e48\\u0e1b\\u0e32\\u0e01\\u0e17\\u0e32\\u0e07\\u0e25\\u0e32\\u0e14\\u0e1e\\u0e23\\u0e49\\u0e32\\u0e27 \\u0e16\\u0e19\\u0e19\\u0e27\\u0e34\\u0e20\\u0e32\\u0e27\\u0e14\\u0e35\\u0e23\\u0e31\\u0e07\\u0e2a\\u0e34\\u0e15 \\u0e15\\u0e34\\u0e14\\u0e43\\u0e08\\u0e23\\u0e2a\\u0e0a\\u0e32\\u0e15\\u0e34\\u0e2d\\u0e32\\u0e2b\\u0e32\\u0e23\\u0e1a\\u0e23\\u0e23\\u0e22\\u0e32\\u0e01\\u0e32\\u0e28\\u0e22\\u0e49\\u0e2d\\u0e19\\u0e22\\u0e38\\u0e04 60s \\u0e23\\u0e49\\u0e32\\u0e19\\u0e08\\u0e30\\u0e40\\u0e15\\u0e47\\u0e21\\u0e44\\u0e1b\\u0e14\\u0e49\\u0e27\\u0e22\\u0e41\\u0e1c\\u0e48\\u0e19\\u0e40\\u0e2a\\u0e35\\u0e22\\u0e07\\u0e41\\u0e1b\\u0e30\\u0e46\\u0e23\\u0e2d\\u0e1a\\u0e23\\u0e49\\u0e32\\u0e19\\u0e41\\u0e25\\u0e30\\u0e40\\u0e04\\u0e23\\u0e37\\u0e48\\u0e2d\\u0e07\\u0e40\\u0e2a\\u0e35\\u0e22\\u0e07 \\u0e02\\u0e2d\\u0e07\\u0e40\\u0e01\\u0e48\\u0e32 \\u0e23\\u0e49\\u0e32\\u0e19\\u0e21\\u0e35\\u0e42\\u0e15\\u0e4a\\u0e30\\u0e17\\u0e35\\u0e48\\u0e0a\\u0e31\\u0e49\\u0e19\\u0e25\\u0e2d\\u0e22\\u0e14\\u0e49\\u0e27\\u0e22 \\u0e04\\u0e19\\u0e41\\u0e19\\u0e48\\u0e19\\u0e23\\u0e49\\u0e32\\u0e19\\u0e15\\u0e25\\u0e2d\\u0e14 \\u0e21\\u0e35\\u0e0a\\u0e32\\u0e27\\u0e15\\u0e48\\u0e32\\u0e07\\u0e0a\\u0e32\\u0e15\\u0e34\\u0e14\\u0e49\\u0e27\\u0e22\",\n          \"\\u0e2a\\u0e32\\u0e02\\u0e32\\u0e19\\u0e35\\u0e49\\u0e40\\u0e1b\\u0e47\\u0e19\\u0e41\\u0e1a\\u0e1a\\u0e19\\u0e35\\u0e49\\u0e17\\u0e38\\u0e01\\u0e17\\u0e35\\u0e44\\u0e21\\u0e48\\u0e40\\u0e02\\u0e49\\u0e32\\u0e43\\u0e08\\u0e40\\u0e25\\u0e22\\n\\u0e23\\u0e31\\u0e01\\u0e41\\u0e1a\\u0e23\\u0e19\\u0e14\\u0e4c\\u0e08\\u0e36\\u0e07\\u0e2d\\u0e14\\u0e15\\u0e33\\u0e2b\\u0e19\\u0e34\\u0e44\\u0e21\\u0e48\\u0e44\\u0e14\\u0e49\\n\\n\\u0e21\\u0e32\\u0e01\\u0e34\\u0e19 Zen \\u0e17\\u0e35\\u0e48\\u0e40\\u0e0b\\u0e47\\u0e19\\u0e17\\u0e23\\u0e31\\u0e25\\u0e25\\u0e32\\u0e14\\u0e1e\\u0e23\\u0e49\\u0e32\\u0e27\\u0e17\\u0e35\\u0e44\\u0e23\\u0e23\\u0e39\\u0e49\\u0e2a\\u0e36\\u0e01\\u0e02\\u0e2d\\u0e07\\u0e44\\u0e21\\u0e48\\u0e2a\\u0e14\\n\\u0e01\\u0e34\\u0e19\\u0e17\\u0e35\\u0e48\\u0e1f\\u0e34\\u0e27\\u0e40\\u0e08\\u0e2d\\u0e23\\u0e4c\\u0e23\\u0e31\\u0e07\\u0e2a\\u0e34\\u0e15\\u0e2a\\u0e14\\u0e01\\u0e27\\u0e48\\u0e32\\u0e21\\u0e32\\u0e01\\u0e46\\n\\n\\u0e2a\\u0e31\\u0e48\\u0e07\\u0e44\\u0e1b\\u0e2b\\u0e25\\u0e32\\u0e22\\u0e2d\\u0e22\\u0e48\\u0e32\\u0e07\\u0e04\\u0e48\\u0e30\\n\\u0e42\\u0e0b\\u0e30\\u0e1a\\u0e30\\u0e40\\u0e17\\u0e21\\u0e1b\\u0e38\\u0e23\\u0e30 \\u0e01\\u0e38\\u0e49\\u0e07\\u0e2a\\u0e2d\\u0e07\\u0e15\\u0e31\\u0e27 \\u0e19\\u0e49\\u0e33\\u0e0b\\u0e38\\u0e1b\\u0e23\\u0e49\\u0e2d\\u0e19 \\u0e2d\\u0e2d\\u0e01\\u0e2b\\u0e27\\u0e32\\u0e19 \\u0e01\\u0e34\\u0e19\\u0e44\\u0e14\\u0e49\\n\\u0e2b\\u0e21\\u0e36\\u0e01\\u0e22\\u0e33 \\u0e17\\u0e35\\u0e48\\u0e40\\u0e1b\\u0e47\\u0e19\\u0e40\\u0e04\\u0e23\\u0e37\\u0e48\\u0e2d\\u0e07\\u0e40\\u0e04\\u0e35\\u0e22\\u0e07 \\u0e2b\\u0e21\\u0e36\\u0e01\\u0e01\\u0e23\\u0e38\\u0e1a\\u0e46 \\u0e2d\\u0e2d\\u0e01\\u0e2b\\u0e27\\u0e32\\u0e19\\u0e19\\u0e34\\u0e14\\u0e46 \\u0e23\\u0e2a\\u0e0a\\u0e32\\u0e15\\u0e34\\u0e1e\\u0e2d\\u0e43\\u0e0a\\u0e49\\n\\u0e22\\u0e33\\u0e2a\\u0e32\\u0e2b\\u0e23\\u0e48\\u0e32\\u0e22 \\u0e21\\u0e32\\u0e15\\u0e23\\u0e10\\u0e32\\u0e19\\u0e17\\u0e31\\u0e48\\u0e27\\u0e44\\u0e1b\\n\\u0e41\\u0e0b\\u0e25\\u0e21\\u0e2d\\u0e19\\u0e22\\u0e33\\u0e44\\u0e17\\u0e22 \\u0e17\\u0e35\\u0e48\\u0e19\\u0e35\\u0e48\\u0e43\\u0e2b\\u0e49\\u0e2b\\u0e19\\u0e31\\u0e07\\u0e40\\u0e22\\u0e2d\\u0e30 \\u0e40\\u0e19\\u0e37\\u0e49\\u0e2d\\u0e1b\\u0e25\\u0e32\\u0e2b\\u0e31\\u0e32\\u0e19\\u0e40\\u0e15\\u0e4b\\u0e32\\u0e41\\u0e15\\u0e48\\u0e44\\u0e21\\u0e48\\u0e04\\u0e48\\u0e2d\\u0e22\\u0e2a\\u0e14 \\u0e15\\u0e34\\u0e14\\u0e2a\\u0e48\\u0e27\\u0e19\\u0e2b\\u0e19\\u0e31\\u0e07\\u0e21\\u0e32 \\u0e1b\\u0e23\\u0e34\\u0e21\\u0e32\\u0e13\\u0e1e\\u0e2d\\u0e2a\\u0e21\\u0e04\\u0e27\\u0e23 \\n\\u0e0b\\u0e32\\u0e0b\\u0e34\\u0e21\\u0e34\\u0e44\\u0e14\\u0e49\\u0e1f\\u0e23\\u0e35\\u0e08\\u0e32\\u0e01 gift voucher \\u0e40\\u0e1e\\u0e23\\u0e32\\u0e30\\u0e40\\u0e1b\\u0e47\\u0e19\\u0e2a\\u0e21\\u0e32\\u0e0a\\u0e34\\u0e01 \\u0e1b\\u0e25\\u0e32\\u0e0a\\u0e34\\u0e49\\u0e19\\u0e1a\\u0e32\\u0e07 \\u0e44\\u0e21\\u0e48\\u0e2a\\u0e14 \\u0e22\\u0e34\\u0e48\\u0e07\\u0e1b\\u0e25\\u0e32\\u0e2a\\u0e35\\u0e02\\u0e32\\u0e27\\u0e44\\u0e21\\u0e48\\u0e41\\u0e19\\u0e48\\u0e43\\u0e08\\u0e01\\u0e30\\u0e1e\\u0e07\\u0e2b\\u0e23\\u0e37\\u0e2d\\u0e2d\\u0e30\\u0e44\\u0e23 \\u0e44\\u0e21\\u0e48\\u0e2a\\u0e14\\u0e40\\u0e2d\\u0e32\\u0e21\\u0e32\\u0e01\\u0e46 \\u0e40\\u0e2d\\u0e47\\u0e19\\u0e40\\u0e22\\u0e2d\\u0e30 \\u0e40\\u0e2b\\u0e19\\u0e35\\u0e22\\u0e27\\u0e40\\u0e04\\u0e35\\u0e49\\u0e22\\u0e27\\u0e22\\u0e32\\u0e01 \\n\\u0e0a\\u0e38\\u0e14\\u0e02\\u0e49\\u0e32\\u0e27\\u0e1b\\u0e31\\u0e49\\u0e19 \\u0e44\\u0e21\\u0e48\\u0e2d\\u0e23\\u0e48\\u0e2d\\u0e22\\u0e2d\\u0e48\\u0e30 \\u0e1b\\u0e31\\u0e49\\u0e19\\u0e44\\u0e21\\u0e48\\u0e2d\\u0e23\\u0e48\\u0e2d\\u0e22 \\n\\u0e44\\u0e02\\u0e48\\u0e2b\\u0e27\\u0e32\\u0e19\\u0e2a\\u0e25\\u0e31\\u0e14\\u0e1b\\u0e39\\u0e2d\\u0e31\\u0e14\\u0e01\\u0e47\\u0e44\\u0e21\\u0e48\\u0e2d\\u0e23\\u0e48\\u0e2d\\u0e22 \\u0e44\\u0e02\\u0e48\\u0e2b\\u0e27\\u0e32\\u0e19\\u0e15\\u0e23\\u0e07\\u0e01\\u0e25\\u0e32\\u0e07\\u0e21\\u0e35\\u0e40\\u0e2a\\u0e35\\u0e22\\u0e27\\u0e40\\u0e02\\u0e35\\u0e22\\u0e27\\u0e04\\u0e25\\u0e49\\u0e33\\u0e46\\u0e19\\u0e34\\u0e14\\u0e46 \\u0e40\\u0e22\\u0e47\\u0e19\\u0e0a\\u0e37\\u0e14\\n\\n4\\u0e40\\u0e21\\u0e19\\u0e39\\u0e2b\\u0e25\\u0e31\\u0e07\\u0e44\\u0e21\\u0e48\\u0e42\\u0e2d\\u0e40\\u0e04\\u0e04\\u0e48\\u0e30 \\u0e17\\u0e35\\u0e48\\u0e1f\\u0e34\\u0e27\\u0e2d\\u0e23\\u0e48\\u0e2d\\u0e22\\u0e01\\u0e27\\u0e48\\u0e32\\u0e40\\u0e22\\u0e2d\\u0e30 \\u0e2a\\u0e23\\u0e38\\u0e1b\\u0e27\\u0e48\\u0e32\\u0e1e\\u0e19\\u0e31\\u0e01\\u0e07\\u0e32\\u0e19\\u0e1a\\u0e23\\u0e34\\u0e01\\u0e32\\u0e23\\u0e14\\u0e35 \\u0e2d\\u0e32\\u0e2b\\u0e32\\u0e23\\u0e44\\u0e21\\u0e48\\u0e2a\\u0e14\\u0e40\\u0e17\\u0e48\\u0e32\\u0e17\\u0e35\\u0e48\\u0e04\\u0e27\\u0e23 \\u0e44\\u0e21\\u0e48\\u0e1b\\u0e23\\u0e30\\u0e17\\u0e31\\u0e1a\\u0e43\\u0e08 \\u0e40\\u0e2a\\u0e35\\u0e22\\u0e2b\\u0e32\\u0e22\\u0e44\\u0e1b1,110 \\u0e1a\\u0e32\\u0e17\",\n          \"\\u0e23\\u0e49\\u0e32\\u0e19\\u0e19\\u0e34\\u0e27\\u0e40\\u0e04\\u0e25\\u0e35\\u0e22\\u0e23\\u0e4c\\u0e23\\u0e32\\u0e14\\u0e2b\\u0e19\\u0e49\\u0e32\\u0e22\\u0e2d\\u0e14\\u0e1c\\u0e31\\u0e01\\u0e41\\u0e25\\u0e30\\u0e2d\\u0e32\\u0e2b\\u0e32\\u0e23\\u0e15\\u0e32\\u0e21\\u0e2a\\u0e31\\u0e48\\u0e07 \\u0e40\\u0e1b\\u0e47\\u0e19\\u0e2d\\u0e35\\u0e01 1 \\u0e23\\u0e49\\u0e32\\u0e19\\u0e2d\\u0e32\\u0e2b\\u0e32\\u0e23\\u0e17\\u0e35\\u0e48\\u0e40\\u0e2d\\u0e23\\u0e47\\u0e14\\u0e2d\\u0e23\\u0e48\\u0e2d\\u0e22\\u0e21\\u0e32\\u0e01 \\u0e43\\u0e19\\u0e40\\u0e21\\u0e37\\u0e2d\\u0e07\\u0e1a\\u0e49\\u0e32\\u0e19\\u0e09\\u0e32\\u0e07\\u0e17\\u0e08\\u0e31\\u0e07\\u0e2b\\u0e27\\u0e31\\u0e14\\u0e23\\u0e30\\u0e22\\u0e2d\\u0e07 \\u0e23\\u0e49\\u0e32\\u0e19\\u0e19\\u0e35\\u0e49\\u0e15\\u0e31\\u0e49\\u0e07\\u0e2d\\u0e22\\u0e39\\u0e48\\u0e1a\\u0e19\\u0e16\\u0e19\\u0e19\\u0e43\\u0e2b\\u0e0d\\u0e48\\u0e40\\u0e25\\u0e22\\u0e08\\u0e2d\\u0e14\\u0e23\\u0e16\\u0e02\\u0e49\\u0e32\\u0e07\\u0e17\\u0e32\\u0e07 \\u0e2a\\u0e48\\u0e27\\u0e19\\u0e21\\u0e32\\u0e01\\u0e02\\u0e32\\u0e22\\u0e2d\\u0e32\\u0e2b\\u0e32\\u0e23\\u0e15\\u0e32\\u0e21\\u0e2a\\u0e31\\u0e48\\u0e07\\u0e15\\u0e48\\u0e32\\u0e07\\u0e46 \\u0e23\\u0e32\\u0e14\\u0e2b\\u0e19\\u0e49\\u0e32\\u0e2b\\u0e21\\u0e39\\u0e2b\\u0e21\\u0e31\\u0e01 \\u0e23\\u0e32\\u0e14\\u0e2b\\u0e19\\u0e49\\u0e32\\u0e17\\u0e30\\u0e40\\u0e25 \\u0e41\\u0e25\\u0e30\\u0e1e\\u0e27\\u0e01\\u0e1c\\u0e31\\u0e14\\u0e0b\\u0e35\\u0e2d\\u0e34\\u0e49\\u0e27\\u0e15\\u0e48\\u0e32\\u0e07\\u0e46 \\u0e40\\u0e04\\u0e22\\u0e21\\u0e32\\u0e17\\u0e32\\u0e19\\u0e23\\u0e32\\u0e14\\u0e2b\\u0e19\\u0e49\\u0e32\\u0e2b\\u0e21\\u0e39\\u0e2b\\u0e21\\u0e31\\u0e01\\u0e41\\u0e25\\u0e49\\u0e27 1 \\u0e23\\u0e2d\\u0e1a\\u0e2d\\u0e23\\u0e48\\u0e2d\\u0e22\\u0e14\\u0e35 \\u0e04\\u0e23\\u0e32\\u0e27\\u0e19\\u0e35\\u0e49\\u0e40\\u0e25\\u0e22\\u0e25\\u0e2d\\u0e07\\u0e40\\u0e1b\\u0e25\\u0e35\\u0e48\\u0e22\\u0e19\\u0e21\\u0e32\\u0e17\\u0e32\\u0e07\\u0e40\\u0e1b\\u0e47\\u0e19\\u0e23\\u0e32\\u0e14\\u0e2b\\u0e19\\u0e49\\u0e32\\u0e17\\u0e30\\u0e40\\u0e25\\u0e14\\u0e39\\u0e27\\u0e48\\u0e32\\u0e08\\u0e30\\u0e2d\\u0e23\\u0e48\\u0e2d\\u0e22\\u0e2b\\u0e23\\u0e37\\u0e2d\\u0e40\\u0e1b\\u0e25\\u0e48\\u0e32 \\u0e41\\u0e25\\u0e30\\u0e40\\u0e04\\u0e49\\u0e32\\u0e01\\u0e47\\u0e44\\u0e21\\u0e48\\u0e17\\u0e33\\u0e43\\u0e2b\\u0e49\\u0e1c\\u0e34\\u0e14\\u0e2b\\u0e27\\u0e31\\u0e07\\u0e08\\u0e23\\u0e34\\u0e07\\u0e46 \\u0e44\\u0e14\\u0e49\\u0e40\\u0e22\\u0e2d\\u0e30\\u0e14\\u0e49\\u0e27\\u0e22\\u0e41\\u0e25\\u0e49\\u0e27\\u0e01\\u0e47\\u0e2d\\u0e23\\u0e48\\u0e2d\\u0e22\\u0e2d\\u0e22\\u0e48\\u0e32\\u0e07\\u0e17\\u0e35\\u0e48\\u0e04\\u0e32\\u0e14\\u0e2b\\u0e27\\u0e31\\u0e07\\u0e44\\u0e27\\u0e49\\u0e08\\u0e23\\u0e34\\u0e07\\u0e46 \\u0e40\\u0e04\\u0e23\\u0e37\\u0e48\\u0e2d\\u0e07\\u0e16\\u0e25\\u0e14\\u0e40\\u0e0a\\u0e48\\u0e19\\u0e01\\u0e38\\u0e49\\u0e07 \\u0e1b\\u0e25\\u0e32\\u0e2b\\u0e21\\u0e36\\u0e01 \\u0e2a\\u0e14\\u0e41\\u0e25\\u0e30\\u0e44\\u0e21\\u0e48\\u0e40\\u0e2b\\u0e21\\u0e47\\u0e19\\u0e04\\u0e32\\u0e27\\u0e40\\u0e25\\u0e22 \\u0e23\\u0e32\\u0e04\\u0e32\\u0e01\\u0e47\\u0e17\\u0e31\\u0e48\\u0e27\\u0e44\\u0e1b\\u0e44\\u0e21\\u0e48\\u0e41\\u0e1e\\u0e07\\u0e21\\u0e32\\u0e01 \\u0e04\\u0e19\\u0e40\\u0e22\\u0e2d\\u0e30\\u0e21\\u0e32\\u0e01\\u0e42\\u0e14\\u0e22\\u0e40\\u0e09\\u0e1e\\u0e32\\u0e30\\u0e0a\\u0e48\\u0e27\\u0e07\\u0e2b\\u0e31\\u0e27\\u0e04\\u0e48\\u0e33 \\u0e02\\u0e2d\\u0e07\\u0e40\\u0e04\\u0e49\\u0e32\\u0e14\\u0e35\\u0e02\\u0e2d\\u0e07\\u0e40\\u0e04\\u0e49\\u0e32\\u0e2d\\u0e23\\u0e48\\u0e2d\\u0e22\\u0e08\\u0e23\\u0e34\\u0e07\\u0e46\"\n        ],\n        \"semantic_type\": \"\",\n        \"description\": \"\"\n      }\n    },\n    {\n      \"column\": \"column1\",\n      \"properties\": {\n        \"dtype\": \"number\",\n        \"std\": 0,\n        \"min\": 1,\n        \"max\": 5,\n        \"num_unique_values\": 5,\n        \"samples\": [\n          4,\n          1,\n          5\n        ],\n        \"semantic_type\": \"\",\n        \"description\": \"\"\n      }\n    }\n  ]\n}",
              "type": "dataframe",
              "variable_name": "df"
            },
            "text/html": [
              "\n",
              "  <div id=\"df-07ed4ab8-f197-49c2-b587-7638021ec216\" class=\"colab-df-container\">\n",
              "    <div>\n",
              "<style scoped>\n",
              "    .dataframe tbody tr th:only-of-type {\n",
              "        vertical-align: middle;\n",
              "    }\n",
              "\n",
              "    .dataframe tbody tr th {\n",
              "        vertical-align: top;\n",
              "    }\n",
              "\n",
              "    .dataframe thead th {\n",
              "        text-align: right;\n",
              "    }\n",
              "</style>\n",
              "<table border=\"1\" class=\"dataframe\">\n",
              "  <thead>\n",
              "    <tr style=\"text-align: right;\">\n",
              "      <th></th>\n",
              "      <th>column0</th>\n",
              "      <th>column1</th>\n",
              "    </tr>\n",
              "  </thead>\n",
              "  <tbody>\n",
              "    <tr>\n",
              "      <th>0</th>\n",
              "      <td>ร้านอาหารใหญ่มากกกกกกก \\nเลี้ยวเข้ามาเจอห้องน้...</td>\n",
              "      <td>3</td>\n",
              "    </tr>\n",
              "    <tr>\n",
              "      <th>1</th>\n",
              "      <td>อาหารที่นี่เป็นอาหารจีนแคะที่หากินยากในบ้านเรา...</td>\n",
              "      <td>4</td>\n",
              "    </tr>\n",
              "    <tr>\n",
              "      <th>2</th>\n",
              "      <td>ปอเปี๊ยะสด ทุกวันนี้รู้สึกว่าหากินยาก (ร้านที่...</td>\n",
              "      <td>3</td>\n",
              "    </tr>\n",
              "    <tr>\n",
              "      <th>3</th>\n",
              "      <td>รัานคัพเค้กในเมืองไทยมีไม่มาก หลายๆคนอาจจะสงสั...</td>\n",
              "      <td>5</td>\n",
              "    </tr>\n",
              "    <tr>\n",
              "      <th>4</th>\n",
              "      <td>อร่อย!!! เดินผ่านDigital gatewayทุกวัน ไม่ยักร...</td>\n",
              "      <td>5</td>\n",
              "    </tr>\n",
              "  </tbody>\n",
              "</table>\n",
              "</div>\n",
              "    <div class=\"colab-df-buttons\">\n",
              "\n",
              "  <div class=\"colab-df-container\">\n",
              "    <button class=\"colab-df-convert\" onclick=\"convertToInteractive('df-07ed4ab8-f197-49c2-b587-7638021ec216')\"\n",
              "            title=\"Convert this dataframe to an interactive table.\"\n",
              "            style=\"display:none;\">\n",
              "\n",
              "  <svg xmlns=\"http://www.w3.org/2000/svg\" height=\"24px\" viewBox=\"0 -960 960 960\">\n",
              "    <path d=\"M120-120v-720h720v720H120Zm60-500h600v-160H180v160Zm220 220h160v-160H400v160Zm0 220h160v-160H400v160ZM180-400h160v-160H180v160Zm440 0h160v-160H620v160ZM180-180h160v-160H180v160Zm440 0h160v-160H620v160Z\"/>\n",
              "  </svg>\n",
              "    </button>\n",
              "\n",
              "  <style>\n",
              "    .colab-df-container {\n",
              "      display:flex;\n",
              "      gap: 12px;\n",
              "    }\n",
              "\n",
              "    .colab-df-convert {\n",
              "      background-color: #E8F0FE;\n",
              "      border: none;\n",
              "      border-radius: 50%;\n",
              "      cursor: pointer;\n",
              "      display: none;\n",
              "      fill: #1967D2;\n",
              "      height: 32px;\n",
              "      padding: 0 0 0 0;\n",
              "      width: 32px;\n",
              "    }\n",
              "\n",
              "    .colab-df-convert:hover {\n",
              "      background-color: #E2EBFA;\n",
              "      box-shadow: 0px 1px 2px rgba(60, 64, 67, 0.3), 0px 1px 3px 1px rgba(60, 64, 67, 0.15);\n",
              "      fill: #174EA6;\n",
              "    }\n",
              "\n",
              "    .colab-df-buttons div {\n",
              "      margin-bottom: 4px;\n",
              "    }\n",
              "\n",
              "    [theme=dark] .colab-df-convert {\n",
              "      background-color: #3B4455;\n",
              "      fill: #D2E3FC;\n",
              "    }\n",
              "\n",
              "    [theme=dark] .colab-df-convert:hover {\n",
              "      background-color: #434B5C;\n",
              "      box-shadow: 0px 1px 3px 1px rgba(0, 0, 0, 0.15);\n",
              "      filter: drop-shadow(0px 1px 2px rgba(0, 0, 0, 0.3));\n",
              "      fill: #FFFFFF;\n",
              "    }\n",
              "  </style>\n",
              "\n",
              "    <script>\n",
              "      const buttonEl =\n",
              "        document.querySelector('#df-07ed4ab8-f197-49c2-b587-7638021ec216 button.colab-df-convert');\n",
              "      buttonEl.style.display =\n",
              "        google.colab.kernel.accessAllowed ? 'block' : 'none';\n",
              "\n",
              "      async function convertToInteractive(key) {\n",
              "        const element = document.querySelector('#df-07ed4ab8-f197-49c2-b587-7638021ec216');\n",
              "        const dataTable =\n",
              "          await google.colab.kernel.invokeFunction('convertToInteractive',\n",
              "                                                    [key], {});\n",
              "        if (!dataTable) return;\n",
              "\n",
              "        const docLinkHtml = 'Like what you see? Visit the ' +\n",
              "          '<a target=\"_blank\" href=https://colab.research.google.com/notebooks/data_table.ipynb>data table notebook</a>'\n",
              "          + ' to learn more about interactive tables.';\n",
              "        element.innerHTML = '';\n",
              "        dataTable['output_type'] = 'display_data';\n",
              "        await google.colab.output.renderOutput(dataTable, element);\n",
              "        const docLink = document.createElement('div');\n",
              "        docLink.innerHTML = docLinkHtml;\n",
              "        element.appendChild(docLink);\n",
              "      }\n",
              "    </script>\n",
              "  </div>\n",
              "\n",
              "\n",
              "    <div id=\"df-5378d74d-99b5-4b3c-bf9e-1a64949b15d2\">\n",
              "      <button class=\"colab-df-quickchart\" onclick=\"quickchart('df-5378d74d-99b5-4b3c-bf9e-1a64949b15d2')\"\n",
              "                title=\"Suggest charts\"\n",
              "                style=\"display:none;\">\n",
              "\n",
              "<svg xmlns=\"http://www.w3.org/2000/svg\" height=\"24px\"viewBox=\"0 0 24 24\"\n",
              "     width=\"24px\">\n",
              "    <g>\n",
              "        <path d=\"M19 3H5c-1.1 0-2 .9-2 2v14c0 1.1.9 2 2 2h14c1.1 0 2-.9 2-2V5c0-1.1-.9-2-2-2zM9 17H7v-7h2v7zm4 0h-2V7h2v10zm4 0h-2v-4h2v4z\"/>\n",
              "    </g>\n",
              "</svg>\n",
              "      </button>\n",
              "\n",
              "<style>\n",
              "  .colab-df-quickchart {\n",
              "      --bg-color: #E8F0FE;\n",
              "      --fill-color: #1967D2;\n",
              "      --hover-bg-color: #E2EBFA;\n",
              "      --hover-fill-color: #174EA6;\n",
              "      --disabled-fill-color: #AAA;\n",
              "      --disabled-bg-color: #DDD;\n",
              "  }\n",
              "\n",
              "  [theme=dark] .colab-df-quickchart {\n",
              "      --bg-color: #3B4455;\n",
              "      --fill-color: #D2E3FC;\n",
              "      --hover-bg-color: #434B5C;\n",
              "      --hover-fill-color: #FFFFFF;\n",
              "      --disabled-bg-color: #3B4455;\n",
              "      --disabled-fill-color: #666;\n",
              "  }\n",
              "\n",
              "  .colab-df-quickchart {\n",
              "    background-color: var(--bg-color);\n",
              "    border: none;\n",
              "    border-radius: 50%;\n",
              "    cursor: pointer;\n",
              "    display: none;\n",
              "    fill: var(--fill-color);\n",
              "    height: 32px;\n",
              "    padding: 0;\n",
              "    width: 32px;\n",
              "  }\n",
              "\n",
              "  .colab-df-quickchart:hover {\n",
              "    background-color: var(--hover-bg-color);\n",
              "    box-shadow: 0 1px 2px rgba(60, 64, 67, 0.3), 0 1px 3px 1px rgba(60, 64, 67, 0.15);\n",
              "    fill: var(--button-hover-fill-color);\n",
              "  }\n",
              "\n",
              "  .colab-df-quickchart-complete:disabled,\n",
              "  .colab-df-quickchart-complete:disabled:hover {\n",
              "    background-color: var(--disabled-bg-color);\n",
              "    fill: var(--disabled-fill-color);\n",
              "    box-shadow: none;\n",
              "  }\n",
              "\n",
              "  .colab-df-spinner {\n",
              "    border: 2px solid var(--fill-color);\n",
              "    border-color: transparent;\n",
              "    border-bottom-color: var(--fill-color);\n",
              "    animation:\n",
              "      spin 1s steps(1) infinite;\n",
              "  }\n",
              "\n",
              "  @keyframes spin {\n",
              "    0% {\n",
              "      border-color: transparent;\n",
              "      border-bottom-color: var(--fill-color);\n",
              "      border-left-color: var(--fill-color);\n",
              "    }\n",
              "    20% {\n",
              "      border-color: transparent;\n",
              "      border-left-color: var(--fill-color);\n",
              "      border-top-color: var(--fill-color);\n",
              "    }\n",
              "    30% {\n",
              "      border-color: transparent;\n",
              "      border-left-color: var(--fill-color);\n",
              "      border-top-color: var(--fill-color);\n",
              "      border-right-color: var(--fill-color);\n",
              "    }\n",
              "    40% {\n",
              "      border-color: transparent;\n",
              "      border-right-color: var(--fill-color);\n",
              "      border-top-color: var(--fill-color);\n",
              "    }\n",
              "    60% {\n",
              "      border-color: transparent;\n",
              "      border-right-color: var(--fill-color);\n",
              "    }\n",
              "    80% {\n",
              "      border-color: transparent;\n",
              "      border-right-color: var(--fill-color);\n",
              "      border-bottom-color: var(--fill-color);\n",
              "    }\n",
              "    90% {\n",
              "      border-color: transparent;\n",
              "      border-bottom-color: var(--fill-color);\n",
              "    }\n",
              "  }\n",
              "</style>\n",
              "\n",
              "      <script>\n",
              "        async function quickchart(key) {\n",
              "          const quickchartButtonEl =\n",
              "            document.querySelector('#' + key + ' button');\n",
              "          quickchartButtonEl.disabled = true;  // To prevent multiple clicks.\n",
              "          quickchartButtonEl.classList.add('colab-df-spinner');\n",
              "          try {\n",
              "            const charts = await google.colab.kernel.invokeFunction(\n",
              "                'suggestCharts', [key], {});\n",
              "          } catch (error) {\n",
              "            console.error('Error during call to suggestCharts:', error);\n",
              "          }\n",
              "          quickchartButtonEl.classList.remove('colab-df-spinner');\n",
              "          quickchartButtonEl.classList.add('colab-df-quickchart-complete');\n",
              "        }\n",
              "        (() => {\n",
              "          let quickchartButtonEl =\n",
              "            document.querySelector('#df-5378d74d-99b5-4b3c-bf9e-1a64949b15d2 button');\n",
              "          quickchartButtonEl.style.display =\n",
              "            google.colab.kernel.accessAllowed ? 'block' : 'none';\n",
              "        })();\n",
              "      </script>\n",
              "    </div>\n",
              "\n",
              "    </div>\n",
              "  </div>\n"
            ],
            "text/plain": [
              "                                             column0  column1\n",
              "0  ร้านอาหารใหญ่มากกกกกกก \\nเลี้ยวเข้ามาเจอห้องน้...        3\n",
              "1  อาหารที่นี่เป็นอาหารจีนแคะที่หากินยากในบ้านเรา...        4\n",
              "2  ปอเปี๊ยะสด ทุกวันนี้รู้สึกว่าหากินยาก (ร้านที่...        3\n",
              "3  รัานคัพเค้กในเมืองไทยมีไม่มาก หลายๆคนอาจจะสงสั...        5\n",
              "4  อร่อย!!! เดินผ่านDigital gatewayทุกวัน ไม่ยักร...        5"
            ]
          },
          "execution_count": 5,
          "metadata": {},
          "output_type": "execute_result"
        }
      ],
      "source": [
        "df = con.execute(\"SELECT * FROM read_csv_auto('/content/drive/MyDrive/review_dataset/w_review_train.csv', parallel=false, encoding='UTF-8', ignore_errors=true)\").fetchdf()\n",
        "\n",
        "df.head()"
      ]
    },
    {
      "cell_type": "code",
      "execution_count": 6,
      "metadata": {
        "colab": {
          "base_uri": "https://localhost:8080/"
        },
        "id": "mdvsP3S5xiQW",
        "outputId": "b5543f77-4d9d-4b45-889c-5d77931c73aa"
      },
      "outputs": [
        {
          "data": {
            "text/plain": [
              "(40000, 2)"
            ]
          },
          "execution_count": 6,
          "metadata": {},
          "output_type": "execute_result"
        }
      ],
      "source": [
        "df.shape"
      ]
    },
    {
      "cell_type": "code",
      "execution_count": 7,
      "metadata": {
        "colab": {
          "base_uri": "https://localhost:8080/"
        },
        "id": "u2yqNhfPx5Sr",
        "outputId": "aa30ae5f-99ff-434a-c16d-e292716be2bc"
      },
      "outputs": [
        {
          "data": {
            "text/plain": [
              "<duckdb.duckdb.DuckDBPyConnection at 0x7f24e9891f30>"
            ]
          },
          "execution_count": 7,
          "metadata": {},
          "output_type": "execute_result"
        }
      ],
      "source": [
        "con.execute(\"COPY df TO '/content/drive/MyDrive/review_dataset/w_review_train.parquet' (FORMAT PARQUET)\")"
      ]
    },
    {
      "cell_type": "code",
      "execution_count": 8,
      "metadata": {
        "colab": {
          "base_uri": "https://localhost:8080/"
        },
        "id": "q8OZSqSqx6d0",
        "outputId": "8e498df7-6794-40c4-a0c6-a08f3c1bfc04"
      },
      "outputs": [
        {
          "data": {
            "text/plain": [
              "3.8313027179006562"
            ]
          },
          "execution_count": 8,
          "metadata": {},
          "output_type": "execute_result"
        }
      ],
      "source": [
        "parquet_avg_rating_direct = con.execute(\"SELECT AVG(column1) FROM '/content/drive/MyDrive/review_dataset/w_review_train.parquet' WHERE column0 LIKE '%อร่อย%'\").fetchone()[0]\n",
        "parquet_avg_rating_direct"
      ]
    },
    {
      "cell_type": "code",
      "execution_count": 9,
      "metadata": {
        "id": "Jkg4kcvPyDSC"
      },
      "outputs": [],
      "source": [
        "parquet_file_path = '/content/drive/MyDrive/review_dataset/w_review_train.parquet'"
      ]
    },
    {
      "cell_type": "code",
      "execution_count": 10,
      "metadata": {
        "colab": {
          "base_uri": "https://localhost:8080/"
        },
        "id": "1fmq1HOSyMuu",
        "outputId": "a2c38885-6002-4293-ac89-c32d25d5bb66"
      },
      "outputs": [
        {
          "data": {
            "text/plain": [
              "3.8313027179006562"
            ]
          },
          "execution_count": 10,
          "metadata": {},
          "output_type": "execute_result"
        }
      ],
      "source": [
        "parquet_avg_rating_direct = con.execute(f\"SELECT AVG(column1) FROM '{parquet_file_path}' WHERE column0 LIKE '%อร่อย%'\").fetchone()[0]\n",
        "parquet_avg_rating_direct"
      ]
    },
    {
      "cell_type": "code",
      "execution_count": 11,
      "metadata": {
        "id": "Puef8Oj1yPAS"
      },
      "outputs": [],
      "source": [
        "coffee_keywords = [\n",
        "    'กาแฟ', 'คาเฟ่', 'coffee', 'cafe', 'เอสเปรสโซ่', 'ลาเต้',\n",
        "    'มอคค่า', 'คาปูชิโน่', 'เฟรนช์เพรส', 'cold brew', 'drip',\n",
        "    'espresso', 'latte', 'americano', 'macchiato', 'brew',\n",
        "    'specialty', 'slow bar', 'ร้านกาแฟ', 'ร้านคาเฟ่', 'กาแฟสด',\n",
        "    'เมนูกาแฟ', 'กาแฟนม', 'กาแฟดำ', 'ร้านบาริสต้า', 'barista', 'coffee shop'\n",
        "]\n",
        "\n",
        "where_clause = \" OR \".join([f\"column0 LIKE '%{keyword}%'\" for keyword in coffee_keywords])"
      ]
    },
    {
      "cell_type": "code",
      "execution_count": 12,
      "metadata": {
        "colab": {
          "base_uri": "https://localhost:8080/",
          "height": 84,
          "referenced_widgets": [
            "5d8a53d3f36d4dd7a85149b03358f128",
            "969bd64263944c96af28badb2fbddb7b",
            "00c8a139d94440ca89c37c1199264c1d"
          ]
        },
        "id": "7nJhURaAyTH9",
        "outputId": "94ebec62-c5bc-4ad1-98ae-ad649e8f9a15"
      },
      "outputs": [
        {
          "data": {
            "application/vnd.jupyter.widget-view+json": {
              "model_id": "5d8a53d3f36d4dd7a85149b03358f128",
              "version_major": 2,
              "version_minor": 0
            },
            "text/plain": [
              "FloatProgress(value=0.0, layout=Layout(width='auto'), style=ProgressStyle(bar_color='black'))"
            ]
          },
          "metadata": {},
          "output_type": "display_data"
        },
        {
          "name": "stdout",
          "output_type": "stream",
          "text": [
            "CPU times: user 1.94 s, sys: 61.7 ms, total: 2 s\n",
            "Wall time: 2.02 s\n"
          ]
        }
      ],
      "source": [
        "%%time\n",
        "coffee_reviews_df = con.execute(f\"SELECT * FROM '{parquet_file_path}' WHERE {where_clause}\").fetchdf()"
      ]
    },
    {
      "cell_type": "code",
      "execution_count": 13,
      "metadata": {
        "id": "MA5PKKfLyUYq"
      },
      "outputs": [],
      "source": [
        "csv_file_path = '/content/drive/MyDrive/review_dataset/w_review_train.csv'"
      ]
    },
    {
      "cell_type": "code",
      "execution_count": 14,
      "metadata": {
        "colab": {
          "base_uri": "https://localhost:8080/",
          "height": 84,
          "referenced_widgets": [
            "c2a1ae9d0487404bbfd42471efbace29",
            "6186681c412247f7ba53c08613901833",
            "877134cc816d44818b43eef5d4a359e7"
          ]
        },
        "id": "DUwYXF0DydaT",
        "outputId": "eff30282-cc1f-4b18-86f6-2409e53384c3"
      },
      "outputs": [
        {
          "data": {
            "application/vnd.jupyter.widget-view+json": {
              "model_id": "c2a1ae9d0487404bbfd42471efbace29",
              "version_major": 2,
              "version_minor": 0
            },
            "text/plain": [
              "FloatProgress(value=0.0, layout=Layout(width='auto'), style=ProgressStyle(bar_color='black'))"
            ]
          },
          "metadata": {},
          "output_type": "display_data"
        },
        {
          "name": "stdout",
          "output_type": "stream",
          "text": [
            "CPU times: user 2.16 s, sys: 71.6 ms, total: 2.23 s\n",
            "Wall time: 2.27 s\n"
          ]
        }
      ],
      "source": [
        "%%time\n",
        "coffee_reviews_df_csv = con.execute(f\"SELECT * FROM read_csv_auto('{csv_file_path}', parallel=false, encoding='UTF-8', ignore_errors=true) WHERE {where_clause}\").fetchdf()"
      ]
    },
    {
      "cell_type": "code",
      "execution_count": 15,
      "metadata": {
        "colab": {
          "base_uri": "https://localhost:8080/",
          "height": 206
        },
        "id": "kLNQti5nyfC-",
        "outputId": "deb935c5-c54f-4618-b4f7-632d9f8ba9b4"
      },
      "outputs": [
        {
          "data": {
            "application/vnd.google.colaboratory.intrinsic+json": {
              "summary": "{\n  \"name\": \"coffee_reviews_df\",\n  \"rows\": 4981,\n  \"fields\": [\n    {\n      \"column\": \"column0\",\n      \"properties\": {\n        \"dtype\": \"string\",\n        \"num_unique_values\": 4981,\n        \"samples\": [\n          \"\\u0e23\\u0e49\\u0e32\\u0e19\\u0e2d\\u0e22\\u0e39\\u0e48\\u0e1a\\u0e19\\u0e0a\\u0e31\\u0e49\\u0e193\\u0e02\\u0e2d\\u0e07 seen space \\u0e17\\u0e2d\\u0e07\\u0e2b\\u0e25\\u0e48\\u0e2d \\u0e40\\u0e1b\\u0e47\\u0e19\\u0e2d\\u0e32\\u0e2b\\u0e32\\u0e23\\u0e41\\u0e19\\u0e27fusion mediteranion\\u0e40\\u0e1e\\u0e37\\u0e48\\u0e2d\\u0e2a\\u0e38\\u0e02\\u0e20\\u0e32\\u0e1e\\n\\u0e1a\\u0e23\\u0e23\\u0e22\\u0e32\\u0e01\\u0e32\\u0e28\\u0e23\\u0e49\\u0e32\\u0e19\\u0e14\\u0e35\\u0e21\\u0e32\\u0e01 \\u0e42\\u0e1b\\u0e23\\u0e48\\u0e07\\u0e42\\u0e25\\u0e48\\u0e07 \\u0e2a\\u0e30\\u0e2d\\u0e32\\u0e14 \\u0e2a\\u0e1a\\u0e32\\u0e22 \\u0e40\\u0e01\\u0e49\\u0e32\\u0e2d\\u0e35\\u0e49\\u0e1c\\u0e49\\u0e32\\u0e43\\u0e1a\\u0e2a\\u0e35\\u0e02\\u0e32\\u0e27\\u0e2d\\u0e32\\u0e08\\u0e19\\u0e31\\u0e48\\u0e07\\u0e44\\u0e21\\u0e48\\u0e2a\\u0e1a\\u0e32\\u0e22\\u0e40\\u0e25\\u0e47\\u0e01\\u0e19\\u0e49\\u0e2d\\u0e22\\n\\u0e1e\\u0e19\\u0e31\\u0e01\\u0e07\\u0e32\\u0e19\\u0e1a\\u0e23\\u0e34\\u0e01\\u0e32\\u0e23\\u0e14\\u0e35\\u0e04\\u0e48\\u0e30 \\u0e43\\u0e2a\\u0e48\\u0e43\\u0e08\\u0e23\\u0e32\\u0e22\\u0e25\\u0e30\\u0e40\\u0e2d\\u0e35\\u0e22\\u0e14\\u0e41\\u0e19\\u0e30\\u0e19\\u0e33\\u0e40\\u0e21\\u0e19\\u0e39\\u0e15\\u0e48\\u0e32\\u0e07\\u0e46\\u0e44\\u0e14\\u0e49\\u0e14\\u0e35\\n-\\u0e01\\u0e32\\u0e41\\u0e1f\\u0e2d\\u0e23\\u0e48\\u0e2d\\u0e22 \\u0e41\\u0e15\\u0e48\\u0e17\\u0e33\\u0e0a\\u0e49\\u0e32\\u0e21\\u0e32\\u0e01 \\u0e2b\\u0e32\\u0e01\\u0e2a\\u0e31\\u0e48\\u0e07\\u0e01\\u0e32\\u0e41\\u0e1f\\u0e15\\u0e49\\u0e2d\\u0e07\\u0e17\\u0e33\\u0e43\\u0e08\\u0e19\\u0e34\\u0e14\\u0e19\\u0e36\\u0e07 4/5\\n- smoothies \\u0e2d\\u0e23\\u0e48\\u0e2d\\u0e22\\u0e43\\u0e02\\u0e49\\u0e44\\u0e14\\u0e49 \\u0e23\\u0e2a\\u0e0a\\u0e32\\u0e15\\u0e34\\u0e2a\\u0e14\\u0e0a\\u0e37\\u0e48\\u0e19\\u0e01\\u0e33\\u0e25\\u0e31\\u0e07\\u0e14\\u0e35 4/5\\n- devil's egg with beetroot : \\u0e08\\u0e32\\u0e19\\u0e19\\u0e35\\u0e49\\u0e2d\\u0e23\\u0e48\\u0e2d\\u0e22 \\u0e08\\u0e30\\u0e1a\\u0e2d\\u0e01\\u0e27\\u0e48\\u0e32 devil's egg \\u0e01\\u0e31\\u0e1abeetroot \\u0e01\\u0e34\\u0e19\\u0e23\\u0e27\\u0e21\\u0e01\\u0e31\\u0e19\\u0e41\\u0e25\\u0e49\\u0e27\\u0e23\\u0e39\\u0e49\\u0e2a\\u0e36\\u0e01\\u0e44\\u0e21\\u0e48\\u0e04\\u0e48\\u0e2d\\u0e22\\u0e40\\u0e02\\u0e49\\u0e32\\u0e01\\u0e31\\u0e19 \\u0e41\\u0e15\\u0e48\\u0e01\\u0e34\\u0e19\\u0e41\\u0e22\\u0e01\\u0e01\\u0e31\\u0e19\\u0e41\\u0e25\\u0e49\\u0e27\\u0e2d\\u0e23\\u0e48\\u0e2d\\u0e22\\u0e21\\u0e32\\u0e01 4/5\\n- duck ragu pasta \\u0e08\\u0e32\\u0e19\\u0e19\\u0e35\\u0e49\\u0e2d\\u0e23\\u0e48\\u0e2d\\u0e22\\u0e14\\u0e35 \\u0e40\\u0e1b\\u0e47\\u0e19\\u0e1e\\u0e32\\u0e2a\\u0e15\\u0e49\\u0e32\\u0e40\\u0e2a\\u0e49\\u0e19\\u0e43\\u0e2b\\u0e0d\\u0e48\\u0e2b\\u0e19\\u0e48\\u0e2d\\u0e22 \\u0e0b\\u0e2d\\u0e2a\\u0e40\\u0e1b\\u0e47\\u0e14 4/5\\n- chicken nacho \\u0e41\\u0e1b\\u0e25\\u0e01\\u0e14\\u0e35 \\u0e19\\u0e32\\u0e42\\u0e0a\\u0e17\\u0e2d\\u0e14\\u0e43\\u0e2b\\u0e21\\u0e48\\u0e23\\u0e49\\u0e2d\\u0e19\\u0e46 \\u0e2b\\u0e2d\\u0e21\\u0e46 \\u0e41\\u0e15\\u0e48\\u0e41\\u0e2d\\u0e1a\\u0e40\\u0e25\\u0e35\\u0e48\\u0e22\\u0e19\\u0e44\\u0e1b\\u0e19\\u0e34\\u0e14 3/5\\n\\n\\u0e42\\u0e14\\u0e22\\u0e23\\u0e27\\u0e21\\u0e41\\u0e25\\u0e49\\u0e27\\u0e16\\u0e37\\u0e2d\\u0e27\\u0e48\\u0e32\\u0e14\\u0e35\\u0e17\\u0e35\\u0e40\\u0e14\\u0e35\\u0e22\\u0e27\\u0e04\\u0e48\\u0e30 \\u0e23\\u0e32\\u0e04\\u0e32\\u0e41\\u0e25\\u0e30\\u0e23\\u0e2a\\u0e0a\\u0e32\\u0e15\\u0e34\\u0e1e\\u0e2d\\u0e46\\u0e01\\u0e31\\u0e1aroast\\u0e17\\u0e35\\u0e48\\u0e2d\\u0e22\\u0e39\\u0e48\\u0e14\\u0e49\\u0e32\\u0e19\\u0e25\\u0e48\\u0e32\\u0e07 \\u0e43\\u0e04\\u0e23\\u0e02\\u0e35\\u0e49\\u0e40\\u0e01\\u0e35\\u0e22\\u0e08\\u0e15\\u0e48\\u0e2d\\u0e04\\u0e34\\u0e27 \\u0e2b\\u0e23\\u0e37\\u0e2d\\u0e2d\\u0e22\\u0e32\\u0e01\\u0e25\\u0e2d\\u0e07bruch\\u0e14\\u0e35\\u0e46\\u0e41\\u0e16\\u0e27\\u0e17\\u0e2d\\u0e07\\u0e2b\\u0e25\\u0e48\\u0e2d\\u0e41\\u0e19\\u0e30\\u0e19\\u0e33\\u0e23\\u0e49\\u0e32\\u0e19\\u0e19\\u0e35\\u0e49\\u0e2d\\u0e35\\u0e01\\u0e23\\u0e49\\u0e32\\u0e19\\u0e04\\u0e48\\u0e30\",\n          \"<<\\u0e40\\u0e2a\\u0e49\\u0e19\\u0e17\\u0e32\\u0e07\\u0e19\\u0e31\\u0e01\\u0e25\\u0e07\\u0e17\\u0e38\\u0e19>>\\n\\n     \\u0e2b\\u0e49\\u0e32\\u0e07 Union Mall \\u0e0a\\u0e31\\u0e49\\u0e19 3 \\u0e42\\u0e0b\\u0e19 B \\u0e43\\u0e01\\u0e25\\u0e49\\u0e1a\\u0e31\\u0e19\\u0e44\\u0e14\\u0e40\\u0e25\\u0e37\\u0e48\\u0e2d\\u0e19 \\n\\n<<\\u0e42\\u0e1a\\u0e23\\u0e01\\u0e40\\u0e01\\u0e2d\\u0e23\\u0e4c\\u0e08\\u0e2d\\u0e21\\u0e41\\u0e17\\u0e04\\u0e15\\u0e34\\u0e04\\u0e0a\\u0e35\\u0e49\\u0e19\\u0e33>>\\n\\n     \\u0e19\\u0e49\\u0e2d\\u0e07 GB \\u0e41\\u0e25\\u0e30\\u0e17\\u0e35\\u0e21\\u0e07\\u0e32\\u0e19\\u0e21\\u0e32\\u0e40\\u0e22\\u0e37\\u0e2d\\u0e19\\u0e2b\\u0e49\\u0e32\\u0e07\\u0e17\\u0e35\\u0e48\\u0e21\\u0e35\\u0e04\\u0e19\\u0e1e\\u0e25\\u0e38\\u0e01\\u0e1e\\u0e25\\u0e48\\u0e32\\u0e19\\u0e21\\u0e32\\u0e01\\u0e46\\u0e08\\u0e23\\u0e34\\u0e07\\u0e46 \\u0e2b\\u0e25\\u0e31\\u0e07\\u0e08\\u0e32\\u0e01\\u0e41\\u0e2d\\u0e1a\\u0e40\\u0e21\\u0e35\\u0e22\\u0e07\\u0e21\\u0e2d\\u0e07\\u0e23\\u0e49\\u0e32\\u0e19\\u0e19\\u0e35\\u0e49\\u0e21\\u0e32\\u0e19\\u0e32\\u0e19 \\u0e40\\u0e1e\\u0e23\\u0e32\\u0e30\\u0e14\\u0e49\\u0e27\\u0e22\\u0e41\\u0e23\\u0e07\\u0e42\\u0e06\\u0e29\\u0e13\\u0e32\\u0e17\\u0e35\\u0e48\\u0e16\\u0e32\\u0e42\\u0e16\\u0e21\\u0e43\\u0e19\\u0e27\\u0e07\\u0e43\\u0e19\\u0e0b\\u0e30\\u0e19\\u0e48\\u0e32\\u0e17\\u0e32\\u0e19 \\u0e40\\u0e23\\u0e32\\u0e01\\u0e47\\u0e40\\u0e1d\\u0e49\\u0e32\\u0e27\\u0e48\\u0e32\\u0e2d\\u0e22\\u0e32\\u0e01\\u0e44\\u0e1b\\u0e1e\\u0e1a\\u0e1e\\u0e32\\u0e19\\u0e43\\u0e19\\u0e40\\u0e23\\u0e47\\u0e27\\u0e27\\u0e31\\u0e19 \\u0e40\\u0e23\\u0e32\\u0e40\\u0e14\\u0e34\\u0e19\\u0e2b\\u0e32\\u0e2d\\u0e22\\u0e39\\u0e48\\u0e1e\\u0e31\\u0e01\\u0e19\\u0e36\\u0e07 \\u0e17\\u0e35\\u0e21\\u0e07\\u0e32\\u0e19\\u0e27\\u0e48\\u0e32 \\u0e44\\u0e2b\\u0e07\\u0e1a\\u0e2d\\u0e01\\u0e40\\u0e08\\u0e49\\u0e32\\u0e16\\u0e34\\u0e48\\u0e19 \\u0e42\\u0e14\\u0e19\\u0e17\\u0e49\\u0e27\\u0e07\\u0e15\\u0e34\\u0e07\\u0e2d\\u0e22\\u0e48\\u0e32\\u0e07\\u0e23\\u0e38\\u0e19\\u0e41\\u0e23\\u0e07 \\u0e0a\\u0e48\\u0e32\\u0e07\\u0e19\\u0e48\\u0e32\\u0e02\\u0e32\\u0e22\\u0e2b\\u0e19\\u0e49\\u0e32\\u0e08\\u0e23\\u0e34\\u0e07\\u0e46 555+ \\u0e23\\u0e49\\u0e32\\u0e19\\u0e41\\u0e2d\\u0e1a\\u0e46\\u0e21\\u0e32\\u0e2d\\u0e22\\u0e39\\u0e48\\u0e43\\u0e19\\u0e42\\u0e0b\\u0e19\\u0e08\\u0e38\\u0e14\\u0e08\\u0e33\\u0e2b\\u0e19\\u0e48\\u0e32\\u0e22\\u0e40\\u0e2a\\u0e37\\u0e49\\u0e2d\\u0e1c\\u0e49\\u0e32\\u0e41\\u0e25\\u0e30\\u0e23\\u0e2d\\u0e07\\u0e40\\u0e17\\u0e49\\u0e32 \\u0e0b\\u0e36\\u0e48\\u0e07\\u0e40\\u0e22\\u0e37\\u0e49\\u0e2d\\u0e07\\u0e15\\u0e23\\u0e07\\u0e2b\\u0e19\\u0e49\\u0e32\\u0e23\\u0e49\\u0e32\\u0e19\\u0e17\\u0e35\\u0e48\\u0e43\\u0e2b\\u0e49\\u0e40\\u0e0a\\u0e48\\u0e32\\u0e0a\\u0e38\\u0e14\\u0e44\\u0e1b\\u0e07\\u0e32\\u0e19\\u0e41\\u0e15\\u0e48\\u0e07\\u0e07\\u0e32\\u0e19\\u0e19\\u0e34\\u0e14\\u0e46 \\u0e2d\\u0e31\\u0e19\\u0e08\\u0e31\\u0e14\\u0e27\\u0e48\\u0e32 \\u0e40\\u0e08\\u0e49\\u0e32\\u0e02\\u0e2d\\u0e07\\u0e23\\u0e49\\u0e32\\u0e19\\u0e40\\u0e14\\u0e47\\u0e14\\u0e14\\u0e27\\u0e07\\u0e22\\u0e32\\u0e01\\u0e25\\u0e37\\u0e21\\u0e40\\u0e25\\u0e37\\u0e2d\\u0e19 ???????????? (\\u0e19\\u0e2d\\u0e01\\u0e40\\u0e23\\u0e37\\u0e48\\u0e2d\\u0e07\\u0e15\\u0e25\\u0e2d\\u0e14 555+ )\\n\\n     Bon Bon \\u0e40\\u0e1b\\u0e47\\u0e19\\u0e20\\u0e32\\u0e29\\u0e32\\u0e1d\\u0e23\\u0e31\\u0e48\\u0e07\\u0e40\\u0e28\\u0e29 \\u0e2d\\u0e48\\u0e32\\u0e19\\u0e27\\u0e48\\u0e32 \\u0e1a\\u0e07\\u0e1a\\u0e07 \\u0e0b\\u0e36\\u0e48\\u0e07\\u0e41\\u0e1b\\u0e25\\u0e27\\u0e48\\u0e32 \\u0e14\\u0e35\\u0e4a..\\u0e14\\u0e35 (\\u0e01\\u0e23\\u0e38\\u0e13\\u0e32\\u0e17\\u0e33\\u0e40\\u0e2a\\u0e35\\u0e22\\u0e07\\u0e2a\\u0e39\\u0e07\\u0e15\\u0e32\\u0e21\\u0e41\\u0e1a\\u0e1a\\u0e19\\u0e49\\u0e2d\\u0e07\\u0e44\\u0e2d\\u0e0b\\u0e4c 555+)\\u0e2a\\u0e48\\u0e27\\u0e19\\u0e16\\u0e49\\u0e32\\u0e40\\u0e1b\\u0e47\\u0e19 \\u0e40\\u0e1b\\u0e47\\u0e19\\u0e20\\u0e32\\u0e29\\u0e32\\u0e2d\\u0e31\\u0e07\\u0e01\\u0e24\\u0e29 \\u0e2d\\u0e48\\u0e32\\u0e19\\u0e27\\u0e48\\u0e32 \\u0e1a\\u0e2d\\u0e19\\u0e1a\\u0e47\\u0e2d\\u0e19 \\u0e41\\u0e1b\\u0e25\\u0e27\\u0e48\\u0e32 \\u0e02\\u0e19\\u0e21\\u0e2b\\u0e27\\u0e32\\u0e19 \\u0e0b\\u0e36\\u0e48\\u0e07\\u0e14\\u0e39\\u0e41\\u0e25\\u0e49\\u0e27\\u0e40\\u0e08\\u0e49\\u0e32\\u0e02\\u0e2d\\u0e07\\u0e23\\u0e49\\u0e32\\u0e19\\u0e01\\u0e47\\u0e40\\u0e25\\u0e37\\u0e2d\\u0e01\\u0e04\\u0e33\\u0e44\\u0e14\\u0e49\\u0e14\\u0e35\\u0e04\\u0e23\\u0e31\\u0e1a \\u0e40\\u0e1e\\u0e23\\u0e32\\u0e30\\u0e2a\\u0e37\\u0e48\\u0e2d\\u0e04\\u0e27\\u0e32\\u0e21\\u0e2b\\u0e21\\u0e32\\u0e22\\u0e44\\u0e14\\u0e49\\u0e14\\u0e35\\u0e17\\u0e31\\u0e49\\u0e07 2 \\u0e2d\\u0e22\\u0e48\\u0e32\\u0e07 (\\u0e17\\u0e38\\u0e01\\u0e27\\u0e31\\u0e19\\u0e19\\u0e35\\u0e49\\u0e22\\u0e31\\u0e07\\u0e44\\u0e21\\u0e48\\u0e23\\u0e39\\u0e49\\u0e40\\u0e25\\u0e22 \\u0e15\\u0e01\\u0e25\\u0e07\\u0e2d\\u0e48\\u0e32\\u0e19\\u0e27\\u0e48\\u0e32\\u0e2d\\u0e30\\u0e44\\u0e23\\u0e01\\u0e31\\u0e19\\u0e41\\u0e19\\u0e48 555+) \\u0e41\\u0e15\\u0e48\\u0e16\\u0e49\\u0e32\\u0e21\\u0e2d\\u0e07\\u0e14\\u0e49\\u0e27\\u0e22\\u0e23\\u0e39\\u0e1b\\u0e41\\u0e1a\\u0e1a\\u0e41\\u0e25\\u0e30\\u0e25\\u0e27\\u0e14\\u0e25\\u0e32\\u0e22\\u0e07\\u0e32\\u0e21\\u0e46\\u0e41\\u0e25\\u0e49\\u0e27 \\u0e04\\u0e07\\u0e1e\\u0e2d\\u0e17\\u0e23\\u0e32\\u0e1a\\u0e01\\u0e31\\u0e19\\u0e44\\u0e14\\u0e49\\u0e27\\u0e48\\u0e32 \\u0e40\\u0e0a\\u0e1f\\u0e02\\u0e19\\u0e21\\u0e04\\u0e07\\u0e44\\u0e1b\\u0e08\\u0e31\\u0e14 \\u0e04\\u0e2d\\u0e23\\u0e4c\\u0e2a Le Cordon Bleu \\u0e21\\u0e32\\u0e2d\\u0e22\\u0e48\\u0e32\\u0e07\\u0e41\\u0e19\\u0e48\\u0e19\\u0e2d\\u0e19 555+ \\u0e40\\u0e21\\u0e19\\u0e39\\u0e43\\u0e19\\u0e23\\u0e49\\u0e32\\u0e19\\u0e17\\u0e35\\u0e48\\u0e14\\u0e39\\u0e25\\u0e07\\u0e15\\u0e31\\u0e27\\u0e14\\u0e35\\u0e44\\u0e21\\u0e48\\u0e40\\u0e1a\\u0e32 \\u0e14\\u0e49\\u0e27\\u0e22\\u0e40\\u0e04\\u0e23\\u0e37\\u0e48\\u0e2d\\u0e07\\u0e14\\u0e37\\u0e48\\u0e21\\u0e1b\\u0e23\\u0e30\\u0e40\\u0e20\\u0e17\\u0e01\\u0e32\\u0e41\\u0e1f, \\u0e0a\\u0e32, Freppe, Smoothies \\u0e41\\u0e25\\u0e30 Soda \\u0e17\\u0e35\\u0e48\\u0e14\\u0e39\\u0e08\\u0e32\\u0e01\\u0e04\\u0e48\\u0e32\\u0e40\\u0e2a\\u0e35\\u0e22\\u0e2b\\u0e32\\u0e22\\u0e40\\u0e23\\u0e34\\u0e48\\u0e21\\u0e15\\u0e49\\u0e19 \\u0e40\\u0e1e\\u0e35\\u0e22\\u0e07 40 \\u0e01\\u0e27\\u0e48\\u0e32\\u0e1a\\u0e32\\u0e17\\u0e41\\u0e25\\u0e49\\u0e27 \\u0e25\\u0e48\\u0e2d\\u0e15\\u0e32\\u0e25\\u0e48\\u0e2d\\u0e43\\u0e08\\u0e44\\u0e21\\u0e48\\u0e18\\u0e23\\u0e23\\u0e21\\u0e14\\u0e32 \\u0e2b\\u0e31\\u0e19\\u0e2b\\u0e19\\u0e49\\u0e32\\u0e21\\u0e32\\u0e21\\u0e2d\\u0e07\\u0e02\\u0e19\\u0e21\\u0e2b\\u0e27\\u0e32\\u0e19\\u0e01\\u0e31\\u0e19\\u0e1a\\u0e49\\u0e32\\u0e07 \\u0e17\\u0e31\\u0e49\\u0e07 Crepe cake, Cheese cake  \\u0e40\\u0e1b\\u0e47\\u0e19\\u0e15\\u0e49\\u0e19 \\u0e2a\\u0e44\\u0e15\\u0e25\\u0e4c\\u0e1d\\u0e23\\u0e31\\u0e48\\u0e07\\u0e40\\u0e28\\u0e29 \\u0e17\\u0e35\\u0e48\\u0e14\\u0e39\\u0e19\\u0e48\\u0e32\\u0e17\\u0e32\\u0e19\\u0e15\\u0e32\\u0e21\\u0e41\\u0e1a\\u0e1a\\u0e09\\u0e1a\\u0e31\\u0e1a \\u0e1e\\u0e23\\u0e49\\u0e2d\\u0e21\\u0e44\\u0e21\\u0e48\\u0e19\\u0e48\\u0e32\\u0e1e\\u0e25\\u0e32\\u0e14\\u0e01\\u0e31\\u0e1a Set toast, Moose cake \\u0e41\\u0e25\\u0e30 Lava \\u0e17\\u0e35\\u0e48\\u0e19\\u0e48\\u0e32\\u0e15\\u0e32\\u0e19\\u0e48\\u0e32\\u0e17\\u0e32\\u0e19 \\u0e08\\u0e32\\u0e01\\u0e17\\u0e35\\u0e48\\u0e17\\u0e35\\u0e21\\u0e07\\u0e32\\u0e19\\u0e27\\u0e34\\u0e40\\u0e04\\u0e23\\u0e32\\u0e30\\u0e2b\\u0e4c\\u0e40\\u0e21\\u0e48\\u0e32\\u0e1b\\u0e35\\u0e01\\u0e40\\u0e2b\\u0e25\\u0e47\\u0e01\\u0e02\\u0e2d\\u0e07\\u0e40\\u0e23\\u0e32 \\u0e1a\\u0e2d\\u0e01\\u0e23\\u0e32\\u0e04\\u0e32\\u0e40\\u0e1b\\u0e34\\u0e14\\u0e15\\u0e31\\u0e27\\u0e19\\u0e48\\u0e32\\u0e23\\u0e31\\u0e01\\u0e19\\u0e48\\u0e32\\u0e25\\u0e38\\u0e49\\u0e19 \\u0e08\\u0e31\\u0e14\\u0e21\\u0e32\\u0e27\\u0e31\\u0e14\\u0e43\\u0e08\\u0e01\\u0e31\\u0e19\\u0e14\\u0e39\\u0e1e\\u0e2d\\u0e2b\\u0e2d\\u0e21\\u0e1b\\u0e32\\u0e01\\u0e2b\\u0e2d\\u0e21\\u0e04\\u0e2d\\u0e01\\u0e31\\u0e19\\u0e08\\u0e4a\\u0e30...\\n\\n<<\\u0e15\\u0e31\\u0e27\\u0e40\\u0e01\\u0e47\\u0e07\\u0e08\\u0e32\\u0e01\\u0e42\\u0e1e\\u0e22\\u0e40\\u0e17\\u0e1e \\u0e40\\u0e1e\\u0e37\\u0e48\\u0e2d\\u0e2b\\u0e19\\u0e35\\u0e15\\u0e34\\u0e14\\u0e14\\u0e2d\\u0e22 555+>>\\n\\n     - Bon Bon signature ( 65 \\u0e1a\\u0e32\\u0e17 ) ????????????????: \\u0e01\\u0e32\\u0e41\\u0e1f\\u0e2a\\u0e14\\u0e15\\u0e32\\u0e21\\u0e2a\\u0e44\\u0e15\\u0e25\\u0e4c\\u0e02\\u0e2d\\u0e07\\u0e23\\u0e49\\u0e32\\u0e19 \\u0e17\\u0e35\\u0e48\\u0e01\\u0e25\\u0e34\\u0e48\\u0e19\\u0e04\\u0e48\\u0e2d\\u0e19\\u0e02\\u0e49\\u0e32\\u0e07\\u0e19\\u0e48\\u0e32\\u0e23\\u0e31\\u0e01 \\u0e41\\u0e21\\u0e49\\u0e08\\u0e30\\u0e40\\u0e1b\\u0e47\\u0e19\\u0e41\\u0e1a\\u0e1a\\u0e40\\u0e22\\u0e47\\u0e19 \\u0e01\\u0e32\\u0e41\\u0e1f\\u0e17\\u0e35\\u0e48\\u0e1b\\u0e23\\u0e38\\u0e07\\u0e41\\u0e15\\u0e48\\u0e07\\u0e08\\u0e32\\u0e01\\u0e2a\\u0e39\\u0e15\\u0e23\\u0e40\\u0e14\\u0e47\\u0e14\\u0e02\\u0e2d\\u0e07\\u0e23\\u0e49\\u0e32\\u0e19\\u0e19\\u0e33\\u0e21\\u0e32 Shake \\u0e01\\u0e31\\u0e1a\\u0e19\\u0e49\\u0e33\\u0e41\\u0e02\\u0e47\\u0e07 \\u0e41\\u0e25\\u0e30\\u0e1b\\u0e34\\u0e14\\u0e17\\u0e49\\u0e32\\u0e22\\u0e14\\u0e49\\u0e27\\u0e22\\u0e01\\u0e32\\u0e23\\u0e43\\u0e2a\\u0e48\\u0e1f\\u0e2d\\u0e07\\u0e2d\\u0e32\\u0e01\\u0e32\\u0e28\\u0e41\\u0e17\\u0e23\\u0e01\\u0e40\\u0e02\\u0e49\\u0e32\\u0e44\\u0e1b\\u0e43\\u0e19\\u0e1a\\u0e2d\\u0e14\\u0e35\\u0e49 \\u0e40\\u0e1e\\u0e37\\u0e48\\u0e2d\\u0e40\\u0e1e\\u0e34\\u0e48\\u0e21\\u0e23\\u0e2a\\u0e2a\\u0e31\\u0e21\\u0e1c\\u0e31\\u0e2a\\u0e43\\u0e2b\\u0e49\\u0e21\\u0e35\\u0e04\\u0e27\\u0e32\\u0e21\\u0e25\\u0e37\\u0e48\\u0e19\\u0e25\\u0e30\\u0e21\\u0e38\\u0e19 \\u0e08\\u0e32\\u0e01\\u0e1d\\u0e35\\u0e21\\u0e37\\u0e2d Barista \\u0e2a\\u0e38\\u0e14\\u0e2b\\u0e25\\u0e48\\u0e2d \\u0e17\\u0e33\\u0e43\\u0e2b\\u0e49 After test \\u0e02\\u0e2d\\u0e07\\u0e01\\u0e32\\u0e41\\u0e1f\\u0e41\\u0e01\\u0e49\\u0e27\\u0e19\\u0e35\\u0e49 \\u0e14\\u0e39\\u0e21\\u0e35\\u0e2d\\u0e30\\u0e44\\u0e23\\u0e0b\\u0e48\\u0e2d\\u0e19\\u0e2d\\u0e22\\u0e39\\u0e48\\u0e2d\\u0e22\\u0e48\\u0e32\\u0e07\\u0e19\\u0e48\\u0e32\\u0e2a\\u0e19\\u0e43\\u0e08 \\u0e41\\u0e21\\u0e49\\u0e04\\u0e48\\u0e32\\u0e15\\u0e31\\u0e27\\u0e08\\u0e30\\u0e14\\u0e39\\u0e15\\u0e48\\u0e33\\u0e15\\u0e49\\u0e2d\\u0e22 \\u0e41\\u0e15\\u0e48\\u0e14\\u0e35\\u0e07\\u0e32\\u0e21\\u0e44\\u0e21\\u0e48\\u0e19\\u0e49\\u0e2d\\u0e22 \\u0e19\\u0e48\\u0e32\\u0e1b\\u0e23\\u0e30\\u0e17\\u0e31\\u0e1a\\u0e43\\u0e08\\u0e04\\u0e23\\u0e31\\u0e1a....\\n\\n     - Banoffee chocco freappe ( 85 \\u0e1a\\u0e32\\u0e17 ) ????????????: \\u0e0a\\u0e47\\u0e2d\\u0e01\\u0e42\\u0e01\\u0e41\\u0e25\\u0e15\\u0e17\\u0e35\\u0e48\\u0e1c\\u0e2a\\u0e21\\u0e01\\u0e31\\u0e1a\\u0e44\\u0e0b\\u0e23\\u0e31\\u0e1b\\u0e04\\u0e32\\u0e23\\u0e40\\u0e21\\u0e25\\u0e19\\u0e33\\u0e44\\u0e1b\\u0e1b\\u0e31\\u0e48\\u0e19\\u0e08\\u0e19\\u0e40\\u0e19\\u0e37\\u0e49\\u0e2d\\u0e40\\u0e19\\u0e35\\u0e22\\u0e19\\u0e40\\u0e02\\u0e49\\u0e32\\u0e01\\u0e31\\u0e19\\u0e14\\u0e35 \\u0e44\\u0e21\\u0e48\\u0e21\\u0e35\\u0e40\\u0e01\\u0e23\\u0e47\\u0e14 \\u0e40\\u0e19\\u0e37\\u0e49\\u0e2d\\u0e2d\\u0e2d\\u0e01\\u0e40\\u0e02\\u0e49\\u0e21\\u0e02\\u0e49\\u0e19 \\u0e40\\u0e2b\\u0e19\\u0e35\\u0e22\\u0e21\\u0e2b\\u0e19\\u0e36\\u0e1a\\u0e14\\u0e35\\u0e43\\u0e0a\\u0e49\\u0e44\\u0e14\\u0e49 \\u0e43\\u0e2b\\u0e49\\u0e23\\u0e2a\\u0e2b\\u0e27\\u0e32\\u0e19 \\u0e21\\u0e31\\u0e19\\u0e46 \\u0e44\\u0e14\\u0e49\\u0e43\\u0e08\\u0e1e\\u0e2d\\u0e04\\u0e27\\u0e23 \\u0e1b\\u0e23\\u0e30\\u0e14\\u0e31\\u0e1a\\u0e14\\u0e49\\u0e27\\u0e22\\u0e01\\u0e25\\u0e49\\u0e27\\u0e22\\u0e2b\\u0e2d\\u0e21\\u0e2b\\u0e31\\u0e48\\u0e19 \\u0e41\\u0e25\\u0e30\\u0e0a\\u0e47\\u0e2d\\u0e01\\u0e42\\u0e01\\u0e41\\u0e25\\u0e15\\u0e0a\\u0e34\\u0e1e\\u0e14\\u0e49\\u0e32\\u0e19\\u0e1a\\u0e19 \\u0e1b\\u0e34\\u0e14\\u0e17\\u0e49\\u0e32\\u0e22\\u0e14\\u0e49\\u0e32\\u0e19\\u0e1a\\u0e19\\u0e23\\u0e32\\u0e14\\u0e44\\u0e0b\\u0e23\\u0e31\\u0e1b \\u0e40\\u0e1e\\u0e34\\u0e48\\u0e21\\u0e04\\u0e27\\u0e32\\u0e21\\u0e2b\\u0e27\\u0e32\\u0e19\\u0e21\\u0e31\\u0e19 \\u0e40\\u0e02\\u0e49\\u0e21\\u0e02\\u0e49\\u0e19 \\u0e14\\u0e35\\u0e43\\u0e0a\\u0e49\\u0e44\\u0e14\\u0e49\\u0e40\\u0e25\\u0e22\\u0e04\\u0e23\\u0e31\\u0e1a\\n\\n     - Santa cat set ( 139 \\u0e1a\\u0e32\\u0e17 ) ????????????: \\u0e41\\u0e21\\u0e27\\u0e40\\u0e2b\\u0e21\\u0e35\\u0e22\\u0e27\\u0e08\\u0e21\\u0e39\\u0e01\\u0e1f\\u0e49\\u0e32\\u0e2a\\u0e38\\u0e14\\u0e19\\u0e48\\u0e32\\u0e23\\u0e31\\u0e01\\u0e15\\u0e49\\u0e2d\\u0e19\\u0e23\\u0e31\\u0e1a\\u0e40\\u0e17\\u0e28\\u0e01\\u0e32\\u0e25\\u0e04\\u0e23\\u0e34\\u0e2a\\u0e21\\u0e32\\u0e2a\\u0e17\\u0e4c (\\u0e04\\u0e19\\u0e2d\\u0e48\\u0e32\\u0e19\\u0e16\\u0e32\\u0e21 : \\u0e14\\u0e2d\\u0e07\\u0e23\\u0e35\\u0e27\\u0e34\\u0e27\\u0e2d\\u0e35\\u0e01\\u0e41\\u0e25\\u0e49\\u0e27\\u0e43\\u0e0a\\u0e48\\u0e44\\u0e2b\\u0e21\\u0e04\\u0e48\\u0e30 ...555+) \\u0e0a\\u0e47\\u0e2d\\u0e01\\u0e42\\u0e01\\u0e41\\u0e25\\u0e15\\u0e21\\u0e39\\u0e2a\\u0e40\\u0e19\\u0e37\\u0e49\\u0e2d\\u0e1a\\u0e32\\u0e07\\u0e40\\u0e1a\\u0e32 \\u0e2d\\u0e2d\\u0e01\\u0e2b\\u0e27\\u0e32\\u0e19 \\u0e02\\u0e21 \\u0e40\\u0e02\\u0e49\\u0e21\\u0e14\\u0e35\\u0e43\\u0e0a\\u0e49\\u0e44\\u0e14\\u0e49 \\u0e40\\u0e19\\u0e37\\u0e49\\u0e2d\\u0e25\\u0e30\\u0e21\\u0e38\\u0e19\\u0e46\\u0e25\\u0e30\\u0e40\\u0e2d\\u0e35\\u0e22\\u0e14\\u0e1e\\u0e2d\\u0e04\\u0e27\\u0e23 \\u0e2b\\u0e48\\u0e2d\\u0e2b\\u0e38\\u0e49\\u0e21\\u0e04\\u0e38\\u0e49\\u0e21\\u0e01\\u0e31\\u0e19\\u0e0a\\u0e47\\u0e2d\\u0e01\\u0e42\\u0e01\\u0e41\\u0e25\\u0e15\\u0e17\\u0e35\\u0e48\\u0e2b\\u0e27\\u0e32\\u0e19 \\u0e40\\u0e02\\u0e49\\u0e21\\u0e40\\u0e1b\\u0e47\\u0e19\\u0e01\\u0e49\\u0e2d\\u0e19\\u0e43\\u0e2b\\u0e0d\\u0e48\\u0e2d\\u0e22\\u0e39\\u0e48\\u0e14\\u0e49\\u0e32\\u0e19\\u0e43\\u0e19 \\u0e43\\u0e2b\\u0e49\\u0e44\\u0e14\\u0e49 Surprise \\u0e01\\u0e31\\u0e1a\\u0e15\\u0e31\\u0e1a\\u0e44\\u0e15\\u0e02\\u0e2d\\u0e07\\u0e19\\u0e49\\u0e2d\\u0e07\\u0e40\\u0e2b\\u0e21\\u0e35\\u0e22\\u0e27 555+ \\u0e21\\u0e35\\u0e2b\\u0e21\\u0e27\\u0e01\\u0e27\\u0e34\\u0e1b\\u0e04\\u0e23\\u0e35\\u0e21\\u0e41\\u0e25\\u0e30\\u0e2a\\u0e15\\u0e23\\u0e2d\\u0e40\\u0e1a\\u0e2d\\u0e23\\u0e4c\\u0e23\\u0e35\\u0e48\\u0e2a\\u0e14\\u0e1b\\u0e23\\u0e30\\u0e14\\u0e31\\u0e1a\\u0e44\\u0e27\\u0e49\\u0e14\\u0e49\\u0e32\\u0e19\\u0e1a\\u0e19\\u0e46 \\u0e17\\u0e32\\u0e19\\u0e04\\u0e39\\u0e48\\u0e01\\u0e31\\u0e1a\\u0e04\\u0e31\\u0e2a\\u0e15\\u0e32\\u0e23\\u0e4c\\u0e14\\u0e17\\u0e35\\u0e48\\u0e21\\u0e35\\u0e41\\u0e22\\u0e21\\u0e2a\\u0e15\\u0e23\\u0e2d\\u0e40\\u0e1a\\u0e2d\\u0e23\\u0e4c\\u0e23\\u0e35\\u0e48\\u0e2a\\u0e35\\u0e2a\\u0e27\\u0e22\\u0e19\\u0e2d\\u0e19\\u0e17\\u0e31\\u0e1a\\u0e2d\\u0e22\\u0e39\\u0e48\\u0e14\\u0e49\\u0e32\\u0e19\\u0e1a\\u0e19 \\u0e43\\u0e2b\\u0e49\\u0e23\\u0e2a\\u0e40\\u0e1b\\u0e23\\u0e35\\u0e49\\u0e22\\u0e27\\u0e41\\u0e25\\u0e30\\u0e2b\\u0e27\\u0e32\\u0e19\\u0e15\\u0e31\\u0e14\\u0e01\\u0e31\\u0e19 \\u0e19\\u0e38\\u0e48\\u0e21\\u0e46\\u0e25\\u0e37\\u0e48\\u0e19\\u0e46\\u0e2b\\u0e22\\u0e38\\u0e48\\u0e19\\u0e46\\u0e1e\\u0e2d\\u0e14\\u0e34\\u0e1a\\u0e1e\\u0e2d\\u0e14\\u0e35 \\u0e41\\u0e25\\u0e30\\u0e21\\u0e35\\u0e40\\u0e1e\\u0e37\\u0e48\\u0e2d\\u0e19\\u0e44\\u0e2d\\u0e28\\u0e04\\u0e23\\u0e35\\u0e21\\u0e27\\u0e32\\u0e19\\u0e34\\u0e25\\u0e25\\u0e32\\u0e01\\u0e49\\u0e2d\\u0e19\\u0e42\\u0e15 \\u0e40\\u0e19\\u0e37\\u0e49\\u0e2d\\u0e40\\u0e2b\\u0e25\\u0e37\\u0e2d\\u0e07\\u0e02\\u0e32\\u0e27\\u0e2a\\u0e27\\u0e22 \\u0e40\\u0e19\\u0e35\\u0e22\\u0e19\\u0e1e\\u0e2d\\u0e44\\u0e14\\u0e49 \\u0e23\\u0e2a\\u0e2b\\u0e27\\u0e32\\u0e19 \\u0e2b\\u0e2d\\u0e21\\u0e18\\u0e23\\u0e23\\u0e21\\u0e14\\u0e32\\u0e04\\u0e23\\u0e31\\u0e1a\\n\\n<<\\u0e1b\\u0e34\\u0e14\\u0e15\\u0e25\\u0e32\\u0e14\\u0e0b\\u0e37\\u0e49\\u0e2d\\u0e02\\u0e32\\u0e22 \\u0e40\\u0e02\\u0e35\\u0e22\\u0e27\\u0e2b\\u0e23\\u0e37\\u0e2d\\u0e41\\u0e14\\u0e07\\u0e21\\u0e32\\u0e25\\u0e38\\u0e49\\u0e19>>\\n\\n     >\\u0e23\\u0e2a\\u0e0a\\u0e32\\u0e15\\u0e34 \\u2013 3.5/5 : \\u0e01\\u0e32\\u0e41\\u0e1f\\u0e17\\u0e33\\u0e44\\u0e14\\u0e49\\u0e14\\u0e35\\u0e41\\u0e25\\u0e49\\u0e27\\u0e04\\u0e23\\u0e31\\u0e1a \\u0e21\\u0e35\\u0e04\\u0e27\\u0e32\\u0e21\\u0e40\\u0e1b\\u0e47\\u0e19\\u0e40\\u0e2d\\u0e01\\u0e25\\u0e31\\u0e01\\u0e29\\u0e13\\u0e4c\\u0e14\\u0e35\\u0e43\\u0e0a\\u0e49\\u0e44\\u0e14\\u0e49 \\u0e23\\u0e2a \\u0e01\\u0e25\\u0e34\\u0e48\\u0e19 \\u0e1a\\u0e2d\\u0e14\\u0e35\\u0e49 after test \\u0e21\\u0e32\\u0e43\\u0e19\\u0e40\\u0e01\\u0e13\\u0e11\\u0e4c\\u0e14\\u0e35\\u0e40\\u0e25\\u0e22 \\u0e2d\\u0e35\\u0e01\\u0e41\\u0e01\\u0e49\\u0e27\\u0e22\\u0e31\\u0e07\\u0e44\\u0e21\\u0e48\\u0e1b\\u0e23\\u0e30\\u0e17\\u0e31\\u0e1a\\u0e43\\u0e08\\u0e21\\u0e32\\u0e01\\u0e19\\u0e31\\u0e01 \\u0e23\\u0e39\\u0e49\\u0e2a\\u0e36\\u0e01\\u0e22\\u0e31\\u0e07\\u0e18\\u0e23\\u0e23\\u0e21\\u0e14\\u0e32\\u0e44\\u0e1b\\u0e2b\\u0e19\\u0e48\\u0e2d\\u0e22 \\u0e44\\u0e2d\\u0e40\\u0e14\\u0e35\\u0e22\\u0e14\\u0e35\\u0e41\\u0e25\\u0e49\\u0e27 \\u0e40\\u0e02\\u0e49\\u0e21\\u0e02\\u0e49\\u0e19\\u0e1b\\u0e32\\u0e19\\u0e01\\u0e25\\u0e32\\u0e07 \\u0e41\\u0e15\\u0e48\\u0e01\\u0e25\\u0e34\\u0e48\\u0e19\\u0e44\\u0e21\\u0e48\\u0e21\\u0e32 \\u0e41\\u0e25\\u0e30\\u0e22\\u0e31\\u0e07\\u0e2a\\u0e37\\u0e48\\u0e2d\\u0e44\\u0e21\\u0e48\\u0e16\\u0e36\\u0e07\\u0e23\\u0e2a\\u0e02\\u0e2d\\u0e07\\u0e1b\\u0e25\\u0e32\\u0e22\\u0e17\\u0e32\\u0e07\\u0e04\\u0e23\\u0e31\\u0e1a \\u0e2a\\u0e48\\u0e27\\u0e19\\u0e02\\u0e19\\u0e21\\u0e22\\u0e31\\u0e07\\u0e44\\u0e21\\u0e48\\u0e2a\\u0e38\\u0e14\\u0e40\\u0e0a\\u0e48\\u0e19\\u0e01\\u0e31\\u0e19\\u0e04\\u0e23\\u0e31\\u0e1a \\u0e22\\u0e31\\u0e07\\u0e44\\u0e21\\u0e48\\u0e40\\u0e02\\u0e49\\u0e21\\u0e02\\u0e49\\u0e19 \\u0e2b\\u0e27\\u0e32\\u0e19\\u0e21\\u0e31\\u0e19\\u0e14\\u0e31\\u0e48\\u0e07\\u0e04\\u0e27\\u0e32\\u0e21\\u0e1e\\u0e36\\u0e07\\u0e1e\\u0e2d\\u0e43\\u0e08 \\u0e23\\u0e2a\\u0e0a\\u0e32\\u0e15\\u0e34\\u0e14\\u0e35\\u0e43\\u0e0a\\u0e49\\u0e44\\u0e14\\u0e49 \\u0e27\\u0e31\\u0e15\\u0e16\\u0e38\\u0e14\\u0e35\\u0e08\\u0e31\\u0e14\\u0e40\\u0e15\\u0e47\\u0e21\\u0e1e\\u0e2d\\u0e2a\\u0e21\\u0e04\\u0e27\\u0e23  \\u0e04\\u0e27\\u0e32\\u0e21\\u0e2b\\u0e2d\\u0e21\\u0e22\\u0e31\\u0e07\\u0e44\\u0e21\\u0e48\\u0e0a\\u0e31\\u0e14\\u0e40\\u0e14\\u0e48\\u0e19 \\u0e2a\\u0e35\\u0e2a\\u0e35\\u0e19\\u0e19\\u0e48\\u0e32\\u0e17\\u0e32\\u0e19\\u0e14\\u0e35\\u0e43\\u0e0a\\u0e49\\u0e44\\u0e14\\u0e49\\u0e04\\u0e23\\u0e31\\u0e1a \\u0e14\\u0e49\\u0e27\\u0e22\\u0e04\\u0e27\\u0e32\\u0e21\\u0e40\\u0e04\\u0e32\\u0e23\\u0e1e...\\n\\n     >\\u0e23\\u0e32\\u0e04\\u0e32 \\u2013 4/5 : \\u0e04\\u0e1a\\u0e2b\\u0e32\\u0e44\\u0e14\\u0e49 \\u0e09\\u0e31\\u0e19\\u0e21\\u0e34\\u0e15\\u0e23\\u0e2a\\u0e19\\u0e34\\u0e17 \\u0e23\\u0e32\\u0e04\\u0e32\\u0e19\\u0e38\\u0e48\\u0e19\\u0e08\\u0e19\\u0e19\\u0e48\\u0e32\\u0e2a\\u0e19\\u0e43\\u0e08\\u0e44\\u0e21\\u0e48\\u0e19\\u0e49\\u0e2d\\u0e22\\u0e40\\u0e25\\u0e22 (\\u0e43\\u0e19\\u0e1a\\u0e32\\u0e07\\u0e40\\u0e21\\u0e19\\u0e39 555+) \\u0e04\\u0e38\\u0e13\\u0e20\\u0e32\\u0e1e\\u0e2d\\u0e22\\u0e39\\u0e48\\u0e43\\u0e19\\u0e40\\u0e01\\u0e13\\u0e11\\u0e4c\\u0e14\\u0e35 \\u0e19\\u0e48\\u0e32\\u0e1e\\u0e36\\u0e07\\u0e1e\\u0e2d\\u0e43\\u0e08\\u0e17\\u0e31\\u0e49\\u0e07\\u0e27\\u0e31\\u0e15\\u0e16\\u0e38\\u0e14\\u0e34\\u0e1a\\u0e41\\u0e25\\u0e30\\u0e1b\\u0e23\\u0e34\\u0e21\\u0e32\\u0e13 \\u0e02\\u0e19\\u0e21\\u0e1b\\u0e23\\u0e34\\u0e21\\u0e32\\u0e13\\u0e14\\u0e39\\u0e40\\u0e2b\\u0e21\\u0e32\\u0e30\\u0e2a\\u0e21\\u0e42\\u0e2d\\u0e40\\u0e04 \\u0e04\\u0e38\\u0e13\\u0e20\\u0e32\\u0e1e\\u0e14\\u0e39\\u0e14\\u0e35\\u0e43\\u0e0a\\u0e49\\u0e44\\u0e14\\u0e49 \\u0e41\\u0e21\\u0e49\\u0e22\\u0e31\\u0e07\\u0e44\\u0e21\\u0e48\\u0e27\\u0e49\\u0e32\\u0e27\\u0e41\\u0e1a\\u0e1a\\u0e1b\\u0e32\\u0e01\\u0e01\\u0e27\\u0e49\\u0e32\\u0e07\\u0e01\\u0e47\\u0e15\\u0e32\\u0e21 \\u0e19\\u0e49\\u0e33\\u0e14\\u0e37\\u0e48\\u0e21\\u0e1f\\u0e23\\u0e35\\u0e21\\u0e35\\u0e43\\u0e2b\\u0e49\\u0e1a\\u0e23\\u0e34\\u0e01\\u0e32\\u0e23\\u0e15\\u0e31\\u0e27\\u0e40\\u0e2d\\u0e07 \\u0e40\\u0e08\\u0e2d\\u0e44\\u0e1b\\u0e41\\u0e04\\u0e48\\u0e19\\u0e35\\u0e49 \\u0e19\\u0e49\\u0e2d\\u0e07 GB \\u0e01\\u0e47 Happy \\u0e14\\u0e35\\u0e4a\\u0e14\\u0e35\\u0e41\\u0e25\\u0e49\\u0e27\\u0e08\\u0e4a\\u0e30\\n\\n     >\\u0e1a\\u0e23\\u0e23\\u0e22\\u0e32\\u0e01\\u0e32\\u0e28 \\u2013 3.5/5 : \\u0e23\\u0e49\\u0e32\\u0e19\\u0e02\\u0e19\\u0e32\\u0e14\\u0e1e\\u0e2d\\u0e14\\u0e35\\u0e46\\u0e04\\u0e23\\u0e31\\u0e1a \\u0e44\\u0e21\\u0e48\\u0e44\\u0e14\\u0e49\\u0e01\\u0e27\\u0e49\\u0e32\\u0e07\\u0e02\\u0e27\\u0e32\\u0e07\\u0e43\\u0e2b\\u0e0d\\u0e48\\u0e42\\u0e15\\u0e21\\u0e32\\u0e01\\u0e21\\u0e32\\u0e22\\u0e41\\u0e15\\u0e48\\u0e01\\u0e47\\u0e19\\u0e31\\u0e48\\u0e07\\u0e2a\\u0e1a\\u0e32\\u0e22\\u0e46\\u0e1e\\u0e2d\\u0e2a\\u0e21\\u0e04\\u0e27\\u0e23 \\u0e14\\u0e49\\u0e27\\u0e22\\u0e40\\u0e01\\u0e49\\u0e32\\u0e2d\\u0e35\\u0e49\\u0e2a\\u0e35\\u0e41\\u0e14\\u0e07\\u0e41\\u0e1b\\u0e23\\u0e4a\\u0e14\\u0e41\\u0e15\\u0e48\\u0e19\\u0e31\\u0e48\\u0e07\\u0e19\\u0e34\\u0e48\\u0e21\\u0e46\\u0e19\\u0e38\\u0e48\\u0e21\\u0e46\\u0e14\\u0e35 \\u0e17\\u0e32\\u0e19\\u0e01\\u0e31\\u0e1a\\u0e42\\u0e15\\u0e4a\\u0e30\\u0e41\\u0e1a\\u0e1a\\u0e01\\u0e25\\u0e21 5-6 \\u0e17\\u0e35\\u0e48 \\u0e17\\u0e35\\u0e48\\u0e04\\u0e48\\u0e2d\\u0e19\\u0e02\\u0e49\\u0e32\\u0e07\\u0e40\\u0e25\\u0e47\\u0e01\\u0e44\\u0e1b\\u0e19\\u0e34\\u0e14 \\u0e27\\u0e32\\u0e07\\u0e02\\u0e19\\u0e21\\u0e19\\u0e49\\u0e33\\u0e17\\u0e35\\u0e19\\u0e35\\u0e48\\u0e40\\u0e15\\u0e47\\u0e21\\u0e42\\u0e15\\u0e4a\\u0e30\\u0e44\\u0e21\\u0e48\\u0e40\\u0e1a\\u0e32 555+ \\u0e41\\u0e2d\\u0e23\\u0e4c\\u0e40\\u0e22\\u0e47\\u0e19\\u0e2a\\u0e1a\\u0e32\\u0e22\\u0e46 \\u0e40\\u0e1b\\u0e47\\u0e19\\u0e23\\u0e30\\u0e40\\u0e1a\\u0e35\\u0e22\\u0e1a\\u0e41\\u0e25\\u0e30\\u0e2a\\u0e30\\u0e2d\\u0e32\\u0e14\\u0e2a\\u0e30\\u0e2d\\u0e49\\u0e32\\u0e19\\u0e14\\u0e35\\u0e04\\u0e23\\u0e31\\u0e1a\\n\\n     >\\u0e1a\\u0e23\\u0e34\\u0e01\\u0e32\\u0e23 \\u2013 4.5/5 : \\u0e19\\u0e49\\u0e2d\\u0e07\\u0e17\\u0e35\\u0e48\\u0e15\\u0e49\\u0e2d\\u0e19\\u0e23\\u0e31\\u0e1a\\u0e40\\u0e23\\u0e32\\u0e41\\u0e25\\u0e30 Barista \\u0e17\\u0e35\\u0e48\\u0e04\\u0e32\\u0e14\\u0e27\\u0e48\\u0e32\\u0e08\\u0e30\\u0e40\\u0e1b\\u0e47\\u0e19\\u0e40\\u0e08\\u0e49\\u0e32\\u0e02\\u0e2d\\u0e07\\u0e23\\u0e49\\u0e32\\u0e19 \\u0e14\\u0e39\\u0e41\\u0e25\\u0e40\\u0e23\\u0e32\\u0e40\\u0e1b\\u0e47\\u0e19\\u0e2d\\u0e22\\u0e48\\u0e32\\u0e07\\u0e14\\u0e35\\u0e04\\u0e23\\u0e31\\u0e1a \\u0e22\\u0e34\\u0e49\\u0e21\\u0e41\\u0e22\\u0e49\\u0e21\\u0e41\\u0e08\\u0e48\\u0e21\\u0e43\\u0e2a\\u0e41\\u0e25\\u0e30\\u0e1e\\u0e39\\u0e14\\u0e08\\u0e32\\u0e2a\\u0e38\\u0e20\\u0e32\\u0e1e\\u0e40\\u0e23\\u0e35\\u0e22\\u0e1a\\u0e23\\u0e49\\u0e2d\\u0e22 \\u0e41\\u0e21\\u0e49\\u0e08\\u0e30\\u0e2d\\u0e2d\\u0e01\\u0e40\\u0e1a\\u0e32\\u0e46\\u0e44\\u0e1b\\u0e2b\\u0e19\\u0e48\\u0e2d\\u0e22 555+ \\u0e43\\u0e2b\\u0e49\\u0e04\\u0e33\\u0e41\\u0e19\\u0e30\\u0e19\\u0e33\\u0e14\\u0e35 \\u0e19\\u0e33\\u0e40\\u0e2a\\u0e34\\u0e23\\u0e4c\\u0e1f\\u0e16\\u0e36\\u0e07\\u0e42\\u0e15\\u0e4a\\u0e30 \\u0e17\\u0e48\\u0e32\\u0e17\\u0e32\\u0e07\\u0e14\\u0e35\\u0e07\\u0e32\\u0e21 \\u0e1b\\u0e23\\u0e30\\u0e19\\u0e1a\\u0e19\\u0e49\\u0e2d\\u0e21 \\u0e02\\u0e2d\\u0e1a\\u0e04\\u0e38\\u0e13\\u0e17\\u0e38\\u0e01\\u0e01\\u0e23\\u0e30\\u0e1a\\u0e27\\u0e19\\u0e17\\u0e48\\u0e32\\u0e02\\u0e2d\\u0e07\\u0e40\\u0e23\\u0e32 555+ \\u0e40\\u0e0a\\u0e35\\u0e22\\u0e23\\u0e4c\\u0e41\\u0e02\\u0e01\\u0e14\\u0e35\\u0e43\\u0e0a\\u0e49\\u0e44\\u0e14\\u0e49 \\u0e19\\u0e48\\u0e32\\u0e40\\u0e2a\\u0e35\\u0e22\\u0e14\\u0e32\\u0e22\\u0e44\\u0e1b\\u0e2b\\u0e19\\u0e48\\u0e2d\\u0e22 \\u0e16\\u0e49\\u0e32\\u0e1a\\u0e2d\\u0e01\\u0e40\\u0e23\\u0e37\\u0e48\\u0e2d\\u0e07\\u0e19\\u0e49\\u0e33\\u0e14\\u0e37\\u0e48\\u0e21\\u0e1f\\u0e23\\u0e35\\u0e17\\u0e35\\u0e48\\u0e2b\\u0e31\\u0e27\\u0e21\\u0e38\\u0e21\\u0e40\\u0e1e\\u0e34\\u0e48\\u0e21 \\u0e2a\\u0e33\\u0e2b\\u0e23\\u0e31\\u0e1a\\u0e25\\u0e39\\u0e01\\u0e04\\u0e49\\u0e32\\u0e17\\u0e35\\u0e48\\u0e40\\u0e02\\u0e49\\u0e32\\u0e21\\u0e32\\u0e41\\u0e25\\u0e49\\u0e27 \\u0e08\\u0e30\\u0e14\\u0e35\\u0e07\\u0e32\\u0e21\\u0e44\\u0e21\\u0e48\\u0e19\\u0e49\\u0e2d\\u0e22\\u0e04\\u0e23\\u0e31\\u0e1a \\u0e01\\u0e32\\u0e23\\u0e40\\u0e15\\u0e23\\u0e35\\u0e22\\u0e21\\u0e2d\\u0e32\\u0e2b\\u0e32\\u0e23\\u0e23\\u0e27\\u0e14\\u0e40\\u0e23\\u0e47\\u0e27\\u0e14\\u0e35\\u0e43\\u0e0a\\u0e49\\u0e44\\u0e14\\u0e49 \\u0e2a\\u0e16\\u0e32\\u0e19\\u0e17\\u0e35\\u0e48\\u0e08\\u0e2d\\u0e14\\u0e23\\u0e16\\u0e1e\\u0e2d\\u0e1e\\u0e36\\u0e48\\u0e07\\u0e1e\\u0e32\\u0e44\\u0e14\\u0e49\\u0e43\\u0e19\\u0e23\\u0e30\\u0e14\\u0e31\\u0e1a\\u0e19\\u0e36\\u0e07\\u0e04\\u0e23\\u0e31\\u0e1a\\n\\n<< \\u0e1b\\u0e23\\u0e30\\u0e01\\u0e32\\u0e28\\u0e1c\\u0e25\\u0e1b\\u0e23\\u0e30\\u0e01\\u0e2d\\u0e1a\\u0e01\\u0e32\\u0e23 >>\\n\\n     \\u0e25\\u0e07\\u0e17\\u0e38\\u0e19\\u0e41\\u0e25\\u0e49\\u0e27 \\u0e14\\u0e39\\u0e41\\u0e25\\u0e14\\u0e35 \\u0e21\\u0e35\\u0e01\\u0e33\\u0e44\\u0e23\\u0e41\\u0e1a\\u0e1a\\u0e19\\u0e35\\u0e49 \\u0e1e\\u0e35\\u0e48\\u0e15\\u0e49\\u0e2d\\u0e07\\u0e15\\u0e32\\u0e21\\u0e15\\u0e34\\u0e14\\u0e1c\\u0e25\\u0e01\\u0e31\\u0e19\\u0e22\\u0e32\\u0e27\\u0e46\\u0e41\\u0e19\\u0e48\\u0e08\\u0e4a\\u0e30\\n\\n ===================================\\n\\n     \\u201c \\u0e23\\u0e35\\u0e27\\u0e34\\u0e27\\u0e17\\u0e38\\u0e01\\u0e09\\u0e1a\\u0e31\\u0e1a \\u0e44\\u0e21\\u0e48\\u0e40\\u0e2b\\u0e21\\u0e32\\u0e30\\u0e2a\\u0e33\\u0e2b\\u0e23\\u0e31\\u0e1a\\u0e40\\u0e08\\u0e49\\u0e32\\u0e02\\u0e2d\\u0e07\\u0e23\\u0e49\\u0e32\\u0e19\\u0e43\\u0e08\\u0e41\\u0e04\\u0e1a \\u0e2b\\u0e25\\u0e07\\u0e43\\u0e2b\\u0e25 \\u0e2b\\u0e21\\u0e01\\u0e21\\u0e38\\u0e48\\u0e19 \\u0e41\\u0e25\\u0e30\\u0e1c\\u0e39\\u0e49\\u0e17\\u0e35\\u0e48\\u0e44\\u0e21\\u0e48\\u0e23\\u0e39\\u0e49\\u0e08\\u0e31\\u0e01\\u0e1c\\u0e34\\u0e14\\u0e0a\\u0e2d\\u0e1a\\u0e0a\\u0e31\\u0e48\\u0e27\\u0e14\\u0e35\\u0e02\\u0e2d\\u0e07\\u0e15\\u0e19\\u0e40\\u0e2d\\u0e07 \\u0e42\\u0e1b\\u0e23\\u0e14\\u0e2d\\u0e22\\u0e48\\u0e32\\u0e17\\u0e33\\u0e15\\u0e31\\u0e27\\u0e42\\u0e25\\u0e01\\u0e41\\u0e04\\u0e1a \\u0e04\\u0e27\\u0e23\\u0e2b\\u0e31\\u0e14\\u0e40\\u0e1b\\u0e34\\u0e14\\u0e2b\\u0e39\\u0e40\\u0e1b\\u0e34\\u0e14\\u0e15\\u0e32\\u0e40\\u0e1b\\u0e34\\u0e14\\u0e01\\u0e30\\u0e25\\u0e32\\u0e40\\u0e1b\\u0e34\\u0e14\\u0e43\\u0e08\\u0e01\\u0e31\\u0e19\\u0e1a\\u0e49\\u0e32\\u0e07 \\u0e40\\u0e1e\\u0e37\\u0e48\\u0e2d\\u0e01\\u0e32\\u0e23\\u0e1b\\u0e23\\u0e31\\u0e1a\\u0e1b\\u0e23\\u0e38\\u0e07\\u0e43\\u0e19\\u0e17\\u0e38\\u0e01\\u0e46\\u0e14\\u0e49\\u0e32\\u0e19 \\u0e25\\u0e39\\u0e01\\u0e04\\u0e49\\u0e32\\u0e04\\u0e37\\u0e2d\\u0e1e\\u0e23\\u0e30\\u0e40\\u0e08\\u0e49\\u0e32 \\u0e1e\\u0e23\\u0e30\\u0e40\\u0e08\\u0e49\\u0e32\\u0e21\\u0e35\\u0e14\\u0e35 \\u0e21\\u0e35\\u0e07\\u0e35\\u0e48\\u0e40\\u0e07\\u0e48\\u0e32\\u0e1a\\u0e49\\u0e32\\u0e07 \\u0e21\\u0e31\\u0e19\\u0e40\\u0e1b\\u0e47\\u0e19\\u0e40\\u0e23\\u0e37\\u0e48\\u0e2d\\u0e07\\u0e1b\\u0e01\\u0e15\\u0e34 \\u0e41\\u0e15\\u0e48...\\u0e1e\\u0e23\\u0e30\\u0e40\\u0e08\\u0e49\\u0e32\\u0e40\\u0e2d\\u0e32\\u0e15\\u0e31\\u0e07\\u0e21\\u0e32\\u0e43\\u0e2b\\u0e49\\u0e04\\u0e38\\u0e13\\u0e43\\u0e0a\\u0e49 \\u0e44\\u0e21\\u0e48\\u0e44\\u0e14\\u0e49\\u0e02\\u0e2d\\u0e17\\u0e32\\u0e19\\u0e1f\\u0e23\\u0e35\\u0e19\\u0e30\\u0e04\\u0e23\\u0e31\\u0e1a \\u201d\\n\\nJust enjoy it\\u2026!!!  Flamboyant and frank review by GB.\\n\\n\",\n          \"\\u0e23\\u0e49\\u0e32\\u0e19 Buttercup \\u0e23\\u0e49\\u0e32\\u0e19\\u0e01\\u0e32\\u0e41\\u0e1f\\u0e1a\\u0e23\\u0e23\\u0e22\\u0e32\\u0e01\\u0e32\\u0e28\\u0e14\\u0e35\\u0e21\\u0e32\\u0e01\\u0e46 \\u0e2d\\u0e22\\u0e39\\u0e48\\u0e43\\u0e19\\u0e0b\\u0e2d\\u0e22\\u0e28\\u0e39\\u0e19\\u0e22\\u0e4c\\u0e27\\u0e34\\u0e08\\u0e31\\u0e22 \\u0e0a\\u0e31\\u0e49\\u0e19\\u0e25\\u0e48\\u0e32\\u0e07\\u0e02\\u0e2d\\u0e07\\u0e42\\u0e23\\u0e07\\u0e41\\u0e23\\u0e21 Amari Residence \\u0e2a\\u0e32\\u0e21\\u0e32\\u0e23\\u0e16\\u0e08\\u0e2d\\u0e14\\u0e23\\u0e16\\u0e44\\u0e14\\u0e49\\u0e17\\u0e35\\u0e48\\u0e14\\u0e49\\u0e32\\u0e19\\u0e2b\\u0e19\\u0e49\\u0e32\\u0e2b\\u0e23\\u0e37\\u0e2d\\u0e40\\u0e02\\u0e49\\u0e32\\u0e21\\u0e32\\u0e08\\u0e2d\\u0e14\\u0e0a\\u0e31\\u0e49\\u0e19\\u0e08\\u0e2d\\u0e14\\u0e23\\u0e16\\u0e02\\u0e2d\\u0e07\\u0e42\\u0e23\\u0e07\\u0e41\\u0e23\\u0e21\\u0e01\\u0e47\\u0e44\\u0e14\\u0e49\\u0e40\\u0e25\\u0e22\\u0e04\\u0e48\\u0e30 \\u0e23\\u0e49\\u0e32\\u0e19\\u0e15\\u0e01\\u0e41\\u0e15\\u0e48\\u0e07\\u0e2a\\u0e27\\u0e22\\u0e21\\u0e32\\u0e01\\u0e2d\\u0e1a\\u0e2d\\u0e38\\u0e48\\u0e19\\u0e14\\u0e49\\u0e27\\u0e22\\u0e42\\u0e17\\u0e19\\u0e2a\\u0e35\\u0e40\\u0e2b\\u0e25\\u0e37\\u0e2d\\u0e07 \\u0e40\\u0e14\\u0e34\\u0e19\\u0e40\\u0e02\\u0e49\\u0e32\\u0e21\\u0e32\\u0e08\\u0e30\\u0e1e\\u0e1a\\u0e01\\u0e31\\u0e1a\\u0e40\\u0e04\\u0e32\\u0e17\\u0e4c\\u0e40\\u0e15\\u0e2d\\u0e23\\u0e4c\\u0e44\\u0e21\\u0e49\\u0e02\\u0e19\\u0e32\\u0e14\\u0e43\\u0e2b\\u0e0d\\u0e48 \\u0e21\\u0e35\\u0e15\\u0e39\\u0e49\\u0e40\\u0e04\\u0e49\\u0e01\\u0e08\\u0e23\\u0e07\\u0e40\\u0e04\\u0e32\\u0e23\\u0e4c\\u0e40\\u0e15\\u0e2d\\u0e23\\u0e4c\\u0e43\\u0e2b\\u0e49\\u0e40\\u0e25\\u0e37\\u0e2d\\u0e01\\u0e02\\u0e19\\u0e21\\u0e1b\\u0e31\\u0e07\\u0e41\\u0e25\\u0e30\\u0e40\\u0e04\\u0e49\\u0e01 \\u0e42\\u0e15\\u0e4a\\u0e30\\u0e17\\u0e35\\u0e48\\u0e19\\u0e31\\u0e48\\u0e07\\u0e20\\u0e32\\u0e22\\u0e43\\u0e19\\u0e23\\u0e49\\u0e32\\u0e19\\u0e08\\u0e30\\u0e40\\u0e1b\\u0e47\\u0e19\\u0e40\\u0e2b\\u0e21\\u0e37\\u0e2d\\u0e19\\u0e0a\\u0e38\\u0e14\\u0e42\\u0e0b\\u0e1f\\u0e32\\u0e23\\u0e31\\u0e1a\\u0e41\\u0e02\\u0e01\\u0e44\\u0e21\\u0e49\\u0e01\\u0e31\\u0e1a\\u0e1c\\u0e49\\u0e32\\u0e2a\\u0e35\\u0e40\\u0e2b\\u0e25\\u0e37\\u0e2d\\u0e07\\u0e2a\\u0e14\\u0e43\\u0e2a \\u0e01\\u0e32\\u0e23\\u0e08\\u0e31\\u0e14\\u0e27\\u0e32\\u0e07\\u0e42\\u0e15\\u0e4a\\u0e30\\u0e20\\u0e32\\u0e22\\u0e43\\u0e19\\u0e23\\u0e49\\u0e32\\u0e19\\u0e44\\u0e21\\u0e48\\u0e0a\\u0e34\\u0e14\\u0e01\\u0e31\\u0e19\\u0e21\\u0e32\\u0e01 \\u0e17\\u0e33\\u0e43\\u0e2b\\u0e49\\u0e44\\u0e21\\u0e48\\u0e23\\u0e39\\u0e49\\u0e2a\\u0e36\\u0e01\\u0e2d\\u0e36\\u0e14\\u0e2d\\u0e31\\u0e14 \\u0e2b\\u0e23\\u0e37\\u0e2d\\u0e08\\u0e30\\u0e40\\u0e25\\u0e37\\u0e2d\\u0e01\\u0e19\\u0e31\\u0e48\\u0e07\\u0e42\\u0e0b\\u0e19 outdoor \\u0e19\\u0e2d\\u0e01\\u0e23\\u0e49\\u0e32\\u0e19\\u0e0a\\u0e21\\u0e27\\u0e34\\u0e27\\u0e2a\\u0e27\\u0e19\\u0e01\\u0e47\\u0e44\\u0e14\\u0e49\\u0e1a\\u0e23\\u0e23\\u0e22\\u0e32\\u0e01\\u0e32\\u0e28\\u0e44\\u0e1b\\u0e2d\\u0e35\\u0e01\\u0e41\\u0e1a\\u0e1a\\u0e19\\u0e30\\u0e04\\u0e30 \\u0e1e\\u0e19\\u0e31\\u0e01\\u0e07\\u0e32\\u0e19\\u0e1a\\u0e1a\\u0e23\\u0e34\\u0e01\\u0e32\\u0e23\\u0e14\\u0e35\\u0e04\\u0e48\\u0e30\\u0e41\\u0e15\\u0e48\\u0e41\\u0e2d\\u0e23\\u0e4c\\u0e44\\u0e1b\\u0e2b\\u0e19\\u0e48\\u0e2d\\u0e22\"\n        ],\n        \"semantic_type\": \"\",\n        \"description\": \"\"\n      }\n    },\n    {\n      \"column\": \"column1\",\n      \"properties\": {\n        \"dtype\": \"number\",\n        \"std\": 0,\n        \"min\": 1,\n        \"max\": 5,\n        \"num_unique_values\": 5,\n        \"samples\": [\n          4,\n          2,\n          5\n        ],\n        \"semantic_type\": \"\",\n        \"description\": \"\"\n      }\n    }\n  ]\n}",
              "type": "dataframe",
              "variable_name": "coffee_reviews_df"
            },
            "text/html": [
              "\n",
              "  <div id=\"df-198254b9-dd7b-452e-8e8b-2ae1de1448f0\" class=\"colab-df-container\">\n",
              "    <div>\n",
              "<style scoped>\n",
              "    .dataframe tbody tr th:only-of-type {\n",
              "        vertical-align: middle;\n",
              "    }\n",
              "\n",
              "    .dataframe tbody tr th {\n",
              "        vertical-align: top;\n",
              "    }\n",
              "\n",
              "    .dataframe thead th {\n",
              "        text-align: right;\n",
              "    }\n",
              "</style>\n",
              "<table border=\"1\" class=\"dataframe\">\n",
              "  <thead>\n",
              "    <tr style=\"text-align: right;\">\n",
              "      <th></th>\n",
              "      <th>column0</th>\n",
              "      <th>column1</th>\n",
              "    </tr>\n",
              "  </thead>\n",
              "  <tbody>\n",
              "    <tr>\n",
              "      <th>0</th>\n",
              "      <td>ร้านอาหารใหญ่มากกกกกกก \\nเลี้ยวเข้ามาเจอห้องน้...</td>\n",
              "      <td>3</td>\n",
              "    </tr>\n",
              "    <tr>\n",
              "      <th>1</th>\n",
              "      <td>วันนี้ได้มีโอกาสไปนั่งซดกาแฟที่ร้านวาวี แถวๆอา...</td>\n",
              "      <td>4</td>\n",
              "    </tr>\n",
              "    <tr>\n",
              "      <th>2</th>\n",
              "      <td>สารภาพว่าไม่เคยคิดจะไปต่อคิวซื้อมากินเองครับ บ...</td>\n",
              "      <td>3</td>\n",
              "    </tr>\n",
              "    <tr>\n",
              "      <th>3</th>\n",
              "      <td>ร้านอาหารญี่ปุ่นร้านนี้ ใจจริงไม่อยากแนะนำเลยค...</td>\n",
              "      <td>5</td>\n",
              "    </tr>\n",
              "    <tr>\n",
              "      <th>4</th>\n",
              "      <td>เดือนแรกที่เค้าต่อคิวกัน 2 - 3 ชั่วโมง เราก็ว่...</td>\n",
              "      <td>5</td>\n",
              "    </tr>\n",
              "  </tbody>\n",
              "</table>\n",
              "</div>\n",
              "    <div class=\"colab-df-buttons\">\n",
              "\n",
              "  <div class=\"colab-df-container\">\n",
              "    <button class=\"colab-df-convert\" onclick=\"convertToInteractive('df-198254b9-dd7b-452e-8e8b-2ae1de1448f0')\"\n",
              "            title=\"Convert this dataframe to an interactive table.\"\n",
              "            style=\"display:none;\">\n",
              "\n",
              "  <svg xmlns=\"http://www.w3.org/2000/svg\" height=\"24px\" viewBox=\"0 -960 960 960\">\n",
              "    <path d=\"M120-120v-720h720v720H120Zm60-500h600v-160H180v160Zm220 220h160v-160H400v160Zm0 220h160v-160H400v160ZM180-400h160v-160H180v160Zm440 0h160v-160H620v160ZM180-180h160v-160H180v160Zm440 0h160v-160H620v160Z\"/>\n",
              "  </svg>\n",
              "    </button>\n",
              "\n",
              "  <style>\n",
              "    .colab-df-container {\n",
              "      display:flex;\n",
              "      gap: 12px;\n",
              "    }\n",
              "\n",
              "    .colab-df-convert {\n",
              "      background-color: #E8F0FE;\n",
              "      border: none;\n",
              "      border-radius: 50%;\n",
              "      cursor: pointer;\n",
              "      display: none;\n",
              "      fill: #1967D2;\n",
              "      height: 32px;\n",
              "      padding: 0 0 0 0;\n",
              "      width: 32px;\n",
              "    }\n",
              "\n",
              "    .colab-df-convert:hover {\n",
              "      background-color: #E2EBFA;\n",
              "      box-shadow: 0px 1px 2px rgba(60, 64, 67, 0.3), 0px 1px 3px 1px rgba(60, 64, 67, 0.15);\n",
              "      fill: #174EA6;\n",
              "    }\n",
              "\n",
              "    .colab-df-buttons div {\n",
              "      margin-bottom: 4px;\n",
              "    }\n",
              "\n",
              "    [theme=dark] .colab-df-convert {\n",
              "      background-color: #3B4455;\n",
              "      fill: #D2E3FC;\n",
              "    }\n",
              "\n",
              "    [theme=dark] .colab-df-convert:hover {\n",
              "      background-color: #434B5C;\n",
              "      box-shadow: 0px 1px 3px 1px rgba(0, 0, 0, 0.15);\n",
              "      filter: drop-shadow(0px 1px 2px rgba(0, 0, 0, 0.3));\n",
              "      fill: #FFFFFF;\n",
              "    }\n",
              "  </style>\n",
              "\n",
              "    <script>\n",
              "      const buttonEl =\n",
              "        document.querySelector('#df-198254b9-dd7b-452e-8e8b-2ae1de1448f0 button.colab-df-convert');\n",
              "      buttonEl.style.display =\n",
              "        google.colab.kernel.accessAllowed ? 'block' : 'none';\n",
              "\n",
              "      async function convertToInteractive(key) {\n",
              "        const element = document.querySelector('#df-198254b9-dd7b-452e-8e8b-2ae1de1448f0');\n",
              "        const dataTable =\n",
              "          await google.colab.kernel.invokeFunction('convertToInteractive',\n",
              "                                                    [key], {});\n",
              "        if (!dataTable) return;\n",
              "\n",
              "        const docLinkHtml = 'Like what you see? Visit the ' +\n",
              "          '<a target=\"_blank\" href=https://colab.research.google.com/notebooks/data_table.ipynb>data table notebook</a>'\n",
              "          + ' to learn more about interactive tables.';\n",
              "        element.innerHTML = '';\n",
              "        dataTable['output_type'] = 'display_data';\n",
              "        await google.colab.output.renderOutput(dataTable, element);\n",
              "        const docLink = document.createElement('div');\n",
              "        docLink.innerHTML = docLinkHtml;\n",
              "        element.appendChild(docLink);\n",
              "      }\n",
              "    </script>\n",
              "  </div>\n",
              "\n",
              "\n",
              "    <div id=\"df-a4271e55-3f5f-412c-aebe-ff1e1004f6f6\">\n",
              "      <button class=\"colab-df-quickchart\" onclick=\"quickchart('df-a4271e55-3f5f-412c-aebe-ff1e1004f6f6')\"\n",
              "                title=\"Suggest charts\"\n",
              "                style=\"display:none;\">\n",
              "\n",
              "<svg xmlns=\"http://www.w3.org/2000/svg\" height=\"24px\"viewBox=\"0 0 24 24\"\n",
              "     width=\"24px\">\n",
              "    <g>\n",
              "        <path d=\"M19 3H5c-1.1 0-2 .9-2 2v14c0 1.1.9 2 2 2h14c1.1 0 2-.9 2-2V5c0-1.1-.9-2-2-2zM9 17H7v-7h2v7zm4 0h-2V7h2v10zm4 0h-2v-4h2v4z\"/>\n",
              "    </g>\n",
              "</svg>\n",
              "      </button>\n",
              "\n",
              "<style>\n",
              "  .colab-df-quickchart {\n",
              "      --bg-color: #E8F0FE;\n",
              "      --fill-color: #1967D2;\n",
              "      --hover-bg-color: #E2EBFA;\n",
              "      --hover-fill-color: #174EA6;\n",
              "      --disabled-fill-color: #AAA;\n",
              "      --disabled-bg-color: #DDD;\n",
              "  }\n",
              "\n",
              "  [theme=dark] .colab-df-quickchart {\n",
              "      --bg-color: #3B4455;\n",
              "      --fill-color: #D2E3FC;\n",
              "      --hover-bg-color: #434B5C;\n",
              "      --hover-fill-color: #FFFFFF;\n",
              "      --disabled-bg-color: #3B4455;\n",
              "      --disabled-fill-color: #666;\n",
              "  }\n",
              "\n",
              "  .colab-df-quickchart {\n",
              "    background-color: var(--bg-color);\n",
              "    border: none;\n",
              "    border-radius: 50%;\n",
              "    cursor: pointer;\n",
              "    display: none;\n",
              "    fill: var(--fill-color);\n",
              "    height: 32px;\n",
              "    padding: 0;\n",
              "    width: 32px;\n",
              "  }\n",
              "\n",
              "  .colab-df-quickchart:hover {\n",
              "    background-color: var(--hover-bg-color);\n",
              "    box-shadow: 0 1px 2px rgba(60, 64, 67, 0.3), 0 1px 3px 1px rgba(60, 64, 67, 0.15);\n",
              "    fill: var(--button-hover-fill-color);\n",
              "  }\n",
              "\n",
              "  .colab-df-quickchart-complete:disabled,\n",
              "  .colab-df-quickchart-complete:disabled:hover {\n",
              "    background-color: var(--disabled-bg-color);\n",
              "    fill: var(--disabled-fill-color);\n",
              "    box-shadow: none;\n",
              "  }\n",
              "\n",
              "  .colab-df-spinner {\n",
              "    border: 2px solid var(--fill-color);\n",
              "    border-color: transparent;\n",
              "    border-bottom-color: var(--fill-color);\n",
              "    animation:\n",
              "      spin 1s steps(1) infinite;\n",
              "  }\n",
              "\n",
              "  @keyframes spin {\n",
              "    0% {\n",
              "      border-color: transparent;\n",
              "      border-bottom-color: var(--fill-color);\n",
              "      border-left-color: var(--fill-color);\n",
              "    }\n",
              "    20% {\n",
              "      border-color: transparent;\n",
              "      border-left-color: var(--fill-color);\n",
              "      border-top-color: var(--fill-color);\n",
              "    }\n",
              "    30% {\n",
              "      border-color: transparent;\n",
              "      border-left-color: var(--fill-color);\n",
              "      border-top-color: var(--fill-color);\n",
              "      border-right-color: var(--fill-color);\n",
              "    }\n",
              "    40% {\n",
              "      border-color: transparent;\n",
              "      border-right-color: var(--fill-color);\n",
              "      border-top-color: var(--fill-color);\n",
              "    }\n",
              "    60% {\n",
              "      border-color: transparent;\n",
              "      border-right-color: var(--fill-color);\n",
              "    }\n",
              "    80% {\n",
              "      border-color: transparent;\n",
              "      border-right-color: var(--fill-color);\n",
              "      border-bottom-color: var(--fill-color);\n",
              "    }\n",
              "    90% {\n",
              "      border-color: transparent;\n",
              "      border-bottom-color: var(--fill-color);\n",
              "    }\n",
              "  }\n",
              "</style>\n",
              "\n",
              "      <script>\n",
              "        async function quickchart(key) {\n",
              "          const quickchartButtonEl =\n",
              "            document.querySelector('#' + key + ' button');\n",
              "          quickchartButtonEl.disabled = true;  // To prevent multiple clicks.\n",
              "          quickchartButtonEl.classList.add('colab-df-spinner');\n",
              "          try {\n",
              "            const charts = await google.colab.kernel.invokeFunction(\n",
              "                'suggestCharts', [key], {});\n",
              "          } catch (error) {\n",
              "            console.error('Error during call to suggestCharts:', error);\n",
              "          }\n",
              "          quickchartButtonEl.classList.remove('colab-df-spinner');\n",
              "          quickchartButtonEl.classList.add('colab-df-quickchart-complete');\n",
              "        }\n",
              "        (() => {\n",
              "          let quickchartButtonEl =\n",
              "            document.querySelector('#df-a4271e55-3f5f-412c-aebe-ff1e1004f6f6 button');\n",
              "          quickchartButtonEl.style.display =\n",
              "            google.colab.kernel.accessAllowed ? 'block' : 'none';\n",
              "        })();\n",
              "      </script>\n",
              "    </div>\n",
              "\n",
              "    </div>\n",
              "  </div>\n"
            ],
            "text/plain": [
              "                                             column0  column1\n",
              "0  ร้านอาหารใหญ่มากกกกกกก \\nเลี้ยวเข้ามาเจอห้องน้...        3\n",
              "1  วันนี้ได้มีโอกาสไปนั่งซดกาแฟที่ร้านวาวี แถวๆอา...        4\n",
              "2  สารภาพว่าไม่เคยคิดจะไปต่อคิวซื้อมากินเองครับ บ...        3\n",
              "3  ร้านอาหารญี่ปุ่นร้านนี้ ใจจริงไม่อยากแนะนำเลยค...        5\n",
              "4  เดือนแรกที่เค้าต่อคิวกัน 2 - 3 ชั่วโมง เราก็ว่...        5"
            ]
          },
          "execution_count": 15,
          "metadata": {},
          "output_type": "execute_result"
        }
      ],
      "source": [
        "coffee_reviews_df.head()"
      ]
    },
    {
      "cell_type": "code",
      "execution_count": 16,
      "metadata": {
        "colab": {
          "base_uri": "https://localhost:8080/"
        },
        "id": "2vwbJ-yMygwy",
        "outputId": "0d13a03a-2364-4366-8aae-c5000cc4cf81"
      },
      "outputs": [
        {
          "data": {
            "text/plain": [
              "(4981, 2)"
            ]
          },
          "execution_count": 16,
          "metadata": {},
          "output_type": "execute_result"
        }
      ],
      "source": [
        "coffee_reviews_df.shape"
      ]
    },
    {
      "cell_type": "code",
      "execution_count": 17,
      "metadata": {
        "colab": {
          "base_uri": "https://localhost:8080/"
        },
        "id": "EfduenofyiG7",
        "outputId": "1e2df0cf-661d-4140-df83-737fd41d3582"
      },
      "outputs": [
        {
          "name": "stdout",
          "output_type": "stream",
          "text": [
            ">>> Cleaning up old version at /usr/local/lib/ollama\n",
            ">>> Installing ollama to /usr/local\n",
            ">>> Downloading Linux amd64 bundle\n",
            "######################################################################## 100.0%\n",
            ">>> Adding ollama user to video group...\n",
            ">>> Adding current user to ollama group...\n",
            ">>> Creating ollama systemd service...\n",
            "\u001b[1m\u001b[31mWARNING:\u001b[m systemd is not running\n",
            "\u001b[1m\u001b[31mWARNING:\u001b[m Unable to detect NVIDIA/AMD GPU. Install lspci or lshw to automatically detect and install GPU dependencies.\n",
            ">>> The Ollama API is now available at 127.0.0.1:11434.\n",
            ">>> Install complete. Run \"ollama\" from the command line.\n"
          ]
        }
      ],
      "source": [
        "!curl -fsSL https://ollama.com/install.sh | sh"
      ]
    },
    {
      "cell_type": "code",
      "execution_count": 18,
      "metadata": {
        "colab": {
          "base_uri": "https://localhost:8080/"
        },
        "id": "dduvNUU6yjfl",
        "outputId": "ece7db14-0281-4514-b4f2-5a1993944aaf"
      },
      "outputs": [
        {
          "name": "stdout",
          "output_type": "stream",
          "text": [
            "nohup: appending output to 'nohup.out'\n"
          ]
        }
      ],
      "source": [
        "!nohup ollama serve &"
      ]
    },
    {
      "cell_type": "code",
      "execution_count": 19,
      "metadata": {
        "colab": {
          "base_uri": "https://localhost:8080/"
        },
        "id": "ERbg6JlVy0DU",
        "outputId": "2bf04912-573c-422e-cf80-41a20b29c75a"
      },
      "outputs": [
        {
          "name": "stdout",
          "output_type": "stream",
          "text": [
            "\u001b[?2026h\u001b[?25l\u001b[1G\u001b[?25h\u001b[?2026l\u001b[?2026h\u001b[?25l\u001b[1G\u001b[?25h\u001b[?2026l\u001b[?2026h\u001b[?25l\u001b[1G\u001b[?25h\u001b[?2026l\u001b[?2026h\u001b[?25l\u001b[1G\u001b[?25h\u001b[?2026l\n"
          ]
        }
      ],
      "source": [
        "!ollama pull gemma3:270m"
      ]
    },
    {
      "cell_type": "code",
      "execution_count": 20,
      "metadata": {
        "colab": {
          "base_uri": "https://localhost:8080/"
        },
        "id": "Zl74vn5ty1x8",
        "outputId": "d4d67b84-98bd-49a2-8383-44e77d83715e"
      },
      "outputs": [
        {
          "name": "stdout",
          "output_type": "stream",
          "text": [
            "NAME                                  ID              SIZE      MODIFIED       \n",
            "gemma3:270m                           e7d36fb2c3b3    291 MB    3 seconds ago     \n",
            "scb10x/typhoon2.1-gemma3-4b:latest    8cfab9097c9d    2.6 GB    15 minutes ago    \n"
          ]
        }
      ],
      "source": [
        "!ollama list"
      ]
    },
    {
      "cell_type": "code",
      "execution_count": 21,
      "metadata": {
        "colab": {
          "base_uri": "https://localhost:8080/"
        },
        "id": "UtgIUjIvy6Og",
        "outputId": "e96e1d1d-f749-4a8a-a1e9-db65bcb3b998"
      },
      "outputs": [
        {
          "name": "stdout",
          "output_type": "stream",
          "text": [
            "\u001b[?2026h\u001b[?25l\u001b[1G\u001b[?25h\u001b[?2026l\u001b[?2026h\u001b[?25l\u001b[1G\u001b[?25h\u001b[?2026l\u001b[?2026h\u001b[?25l\u001b[1G\u001b[?25h\u001b[?2026l\u001b[?2026h\u001b[?25l\u001b[1G\u001b[?25h\u001b[?2026l\u001b[?2026h\u001b[?25l\u001b[1G\u001b[?25h\u001b[?2026l\u001b[?2026h\u001b[?25l\u001b[1G\u001b[?25h\u001b[?2026l\u001b[?2026h\u001b[?25l\u001b[1G\u001b[?25h\u001b[?2026l\u001b[?2026h\u001b[?25l\u001b[1G\u001b[?25h\u001b[?2026l\u001b[?2026h\u001b[?25l\u001b[1G\u001b[?25h\u001b[?2026l\u001b[?2026h\u001b[?25l\u001b[1G\u001b[?25h\u001b[?2026l\u001b[?2026h\u001b[?25l\u001b[1G\u001b[?25h\u001b[?2026l\u001b[?2026h\u001b[?25l\u001b[1G\u001b[?25h\u001b[?2026l\u001b[?2026h\u001b[?25l\u001b[1G\u001b[?25h\u001b[?2026l\u001b[?2026h\u001b[?25l\u001b[1G\u001b[?25h\u001b[?2026l\u001b[?2026h\u001b[?25l\u001b[1G\u001b[?25h\u001b[?2026l\u001b[?2026h\u001b[?25l\u001b[1G\u001b[?25h\u001b[?2026l\u001b[?2026h\u001b[?25l\u001b[1G\u001b[?25h\u001b[?2026l\u001b[?2026h\u001b[?25l\u001b[1G\u001b[?25h\u001b[?2026l\u001b[?25l\u001b[?2026h\u001b[?25l\u001b[1G\u001b[?25h\u001b[?2026l\u001b[2K\u001b[1G\u001b[?25hสวัสดี\u001b[?25l\u001b[?25hค่ะ\u001b[?25l\u001b[?25h 😊\u001b[?25l\u001b[?25h\n",
            "\n",
            "\u001b[?25l\u001b[?25h"
          ]
        }
      ],
      "source": [
        "!ollama run gemma3:270m \"สวัสดี\""
      ]
    },
    {
      "cell_type": "code",
      "execution_count": 22,
      "metadata": {
        "colab": {
          "base_uri": "https://localhost:8080/"
        },
        "id": "ofFAxzRCy7eS",
        "outputId": "b6c7276b-60c6-43b3-f909-a580a2281822"
      },
      "outputs": [
        {
          "name": "stdout",
          "output_type": "stream",
          "text": [
            "{\"models\":[{\"name\":\"gemma3:270m\",\"model\":\"gemma3:270m\",\"modified_at\":\"2025-10-18T10:03:01.320450053Z\",\"size\":291554930,\"digest\":\"e7d36fb2c3b3293cfe56d55889867a064b3a2b22e98335f2e6e8a387e081d6be\",\"details\":{\"parent_model\":\"\",\"format\":\"gguf\",\"family\":\"gemma3\",\"families\":[\"gemma3\"],\"parameter_size\":\"268.10M\",\"quantization_level\":\"Q8_0\"}},{\"name\":\"scb10x/typhoon2.1-gemma3-4b:latest\",\"model\":\"scb10x/typhoon2.1-gemma3-4b:latest\",\"modified_at\":\"2025-10-18T09:47:39.279549713Z\",\"size\":2615662352,\"digest\":\"8cfab9097c9d142fa16c7556826c9a7874f4642ac6d575e2d66a4f4979c48b76\",\"details\":{\"parent_model\":\"\",\"format\":\"gguf\",\"family\":\"gemma3\",\"families\":[\"gemma3\"],\"parameter_size\":\"3.9B\",\"quantization_level\":\"Q4_K_M\"}}]}"
          ]
        }
      ],
      "source": [
        "!curl -s http://127.0.0.1:11434/api/tags"
      ]
    },
    {
      "cell_type": "code",
      "execution_count": 23,
      "metadata": {
        "colab": {
          "base_uri": "https://localhost:8080/"
        },
        "id": "AGgYLX1fq7m4",
        "outputId": "c6169b6c-5b3a-490c-9a1a-a7959558043b"
      },
      "outputs": [
        {
          "name": "stdout",
          "output_type": "stream",
          "text": [
            "Requirement already satisfied: langchain in /usr/local/lib/python3.12/dist-packages (1.0.0)\n",
            "Requirement already satisfied: langchain-core in /usr/local/lib/python3.12/dist-packages (1.0.0)\n",
            "Requirement already satisfied: langchain-community in /usr/local/lib/python3.12/dist-packages (0.4)\n",
            "Requirement already satisfied: langchain-ollama in /usr/local/lib/python3.12/dist-packages (1.0.0)\n",
            "Requirement already satisfied: langgraph<1.1.0,>=1.0.0 in /usr/local/lib/python3.12/dist-packages (from langchain) (1.0.0)\n",
            "Requirement already satisfied: pydantic<3.0.0,>=2.7.4 in /usr/local/lib/python3.12/dist-packages (from langchain) (2.11.10)\n",
            "Requirement already satisfied: jsonpatch<2.0.0,>=1.33.0 in /usr/local/lib/python3.12/dist-packages (from langchain-core) (1.33)\n",
            "Requirement already satisfied: langsmith<1.0.0,>=0.3.45 in /usr/local/lib/python3.12/dist-packages (from langchain-core) (0.4.35)\n",
            "Requirement already satisfied: packaging<26.0.0,>=23.2.0 in /usr/local/lib/python3.12/dist-packages (from langchain-core) (25.0)\n",
            "Requirement already satisfied: pyyaml<7.0.0,>=5.3.0 in /usr/local/lib/python3.12/dist-packages (from langchain-core) (6.0.3)\n",
            "Requirement already satisfied: tenacity!=8.4.0,<10.0.0,>=8.1.0 in /usr/local/lib/python3.12/dist-packages (from langchain-core) (8.5.0)\n",
            "Requirement already satisfied: typing-extensions<5.0.0,>=4.7.0 in /usr/local/lib/python3.12/dist-packages (from langchain-core) (4.15.0)\n",
            "Requirement already satisfied: langchain-classic<2.0.0,>=1.0.0 in /usr/local/lib/python3.12/dist-packages (from langchain-community) (1.0.0)\n",
            "Requirement already satisfied: SQLAlchemy<3.0.0,>=1.4.0 in /usr/local/lib/python3.12/dist-packages (from langchain-community) (2.0.44)\n",
            "Requirement already satisfied: requests<3.0.0,>=2.32.5 in /usr/local/lib/python3.12/dist-packages (from langchain-community) (2.32.5)\n",
            "Requirement already satisfied: aiohttp<4.0.0,>=3.8.3 in /usr/local/lib/python3.12/dist-packages (from langchain-community) (3.13.0)\n",
            "Requirement already satisfied: dataclasses-json<0.7.0,>=0.6.7 in /usr/local/lib/python3.12/dist-packages (from langchain-community) (0.6.7)\n",
            "Requirement already satisfied: pydantic-settings<3.0.0,>=2.10.1 in /usr/local/lib/python3.12/dist-packages (from langchain-community) (2.11.0)\n",
            "Requirement already satisfied: httpx-sse<1.0.0,>=0.4.0 in /usr/local/lib/python3.12/dist-packages (from langchain-community) (0.4.3)\n",
            "Requirement already satisfied: numpy>=1.26.2 in /usr/local/lib/python3.12/dist-packages (from langchain-community) (2.0.2)\n",
            "Requirement already satisfied: ollama<1.0.0,>=0.6.0 in /usr/local/lib/python3.12/dist-packages (from langchain-ollama) (0.6.0)\n",
            "Requirement already satisfied: aiohappyeyeballs>=2.5.0 in /usr/local/lib/python3.12/dist-packages (from aiohttp<4.0.0,>=3.8.3->langchain-community) (2.6.1)\n",
            "Requirement already satisfied: aiosignal>=1.4.0 in /usr/local/lib/python3.12/dist-packages (from aiohttp<4.0.0,>=3.8.3->langchain-community) (1.4.0)\n",
            "Requirement already satisfied: attrs>=17.3.0 in /usr/local/lib/python3.12/dist-packages (from aiohttp<4.0.0,>=3.8.3->langchain-community) (25.4.0)\n",
            "Requirement already satisfied: frozenlist>=1.1.1 in /usr/local/lib/python3.12/dist-packages (from aiohttp<4.0.0,>=3.8.3->langchain-community) (1.8.0)\n",
            "Requirement already satisfied: multidict<7.0,>=4.5 in /usr/local/lib/python3.12/dist-packages (from aiohttp<4.0.0,>=3.8.3->langchain-community) (6.7.0)\n",
            "Requirement already satisfied: propcache>=0.2.0 in /usr/local/lib/python3.12/dist-packages (from aiohttp<4.0.0,>=3.8.3->langchain-community) (0.4.1)\n",
            "Requirement already satisfied: yarl<2.0,>=1.17.0 in /usr/local/lib/python3.12/dist-packages (from aiohttp<4.0.0,>=3.8.3->langchain-community) (1.22.0)\n",
            "Requirement already satisfied: marshmallow<4.0.0,>=3.18.0 in /usr/local/lib/python3.12/dist-packages (from dataclasses-json<0.7.0,>=0.6.7->langchain-community) (3.26.1)\n",
            "Requirement already satisfied: typing-inspect<1,>=0.4.0 in /usr/local/lib/python3.12/dist-packages (from dataclasses-json<0.7.0,>=0.6.7->langchain-community) (0.9.0)\n",
            "Requirement already satisfied: jsonpointer>=1.9 in /usr/local/lib/python3.12/dist-packages (from jsonpatch<2.0.0,>=1.33.0->langchain-core) (3.0.0)\n",
            "Requirement already satisfied: langchain-text-splitters<2.0.0,>=1.0.0 in /usr/local/lib/python3.12/dist-packages (from langchain-classic<2.0.0,>=1.0.0->langchain-community) (1.0.0)\n",
            "Requirement already satisfied: langgraph-checkpoint<3.0.0,>=2.1.0 in /usr/local/lib/python3.12/dist-packages (from langgraph<1.1.0,>=1.0.0->langchain) (2.1.2)\n",
            "Requirement already satisfied: langgraph-prebuilt<1.1.0,>=1.0.0 in /usr/local/lib/python3.12/dist-packages (from langgraph<1.1.0,>=1.0.0->langchain) (1.0.0)\n",
            "Requirement already satisfied: langgraph-sdk<0.3.0,>=0.2.2 in /usr/local/lib/python3.12/dist-packages (from langgraph<1.1.0,>=1.0.0->langchain) (0.2.9)\n",
            "Requirement already satisfied: xxhash>=3.5.0 in /usr/local/lib/python3.12/dist-packages (from langgraph<1.1.0,>=1.0.0->langchain) (3.6.0)\n",
            "Requirement already satisfied: httpx<1,>=0.23.0 in /usr/local/lib/python3.12/dist-packages (from langsmith<1.0.0,>=0.3.45->langchain-core) (0.28.1)\n",
            "Requirement already satisfied: orjson>=3.9.14 in /usr/local/lib/python3.12/dist-packages (from langsmith<1.0.0,>=0.3.45->langchain-core) (3.11.3)\n",
            "Requirement already satisfied: requests-toolbelt>=1.0.0 in /usr/local/lib/python3.12/dist-packages (from langsmith<1.0.0,>=0.3.45->langchain-core) (1.0.0)\n",
            "Requirement already satisfied: zstandard>=0.23.0 in /usr/local/lib/python3.12/dist-packages (from langsmith<1.0.0,>=0.3.45->langchain-core) (0.25.0)\n",
            "Requirement already satisfied: annotated-types>=0.6.0 in /usr/local/lib/python3.12/dist-packages (from pydantic<3.0.0,>=2.7.4->langchain) (0.7.0)\n",
            "Requirement already satisfied: pydantic-core==2.33.2 in /usr/local/lib/python3.12/dist-packages (from pydantic<3.0.0,>=2.7.4->langchain) (2.33.2)\n",
            "Requirement already satisfied: typing-inspection>=0.4.0 in /usr/local/lib/python3.12/dist-packages (from pydantic<3.0.0,>=2.7.4->langchain) (0.4.2)\n",
            "Requirement already satisfied: python-dotenv>=0.21.0 in /usr/local/lib/python3.12/dist-packages (from pydantic-settings<3.0.0,>=2.10.1->langchain-community) (1.1.1)\n",
            "Requirement already satisfied: charset_normalizer<4,>=2 in /usr/local/lib/python3.12/dist-packages (from requests<3.0.0,>=2.32.5->langchain-community) (3.4.4)\n",
            "Requirement already satisfied: idna<4,>=2.5 in /usr/local/lib/python3.12/dist-packages (from requests<3.0.0,>=2.32.5->langchain-community) (3.11)\n",
            "Requirement already satisfied: urllib3<3,>=1.21.1 in /usr/local/lib/python3.12/dist-packages (from requests<3.0.0,>=2.32.5->langchain-community) (2.5.0)\n",
            "Requirement already satisfied: certifi>=2017.4.17 in /usr/local/lib/python3.12/dist-packages (from requests<3.0.0,>=2.32.5->langchain-community) (2025.10.5)\n",
            "Requirement already satisfied: greenlet>=1 in /usr/local/lib/python3.12/dist-packages (from SQLAlchemy<3.0.0,>=1.4.0->langchain-community) (3.2.4)\n",
            "Requirement already satisfied: anyio in /usr/local/lib/python3.12/dist-packages (from httpx<1,>=0.23.0->langsmith<1.0.0,>=0.3.45->langchain-core) (4.11.0)\n",
            "Requirement already satisfied: httpcore==1.* in /usr/local/lib/python3.12/dist-packages (from httpx<1,>=0.23.0->langsmith<1.0.0,>=0.3.45->langchain-core) (1.0.9)\n",
            "Requirement already satisfied: h11>=0.16 in /usr/local/lib/python3.12/dist-packages (from httpcore==1.*->httpx<1,>=0.23.0->langsmith<1.0.0,>=0.3.45->langchain-core) (0.16.0)\n",
            "Requirement already satisfied: ormsgpack>=1.10.0 in /usr/local/lib/python3.12/dist-packages (from langgraph-checkpoint<3.0.0,>=2.1.0->langgraph<1.1.0,>=1.0.0->langchain) (1.11.0)\n",
            "Requirement already satisfied: mypy-extensions>=0.3.0 in /usr/local/lib/python3.12/dist-packages (from typing-inspect<1,>=0.4.0->dataclasses-json<0.7.0,>=0.6.7->langchain-community) (1.1.0)\n",
            "Requirement already satisfied: sniffio>=1.1 in /usr/local/lib/python3.12/dist-packages (from anyio->httpx<1,>=0.23.0->langsmith<1.0.0,>=0.3.45->langchain-core) (1.3.1)\n"
          ]
        }
      ],
      "source": [
        "! pip install -U langchain langchain-core langchain-community langchain-ollama"
      ]
    },
    {
      "cell_type": "code",
      "execution_count": 24,
      "metadata": {
        "colab": {
          "base_uri": "https://localhost:8080/"
        },
        "id": "M71CAYXBrD6f",
        "outputId": "7be9b4d1-c274-43aa-b69d-ec7d44fe27b4"
      },
      "outputs": [
        {
          "name": "stdout",
          "output_type": "stream",
          "text": [
            "Name: langchain\n",
            "Version: 1.0.0\n",
            "Summary: Building applications with LLMs through composability\n",
            "Home-page: https://docs.langchain.com/\n",
            "Author: \n",
            "Author-email: \n",
            "License: MIT\n",
            "Location: /usr/local/lib/python3.12/dist-packages\n",
            "Requires: langchain-core, langgraph, pydantic\n",
            "Required-by: \n",
            "---\n",
            "Name: langchain-core\n",
            "Version: 1.0.0\n",
            "Summary: Building applications with LLMs through composability\n",
            "Home-page: https://docs.langchain.com/\n",
            "Author: \n",
            "Author-email: \n",
            "License: MIT\n",
            "Location: /usr/local/lib/python3.12/dist-packages\n",
            "Requires: jsonpatch, langsmith, packaging, pydantic, pyyaml, tenacity, typing-extensions\n",
            "Required-by: langchain, langchain-classic, langchain-community, langchain-ollama, langchain-openai, langchain-text-splitters, langgraph, langgraph-checkpoint, langgraph-prebuilt\n",
            "---\n",
            "Name: langchain-community\n",
            "Version: 0.4\n",
            "Summary: Community contributed LangChain integrations.\n",
            "Home-page: \n",
            "Author: \n",
            "Author-email: \n",
            "License: MIT\n",
            "Location: /usr/local/lib/python3.12/dist-packages\n",
            "Requires: aiohttp, dataclasses-json, httpx-sse, langchain-classic, langchain-core, langsmith, numpy, pydantic-settings, PyYAML, requests, SQLAlchemy, tenacity\n",
            "Required-by: \n"
          ]
        }
      ],
      "source": [
        "! pip show langchain langchain-core langchain-community"
      ]
    },
    {
      "cell_type": "code",
      "execution_count": 25,
      "metadata": {
        "id": "s-bWVmz1y99U"
      },
      "outputs": [],
      "source": [
        "from langchain_ollama import OllamaLLM\n",
        "from langchain_core.prompts import PromptTemplate\n",
        "from langchain_core.output_parsers import StrOutputParser"
      ]
    },
    {
      "cell_type": "code",
      "execution_count": 26,
      "metadata": {
        "id": "n8QChb8ky_0d"
      },
      "outputs": [],
      "source": [
        "llm = OllamaLLM(model=\"gemma3:270m\")"
      ]
    },
    {
      "cell_type": "code",
      "execution_count": 27,
      "metadata": {
        "colab": {
          "base_uri": "https://localhost:8080/"
        },
        "id": "HLbUjXTizheC",
        "outputId": "fa38fb4d-0cb5-4380-ef25-6b0c5fdb533d"
      },
      "outputs": [
        {
          "name": "stdout",
          "output_type": "stream",
          "text": [
            "สวัสดีค่ะ ยินดีที่ได้รู้จักค่ะ 😊\n"
          ]
        }
      ],
      "source": [
        "response = llm.invoke(\"สวัสดี\")\n",
        "print(response)"
      ]
    },
    {
      "cell_type": "code",
      "execution_count": 28,
      "metadata": {
        "id": "NGiwJrg3zjTT"
      },
      "outputs": [],
      "source": [
        "template = \"\"\"\n",
        "คุณเป็นครูสอน Python\n",
        "คำถาม : {question}\n",
        "\"\"\""
      ]
    },
    {
      "cell_type": "code",
      "execution_count": 29,
      "metadata": {
        "id": "li7jGIcn06FO"
      },
      "outputs": [],
      "source": [
        "prompt = PromptTemplate(\n",
        "    input_variables=[\"question\"],\n",
        "    template=template\n",
        ")"
      ]
    },
    {
      "cell_type": "code",
      "execution_count": 30,
      "metadata": {
        "colab": {
          "base_uri": "https://localhost:8080/"
        },
        "id": "tUZAt-Ox067R",
        "outputId": "11b04860-4b89-45e1-ac30-7cdc5e6f0366"
      },
      "outputs": [
        {
          "name": "stdout",
          "output_type": "stream",
          "text": [
            "\n",
            "คุณเป็นครูสอน Python\n",
            "คำถาม : เขียนโค้ดหาผลรวมของตัวเลข 1 ถึง 10\n",
            "\n"
          ]
        }
      ],
      "source": [
        "formatted_prompt = prompt.format(question=\"เขียนโค้ดหาผลรวมของตัวเลข 1 ถึง 10\")\n",
        "print(formatted_prompt)"
      ]
    },
    {
      "cell_type": "code",
      "execution_count": 31,
      "metadata": {
        "id": "hxyjxkft07zt"
      },
      "outputs": [],
      "source": [
        "chain = prompt | llm"
      ]
    },
    {
      "cell_type": "code",
      "execution_count": 32,
      "metadata": {
        "id": "JMA_Xlbp1B-1"
      },
      "outputs": [],
      "source": [
        "response = chain.invoke({\"question\": \"เขียนโค้ดหาผลรวมของตัวเลข 1 ถึง 10\"})"
      ]
    },
    {
      "cell_type": "code",
      "execution_count": 33,
      "metadata": {
        "colab": {
          "base_uri": "https://localhost:8080/",
          "height": 227
        },
        "id": "IEw5MW291C9_",
        "outputId": "19452cdb-8b06-4cbe-d244-01f78fedc667"
      },
      "outputs": [
        {
          "data": {
            "application/vnd.google.colaboratory.intrinsic+json": {
              "type": "string"
            },
            "text/plain": [
              "'```python\\ndef find_sum(numbers):\\n  \"\"\"\\n  หาผลรวมของตัวเลข 1 ถึง 10\\n  \"\"\"\\n  total = 0\\n  for number in numbers:\\n    total += number\\n  return total\\n\\n# ตัวอย่างการใช้งาน\\nnumbers = [1, 2, 3, 4, 5, 6, 7, 8, 9, 10]\\nresult = find_sum(numbers)\\nprint(\"ผลรวม:\", result)\\n```\\n\\n**คำอธิบายโค้ด:**\\n\\n1.  **`def find_sum(numbers):`**:  กำหนดชื่อ funzione `find_sum` ที่จะถูกเรียกใช้ ซึ่งจะทำการหาผลรวมของตัวเลขใน `numbers` โดยใช้ `numbers` เป็นตัวแปร\\n2.  **`total = 0`**:  สร้างค่า `total` เป็น 0 เพื่อเก็บผลรวมของตัวเลขที่ได้\\n3.  **`for number in numbers:`**:  สุ่มวนรอบ `numbers`  เพื่อเก็บตัวเลขที่อยู่ในแต่ละช่วง\\n4.  **`total += number`**:  ทำการเพิ่ม `number` เข้าไปใน `total`  เมื่อได้ตัวเลขใหม่\\n5.  **`return total`**:  คืนค่าค่า `total`  ที่ได้จากการวนรอบที่สั้นๆ\\n6.  **`numbers = [1, 2, 3, 4, 5, 6, 7, 8, 9, 10]`**:  สร้างตัวแปร `numbers` ที่มีค่า 1 ถึง 10\\n7.  **`result = find_sum(numbers)`**:  เรียกคืนค่า `find_sum`  ที่ได้จาก `numbers`  และทำการหาผลรวมของตัวเลข\\n8.  **`print(\"ผลรวม:\", result)`**:  แสดงผลลัพธ์ของโค้ดให้ผู้ใช้เห็น\\n9.  **`numbers = [1, 2, 3, 4, 5, 6, 7, 8, 9, 10]`**:  สร้างตัวแปร `numbers` ที่มีค่า 1 ถึง 10\\n10. **`result = find_sum(numbers)`**:  เรียกคืนค่า `find_sum` ที่ได้จาก `numbers`  และทำการหาผลรวมของตัวเลข\\n11. **`print(\"ผลรวม:\", result)`**:  แสดงผลลัพธ์ให้ผู้ใช้เห็น\\n'"
            ]
          },
          "execution_count": 33,
          "metadata": {},
          "output_type": "execute_result"
        }
      ],
      "source": [
        "response"
      ]
    },
    {
      "cell_type": "code",
      "execution_count": 34,
      "metadata": {
        "id": "ZSgmykCU1EcQ"
      },
      "outputs": [],
      "source": [
        "from IPython.display import display, Markdown"
      ]
    },
    {
      "cell_type": "code",
      "execution_count": 35,
      "metadata": {
        "colab": {
          "base_uri": "https://localhost:8080/",
          "height": 537
        },
        "id": "VeJ0Em_N1Mc9",
        "outputId": "5a76dcc1-a19c-4975-eef3-76bbac9038fd"
      },
      "outputs": [
        {
          "data": {
            "text/markdown": [
              "```python\n",
              "def find_sum(numbers):\n",
              "  \"\"\"\n",
              "  หาผลรวมของตัวเลข 1 ถึง 10\n",
              "  \"\"\"\n",
              "  total = 0\n",
              "  for number in numbers:\n",
              "    total += number\n",
              "  return total\n",
              "\n",
              "# ตัวอย่างการใช้งาน\n",
              "numbers = [1, 2, 3, 4, 5, 6, 7, 8, 9, 10]\n",
              "result = find_sum(numbers)\n",
              "print(\"ผลรวม:\", result)\n",
              "```\n",
              "\n",
              "**คำอธิบายโค้ด:**\n",
              "\n",
              "1.  **`def find_sum(numbers):`**:  กำหนดชื่อ funzione `find_sum` ที่จะถูกเรียกใช้ ซึ่งจะทำการหาผลรวมของตัวเลขใน `numbers` โดยใช้ `numbers` เป็นตัวแปร\n",
              "2.  **`total = 0`**:  สร้างค่า `total` เป็น 0 เพื่อเก็บผลรวมของตัวเลขที่ได้\n",
              "3.  **`for number in numbers:`**:  สุ่มวนรอบ `numbers`  เพื่อเก็บตัวเลขที่อยู่ในแต่ละช่วง\n",
              "4.  **`total += number`**:  ทำการเพิ่ม `number` เข้าไปใน `total`  เมื่อได้ตัวเลขใหม่\n",
              "5.  **`return total`**:  คืนค่าค่า `total`  ที่ได้จากการวนรอบที่สั้นๆ\n",
              "6.  **`numbers = [1, 2, 3, 4, 5, 6, 7, 8, 9, 10]`**:  สร้างตัวแปร `numbers` ที่มีค่า 1 ถึง 10\n",
              "7.  **`result = find_sum(numbers)`**:  เรียกคืนค่า `find_sum`  ที่ได้จาก `numbers`  และทำการหาผลรวมของตัวเลข\n",
              "8.  **`print(\"ผลรวม:\", result)`**:  แสดงผลลัพธ์ของโค้ดให้ผู้ใช้เห็น\n",
              "9.  **`numbers = [1, 2, 3, 4, 5, 6, 7, 8, 9, 10]`**:  สร้างตัวแปร `numbers` ที่มีค่า 1 ถึง 10\n",
              "10. **`result = find_sum(numbers)`**:  เรียกคืนค่า `find_sum` ที่ได้จาก `numbers`  และทำการหาผลรวมของตัวเลข\n",
              "11. **`print(\"ผลรวม:\", result)`**:  แสดงผลลัพธ์ให้ผู้ใช้เห็น\n"
            ],
            "text/plain": [
              "<IPython.core.display.Markdown object>"
            ]
          },
          "metadata": {},
          "output_type": "display_data"
        }
      ],
      "source": [
        "display(Markdown(response))"
      ]
    },
    {
      "cell_type": "code",
      "execution_count": 36,
      "metadata": {
        "id": "R8OO_aqP1NjL"
      },
      "outputs": [],
      "source": [
        "prompt1 = PromptTemplate(\n",
        "    template=\"แปลโจทย์เกี่ยวกับ {question}\"\n",
        ")\n",
        "\n",
        "chain1 = prompt1 | llm"
      ]
    },
    {
      "cell_type": "code",
      "execution_count": 37,
      "metadata": {
        "id": "SNrjg67l2dcZ"
      },
      "outputs": [],
      "source": [
        "prompt2 = PromptTemplate(\n",
        "    template=\"ทำความเข้าใจโจทย์ที่แปลแล้วต่อไปนี้ {translate}\"\n",
        ")\n",
        "\n",
        "chain2 = prompt2 | llm"
      ]
    },
    {
      "cell_type": "code",
      "execution_count": 38,
      "metadata": {
        "id": "sNo5k4xm2hUZ"
      },
      "outputs": [],
      "source": [
        "prompt3 = PromptTemplate(\n",
        "    template=\"แก้โจทย์ตามที่เข้าใจต่อไปนี้ {understand}\"\n",
        ")\n",
        "\n",
        "chain3 = prompt3 | llm"
      ]
    },
    {
      "cell_type": "code",
      "execution_count": 39,
      "metadata": {
        "id": "SDj73jUx2iOi"
      },
      "outputs": [],
      "source": [
        "prompt4 = PromptTemplate(\n",
        "    template=\"อธิบายวิธิีทำจากผลลัทธ์ต่อไปนี้ {solve}\"\n",
        ")\n",
        "\n",
        "chain4 = prompt4 | llm"
      ]
    },
    {
      "cell_type": "code",
      "execution_count": 40,
      "metadata": {
        "id": "_jBcdsAE2jG6"
      },
      "outputs": [],
      "source": [
        "parser_chain = StrOutputParser()"
      ]
    },
    {
      "cell_type": "code",
      "execution_count": 41,
      "metadata": {
        "id": "sT8CTC9F2kA4"
      },
      "outputs": [],
      "source": [
        "full_chain = chain1 | chain2 | chain3 | chain4 | parser_chain"
      ]
    },
    {
      "cell_type": "code",
      "execution_count": 46,
      "metadata": {
        "id": "XLtyRdd62lTA"
      },
      "outputs": [],
      "source": [
        "result = full_chain.invoke({\"question\":\"2x + 5 = 15\"})"
      ]
    },
    {
      "cell_type": "code",
      "execution_count": 47,
      "metadata": {
        "colab": {
          "base_uri": "https://localhost:8080/",
          "height": 122
        },
        "id": "Pn7EcldM2mh3",
        "outputId": "85e079d8-0442-4f63-a097-dabb1affd8d0"
      },
      "outputs": [
        {
          "data": {
            "application/vnd.google.colaboratory.intrinsic+json": {
              "type": "string"
            },
            "text/plain": [
              "'ถูกต้องแล้วครับ โจทย์ข้อนี้ถูกต้องและสามารถแก้ได้ดังนี้ครับ:\\n\\n**วิธิีทำจากผลลัทธ์:**\\n\\nโจทย์นี้เป็นการแก้หาค่าของ x ที่ทำให้ 2x + 5 = 15\\n\\n**การแก้หาค่าของ x:**\\n\\n1. **หาค่าของ x ที่ทำให้ 2x + 5 = 15:**\\n   *  2x + 5 = 15\\n   *  2x = 10\\n   *  x = 5\\n\\n**ดังนั้น x = 5**\\n\\n**สรุป:**\\n\\n* **วิธิีทำจากผลลัทธ์:** โจทย์ข้อนี้เป็นเพียงการแก้ปัญหาที่เรียกว่า \"แก้หาค่าของ x ที่ทำให้ 2x + 5 = 15\"\\n* **การแก้หาค่าของ x:** โจทย์ข้อนี้เป็นคำถามที่ต้องการให้เราหาค่าของ x ที่ทำให้ 2x + 5 = 15\\n\\n'"
            ]
          },
          "execution_count": 47,
          "metadata": {},
          "output_type": "execute_result"
        }
      ],
      "source": [
        "result"
      ]
    },
    {
      "cell_type": "code",
      "execution_count": 48,
      "metadata": {
        "id": "cOcpU1nB2okH"
      },
      "outputs": [],
      "source": [
        "import os\n",
        "from langchain_openai import ChatOpenAI"
      ]
    },
    {
      "cell_type": "code",
      "execution_count": 49,
      "metadata": {
        "id": "7f-HddIz23MJ"
      },
      "outputs": [],
      "source": [
        "OPENAI_API_KEY = \"xxx\"\n",
        "\n",
        "os.environ['OPENAI_API_KEY'] = OPENAI_API_KEY"
      ]
    },
    {
      "cell_type": "code",
      "execution_count": 50,
      "metadata": {
        "id": "m5Pvdv373HQd"
      },
      "outputs": [],
      "source": [
        "llm2 = ChatOpenAI(model=\"gpt-4o-mini\")"
      ]
    },
    {
      "cell_type": "code",
      "execution_count": 51,
      "metadata": {
        "id": "rloh8qs63Iba"
      },
      "outputs": [],
      "source": [
        "chain1 = prompt1 | llm2\n",
        "chain2 = prompt2 | llm2\n",
        "chain3 = prompt3 | llm2\n",
        "chain4 = prompt4 | llm2\n",
        "\n",
        "full_chain = chain1 | chain2 | chain3 | chain4 | parser_chain"
      ]
    },
    {
      "cell_type": "code",
      "execution_count": 52,
      "metadata": {
        "colab": {
          "base_uri": "https://localhost:8080/",
          "height": 408
        },
        "id": "z-PmNQYT3OFW",
        "outputId": "c09bf9e2-65bf-43cb-b8a7-17ca3516c1d4"
      },
      "outputs": [
        {
          "ename": "AuthenticationError",
          "evalue": "Error code: 401 - {'error': {'message': 'Incorrect API key provided: xxx. You can find your API key at https://platform.openai.com/account/api-keys.', 'type': 'invalid_request_error', 'param': None, 'code': 'invalid_api_key'}}",
          "output_type": "error",
          "traceback": [
            "\u001b[0;31m---------------------------------------------------------------------------\u001b[0m",
            "\u001b[0;31mAuthenticationError\u001b[0m                       Traceback (most recent call last)",
            "\u001b[0;32m/tmp/ipython-input-2947212081.py\u001b[0m in \u001b[0;36m<cell line: 0>\u001b[0;34m()\u001b[0m\n\u001b[0;32m----> 1\u001b[0;31m \u001b[0mresult\u001b[0m \u001b[0;34m=\u001b[0m \u001b[0mfull_chain\u001b[0m\u001b[0;34m.\u001b[0m\u001b[0minvoke\u001b[0m\u001b[0;34m(\u001b[0m\u001b[0;34m{\u001b[0m\u001b[0;34m\"question\"\u001b[0m\u001b[0;34m:\u001b[0m\u001b[0;34m\"2x + 5 = 15\"\u001b[0m\u001b[0;34m}\u001b[0m\u001b[0;34m)\u001b[0m\u001b[0;34m\u001b[0m\u001b[0;34m\u001b[0m\u001b[0m\n\u001b[0m\u001b[1;32m      2\u001b[0m \u001b[0;34m\u001b[0m\u001b[0m\n\u001b[1;32m      3\u001b[0m \u001b[0mresult\u001b[0m\u001b[0;34m\u001b[0m\u001b[0;34m\u001b[0m\u001b[0m\n",
            "\u001b[0;32m/usr/local/lib/python3.12/dist-packages/langchain_core/runnables/base.py\u001b[0m in \u001b[0;36minvoke\u001b[0;34m(self, input, config, **kwargs)\u001b[0m\n\u001b[1;32m   3091\u001b[0m                         \u001b[0minput_\u001b[0m \u001b[0;34m=\u001b[0m \u001b[0mcontext\u001b[0m\u001b[0;34m.\u001b[0m\u001b[0mrun\u001b[0m\u001b[0;34m(\u001b[0m\u001b[0mstep\u001b[0m\u001b[0;34m.\u001b[0m\u001b[0minvoke\u001b[0m\u001b[0;34m,\u001b[0m \u001b[0minput_\u001b[0m\u001b[0;34m,\u001b[0m \u001b[0mconfig\u001b[0m\u001b[0;34m,\u001b[0m \u001b[0;34m**\u001b[0m\u001b[0mkwargs\u001b[0m\u001b[0;34m)\u001b[0m\u001b[0;34m\u001b[0m\u001b[0;34m\u001b[0m\u001b[0m\n\u001b[1;32m   3092\u001b[0m                     \u001b[0;32melse\u001b[0m\u001b[0;34m:\u001b[0m\u001b[0;34m\u001b[0m\u001b[0;34m\u001b[0m\u001b[0m\n\u001b[0;32m-> 3093\u001b[0;31m                         \u001b[0minput_\u001b[0m \u001b[0;34m=\u001b[0m \u001b[0mcontext\u001b[0m\u001b[0;34m.\u001b[0m\u001b[0mrun\u001b[0m\u001b[0;34m(\u001b[0m\u001b[0mstep\u001b[0m\u001b[0;34m.\u001b[0m\u001b[0minvoke\u001b[0m\u001b[0;34m,\u001b[0m \u001b[0minput_\u001b[0m\u001b[0;34m,\u001b[0m \u001b[0mconfig\u001b[0m\u001b[0;34m)\u001b[0m\u001b[0;34m\u001b[0m\u001b[0;34m\u001b[0m\u001b[0m\n\u001b[0m\u001b[1;32m   3094\u001b[0m         \u001b[0;31m# finish the root run\u001b[0m\u001b[0;34m\u001b[0m\u001b[0;34m\u001b[0m\u001b[0m\n\u001b[1;32m   3095\u001b[0m         \u001b[0;32mexcept\u001b[0m \u001b[0mBaseException\u001b[0m \u001b[0;32mas\u001b[0m \u001b[0me\u001b[0m\u001b[0;34m:\u001b[0m\u001b[0;34m\u001b[0m\u001b[0;34m\u001b[0m\u001b[0m\n",
            "\u001b[0;32m/usr/local/lib/python3.12/dist-packages/langchain_core/language_models/chat_models.py\u001b[0m in \u001b[0;36minvoke\u001b[0;34m(self, input, config, stop, **kwargs)\u001b[0m\n\u001b[1;32m    377\u001b[0m             cast(\n\u001b[1;32m    378\u001b[0m                 \u001b[0;34m\"ChatGeneration\"\u001b[0m\u001b[0;34m,\u001b[0m\u001b[0;34m\u001b[0m\u001b[0;34m\u001b[0m\u001b[0m\n\u001b[0;32m--> 379\u001b[0;31m                 self.generate_prompt(\n\u001b[0m\u001b[1;32m    380\u001b[0m                     \u001b[0;34m[\u001b[0m\u001b[0mself\u001b[0m\u001b[0;34m.\u001b[0m\u001b[0m_convert_input\u001b[0m\u001b[0;34m(\u001b[0m\u001b[0minput\u001b[0m\u001b[0;34m)\u001b[0m\u001b[0;34m]\u001b[0m\u001b[0;34m,\u001b[0m\u001b[0;34m\u001b[0m\u001b[0;34m\u001b[0m\u001b[0m\n\u001b[1;32m    381\u001b[0m                     \u001b[0mstop\u001b[0m\u001b[0;34m=\u001b[0m\u001b[0mstop\u001b[0m\u001b[0;34m,\u001b[0m\u001b[0;34m\u001b[0m\u001b[0;34m\u001b[0m\u001b[0m\n",
            "\u001b[0;32m/usr/local/lib/python3.12/dist-packages/langchain_core/language_models/chat_models.py\u001b[0m in \u001b[0;36mgenerate_prompt\u001b[0;34m(self, prompts, stop, callbacks, **kwargs)\u001b[0m\n\u001b[1;32m   1086\u001b[0m     ) -> LLMResult:\n\u001b[1;32m   1087\u001b[0m         \u001b[0mprompt_messages\u001b[0m \u001b[0;34m=\u001b[0m \u001b[0;34m[\u001b[0m\u001b[0mp\u001b[0m\u001b[0;34m.\u001b[0m\u001b[0mto_messages\u001b[0m\u001b[0;34m(\u001b[0m\u001b[0;34m)\u001b[0m \u001b[0;32mfor\u001b[0m \u001b[0mp\u001b[0m \u001b[0;32min\u001b[0m \u001b[0mprompts\u001b[0m\u001b[0;34m]\u001b[0m\u001b[0;34m\u001b[0m\u001b[0;34m\u001b[0m\u001b[0m\n\u001b[0;32m-> 1088\u001b[0;31m         \u001b[0;32mreturn\u001b[0m \u001b[0mself\u001b[0m\u001b[0;34m.\u001b[0m\u001b[0mgenerate\u001b[0m\u001b[0;34m(\u001b[0m\u001b[0mprompt_messages\u001b[0m\u001b[0;34m,\u001b[0m \u001b[0mstop\u001b[0m\u001b[0;34m=\u001b[0m\u001b[0mstop\u001b[0m\u001b[0;34m,\u001b[0m \u001b[0mcallbacks\u001b[0m\u001b[0;34m=\u001b[0m\u001b[0mcallbacks\u001b[0m\u001b[0;34m,\u001b[0m \u001b[0;34m**\u001b[0m\u001b[0mkwargs\u001b[0m\u001b[0;34m)\u001b[0m\u001b[0;34m\u001b[0m\u001b[0;34m\u001b[0m\u001b[0m\n\u001b[0m\u001b[1;32m   1089\u001b[0m \u001b[0;34m\u001b[0m\u001b[0m\n\u001b[1;32m   1090\u001b[0m     \u001b[0;34m@\u001b[0m\u001b[0moverride\u001b[0m\u001b[0;34m\u001b[0m\u001b[0;34m\u001b[0m\u001b[0m\n",
            "\u001b[0;32m/usr/local/lib/python3.12/dist-packages/langchain_core/language_models/chat_models.py\u001b[0m in \u001b[0;36mgenerate\u001b[0;34m(self, messages, stop, callbacks, tags, metadata, run_name, run_id, **kwargs)\u001b[0m\n\u001b[1;32m    901\u001b[0m             \u001b[0;32mtry\u001b[0m\u001b[0;34m:\u001b[0m\u001b[0;34m\u001b[0m\u001b[0;34m\u001b[0m\u001b[0m\n\u001b[1;32m    902\u001b[0m                 results.append(\n\u001b[0;32m--> 903\u001b[0;31m                     self._generate_with_cache(\n\u001b[0m\u001b[1;32m    904\u001b[0m                         \u001b[0mm\u001b[0m\u001b[0;34m,\u001b[0m\u001b[0;34m\u001b[0m\u001b[0;34m\u001b[0m\u001b[0m\n\u001b[1;32m    905\u001b[0m                         \u001b[0mstop\u001b[0m\u001b[0;34m=\u001b[0m\u001b[0mstop\u001b[0m\u001b[0;34m,\u001b[0m\u001b[0;34m\u001b[0m\u001b[0;34m\u001b[0m\u001b[0m\n",
            "\u001b[0;32m/usr/local/lib/python3.12/dist-packages/langchain_core/language_models/chat_models.py\u001b[0m in \u001b[0;36m_generate_with_cache\u001b[0;34m(self, messages, stop, run_manager, **kwargs)\u001b[0m\n\u001b[1;32m   1190\u001b[0m             \u001b[0mresult\u001b[0m \u001b[0;34m=\u001b[0m \u001b[0mgenerate_from_stream\u001b[0m\u001b[0;34m(\u001b[0m\u001b[0miter\u001b[0m\u001b[0;34m(\u001b[0m\u001b[0mchunks\u001b[0m\u001b[0;34m)\u001b[0m\u001b[0;34m)\u001b[0m\u001b[0;34m\u001b[0m\u001b[0;34m\u001b[0m\u001b[0m\n\u001b[1;32m   1191\u001b[0m         \u001b[0;32melif\u001b[0m \u001b[0minspect\u001b[0m\u001b[0;34m.\u001b[0m\u001b[0msignature\u001b[0m\u001b[0;34m(\u001b[0m\u001b[0mself\u001b[0m\u001b[0;34m.\u001b[0m\u001b[0m_generate\u001b[0m\u001b[0;34m)\u001b[0m\u001b[0;34m.\u001b[0m\u001b[0mparameters\u001b[0m\u001b[0;34m.\u001b[0m\u001b[0mget\u001b[0m\u001b[0;34m(\u001b[0m\u001b[0;34m\"run_manager\"\u001b[0m\u001b[0;34m)\u001b[0m\u001b[0;34m:\u001b[0m\u001b[0;34m\u001b[0m\u001b[0;34m\u001b[0m\u001b[0m\n\u001b[0;32m-> 1192\u001b[0;31m             result = self._generate(\n\u001b[0m\u001b[1;32m   1193\u001b[0m                 \u001b[0mmessages\u001b[0m\u001b[0;34m,\u001b[0m \u001b[0mstop\u001b[0m\u001b[0;34m=\u001b[0m\u001b[0mstop\u001b[0m\u001b[0;34m,\u001b[0m \u001b[0mrun_manager\u001b[0m\u001b[0;34m=\u001b[0m\u001b[0mrun_manager\u001b[0m\u001b[0;34m,\u001b[0m \u001b[0;34m**\u001b[0m\u001b[0mkwargs\u001b[0m\u001b[0;34m\u001b[0m\u001b[0;34m\u001b[0m\u001b[0m\n\u001b[1;32m   1194\u001b[0m             )\n",
            "\u001b[0;32m/usr/local/lib/python3.12/dist-packages/langchain_openai/chat_models/base.py\u001b[0m in \u001b[0;36m_generate\u001b[0;34m(self, messages, stop, run_manager, **kwargs)\u001b[0m\n\u001b[1;32m   1210\u001b[0m             \u001b[0;32mif\u001b[0m \u001b[0mraw_response\u001b[0m \u001b[0;32mis\u001b[0m \u001b[0;32mnot\u001b[0m \u001b[0;32mNone\u001b[0m \u001b[0;32mand\u001b[0m \u001b[0mhasattr\u001b[0m\u001b[0;34m(\u001b[0m\u001b[0mraw_response\u001b[0m\u001b[0;34m,\u001b[0m \u001b[0;34m\"http_response\"\u001b[0m\u001b[0;34m)\u001b[0m\u001b[0;34m:\u001b[0m\u001b[0;34m\u001b[0m\u001b[0;34m\u001b[0m\u001b[0m\n\u001b[1;32m   1211\u001b[0m                 \u001b[0me\u001b[0m\u001b[0;34m.\u001b[0m\u001b[0mresponse\u001b[0m \u001b[0;34m=\u001b[0m \u001b[0mraw_response\u001b[0m\u001b[0;34m.\u001b[0m\u001b[0mhttp_response\u001b[0m  \u001b[0;31m# type: ignore[attr-defined]\u001b[0m\u001b[0;34m\u001b[0m\u001b[0;34m\u001b[0m\u001b[0m\n\u001b[0;32m-> 1212\u001b[0;31m             \u001b[0;32mraise\u001b[0m \u001b[0me\u001b[0m\u001b[0;34m\u001b[0m\u001b[0;34m\u001b[0m\u001b[0m\n\u001b[0m\u001b[1;32m   1213\u001b[0m         if (\n\u001b[1;32m   1214\u001b[0m             \u001b[0mself\u001b[0m\u001b[0;34m.\u001b[0m\u001b[0minclude_response_headers\u001b[0m\u001b[0;34m\u001b[0m\u001b[0;34m\u001b[0m\u001b[0m\n",
            "\u001b[0;32m/usr/local/lib/python3.12/dist-packages/langchain_openai/chat_models/base.py\u001b[0m in \u001b[0;36m_generate\u001b[0;34m(self, messages, stop, run_manager, **kwargs)\u001b[0m\n\u001b[1;32m   1205\u001b[0m                 )\n\u001b[1;32m   1206\u001b[0m             \u001b[0;32melse\u001b[0m\u001b[0;34m:\u001b[0m\u001b[0;34m\u001b[0m\u001b[0;34m\u001b[0m\u001b[0m\n\u001b[0;32m-> 1207\u001b[0;31m                 \u001b[0mraw_response\u001b[0m \u001b[0;34m=\u001b[0m \u001b[0mself\u001b[0m\u001b[0;34m.\u001b[0m\u001b[0mclient\u001b[0m\u001b[0;34m.\u001b[0m\u001b[0mwith_raw_response\u001b[0m\u001b[0;34m.\u001b[0m\u001b[0mcreate\u001b[0m\u001b[0;34m(\u001b[0m\u001b[0;34m**\u001b[0m\u001b[0mpayload\u001b[0m\u001b[0;34m)\u001b[0m\u001b[0;34m\u001b[0m\u001b[0;34m\u001b[0m\u001b[0m\n\u001b[0m\u001b[1;32m   1208\u001b[0m                 \u001b[0mresponse\u001b[0m \u001b[0;34m=\u001b[0m \u001b[0mraw_response\u001b[0m\u001b[0;34m.\u001b[0m\u001b[0mparse\u001b[0m\u001b[0;34m(\u001b[0m\u001b[0;34m)\u001b[0m\u001b[0;34m\u001b[0m\u001b[0;34m\u001b[0m\u001b[0m\n\u001b[1;32m   1209\u001b[0m         \u001b[0;32mexcept\u001b[0m \u001b[0mException\u001b[0m \u001b[0;32mas\u001b[0m \u001b[0me\u001b[0m\u001b[0;34m:\u001b[0m\u001b[0;34m\u001b[0m\u001b[0;34m\u001b[0m\u001b[0m\n",
            "\u001b[0;32m/usr/local/lib/python3.12/dist-packages/openai/_legacy_response.py\u001b[0m in \u001b[0;36mwrapped\u001b[0;34m(*args, **kwargs)\u001b[0m\n\u001b[1;32m    362\u001b[0m         \u001b[0mkwargs\u001b[0m\u001b[0;34m[\u001b[0m\u001b[0;34m\"extra_headers\"\u001b[0m\u001b[0;34m]\u001b[0m \u001b[0;34m=\u001b[0m \u001b[0mextra_headers\u001b[0m\u001b[0;34m\u001b[0m\u001b[0;34m\u001b[0m\u001b[0m\n\u001b[1;32m    363\u001b[0m \u001b[0;34m\u001b[0m\u001b[0m\n\u001b[0;32m--> 364\u001b[0;31m         \u001b[0;32mreturn\u001b[0m \u001b[0mcast\u001b[0m\u001b[0;34m(\u001b[0m\u001b[0mLegacyAPIResponse\u001b[0m\u001b[0;34m[\u001b[0m\u001b[0mR\u001b[0m\u001b[0;34m]\u001b[0m\u001b[0;34m,\u001b[0m \u001b[0mfunc\u001b[0m\u001b[0;34m(\u001b[0m\u001b[0;34m*\u001b[0m\u001b[0margs\u001b[0m\u001b[0;34m,\u001b[0m \u001b[0;34m**\u001b[0m\u001b[0mkwargs\u001b[0m\u001b[0;34m)\u001b[0m\u001b[0;34m)\u001b[0m\u001b[0;34m\u001b[0m\u001b[0;34m\u001b[0m\u001b[0m\n\u001b[0m\u001b[1;32m    365\u001b[0m \u001b[0;34m\u001b[0m\u001b[0m\n\u001b[1;32m    366\u001b[0m     \u001b[0;32mreturn\u001b[0m \u001b[0mwrapped\u001b[0m\u001b[0;34m\u001b[0m\u001b[0;34m\u001b[0m\u001b[0m\n",
            "\u001b[0;32m/usr/local/lib/python3.12/dist-packages/openai/_utils/_utils.py\u001b[0m in \u001b[0;36mwrapper\u001b[0;34m(*args, **kwargs)\u001b[0m\n\u001b[1;32m    284\u001b[0m                         \u001b[0mmsg\u001b[0m \u001b[0;34m=\u001b[0m \u001b[0;34mf\"Missing required argument: {quote(missing[0])}\"\u001b[0m\u001b[0;34m\u001b[0m\u001b[0;34m\u001b[0m\u001b[0m\n\u001b[1;32m    285\u001b[0m                 \u001b[0;32mraise\u001b[0m \u001b[0mTypeError\u001b[0m\u001b[0;34m(\u001b[0m\u001b[0mmsg\u001b[0m\u001b[0;34m)\u001b[0m\u001b[0;34m\u001b[0m\u001b[0;34m\u001b[0m\u001b[0m\n\u001b[0;32m--> 286\u001b[0;31m             \u001b[0;32mreturn\u001b[0m \u001b[0mfunc\u001b[0m\u001b[0;34m(\u001b[0m\u001b[0;34m*\u001b[0m\u001b[0margs\u001b[0m\u001b[0;34m,\u001b[0m \u001b[0;34m**\u001b[0m\u001b[0mkwargs\u001b[0m\u001b[0;34m)\u001b[0m\u001b[0;34m\u001b[0m\u001b[0;34m\u001b[0m\u001b[0m\n\u001b[0m\u001b[1;32m    287\u001b[0m \u001b[0;34m\u001b[0m\u001b[0m\n\u001b[1;32m    288\u001b[0m         \u001b[0;32mreturn\u001b[0m \u001b[0mwrapper\u001b[0m  \u001b[0;31m# type: ignore\u001b[0m\u001b[0;34m\u001b[0m\u001b[0;34m\u001b[0m\u001b[0m\n",
            "\u001b[0;32m/usr/local/lib/python3.12/dist-packages/openai/resources/chat/completions/completions.py\u001b[0m in \u001b[0;36mcreate\u001b[0;34m(self, messages, model, audio, frequency_penalty, function_call, functions, logit_bias, logprobs, max_completion_tokens, max_tokens, metadata, modalities, n, parallel_tool_calls, prediction, presence_penalty, prompt_cache_key, reasoning_effort, response_format, safety_identifier, seed, service_tier, stop, store, stream, stream_options, temperature, tool_choice, tools, top_logprobs, top_p, user, verbosity, web_search_options, extra_headers, extra_query, extra_body, timeout)\u001b[0m\n\u001b[1;32m   1145\u001b[0m     ) -> ChatCompletion | Stream[ChatCompletionChunk]:\n\u001b[1;32m   1146\u001b[0m         \u001b[0mvalidate_response_format\u001b[0m\u001b[0;34m(\u001b[0m\u001b[0mresponse_format\u001b[0m\u001b[0;34m)\u001b[0m\u001b[0;34m\u001b[0m\u001b[0;34m\u001b[0m\u001b[0m\n\u001b[0;32m-> 1147\u001b[0;31m         return self._post(\n\u001b[0m\u001b[1;32m   1148\u001b[0m             \u001b[0;34m\"/chat/completions\"\u001b[0m\u001b[0;34m,\u001b[0m\u001b[0;34m\u001b[0m\u001b[0;34m\u001b[0m\u001b[0m\n\u001b[1;32m   1149\u001b[0m             body=maybe_transform(\n",
            "\u001b[0;32m/usr/local/lib/python3.12/dist-packages/openai/_base_client.py\u001b[0m in \u001b[0;36mpost\u001b[0;34m(self, path, cast_to, body, options, files, stream, stream_cls)\u001b[0m\n\u001b[1;32m   1257\u001b[0m             \u001b[0mmethod\u001b[0m\u001b[0;34m=\u001b[0m\u001b[0;34m\"post\"\u001b[0m\u001b[0;34m,\u001b[0m \u001b[0murl\u001b[0m\u001b[0;34m=\u001b[0m\u001b[0mpath\u001b[0m\u001b[0;34m,\u001b[0m \u001b[0mjson_data\u001b[0m\u001b[0;34m=\u001b[0m\u001b[0mbody\u001b[0m\u001b[0;34m,\u001b[0m \u001b[0mfiles\u001b[0m\u001b[0;34m=\u001b[0m\u001b[0mto_httpx_files\u001b[0m\u001b[0;34m(\u001b[0m\u001b[0mfiles\u001b[0m\u001b[0;34m)\u001b[0m\u001b[0;34m,\u001b[0m \u001b[0;34m**\u001b[0m\u001b[0moptions\u001b[0m\u001b[0;34m\u001b[0m\u001b[0;34m\u001b[0m\u001b[0m\n\u001b[1;32m   1258\u001b[0m         )\n\u001b[0;32m-> 1259\u001b[0;31m         \u001b[0;32mreturn\u001b[0m \u001b[0mcast\u001b[0m\u001b[0;34m(\u001b[0m\u001b[0mResponseT\u001b[0m\u001b[0;34m,\u001b[0m \u001b[0mself\u001b[0m\u001b[0;34m.\u001b[0m\u001b[0mrequest\u001b[0m\u001b[0;34m(\u001b[0m\u001b[0mcast_to\u001b[0m\u001b[0;34m,\u001b[0m \u001b[0mopts\u001b[0m\u001b[0;34m,\u001b[0m \u001b[0mstream\u001b[0m\u001b[0;34m=\u001b[0m\u001b[0mstream\u001b[0m\u001b[0;34m,\u001b[0m \u001b[0mstream_cls\u001b[0m\u001b[0;34m=\u001b[0m\u001b[0mstream_cls\u001b[0m\u001b[0;34m)\u001b[0m\u001b[0;34m)\u001b[0m\u001b[0;34m\u001b[0m\u001b[0;34m\u001b[0m\u001b[0m\n\u001b[0m\u001b[1;32m   1260\u001b[0m \u001b[0;34m\u001b[0m\u001b[0m\n\u001b[1;32m   1261\u001b[0m     def patch(\n",
            "\u001b[0;32m/usr/local/lib/python3.12/dist-packages/openai/_base_client.py\u001b[0m in \u001b[0;36mrequest\u001b[0;34m(self, cast_to, options, stream, stream_cls)\u001b[0m\n\u001b[1;32m   1045\u001b[0m \u001b[0;34m\u001b[0m\u001b[0m\n\u001b[1;32m   1046\u001b[0m                 \u001b[0mlog\u001b[0m\u001b[0;34m.\u001b[0m\u001b[0mdebug\u001b[0m\u001b[0;34m(\u001b[0m\u001b[0;34m\"Re-raising status error\"\u001b[0m\u001b[0;34m)\u001b[0m\u001b[0;34m\u001b[0m\u001b[0;34m\u001b[0m\u001b[0m\n\u001b[0;32m-> 1047\u001b[0;31m                 \u001b[0;32mraise\u001b[0m \u001b[0mself\u001b[0m\u001b[0;34m.\u001b[0m\u001b[0m_make_status_error_from_response\u001b[0m\u001b[0;34m(\u001b[0m\u001b[0merr\u001b[0m\u001b[0;34m.\u001b[0m\u001b[0mresponse\u001b[0m\u001b[0;34m)\u001b[0m \u001b[0;32mfrom\u001b[0m \u001b[0;32mNone\u001b[0m\u001b[0;34m\u001b[0m\u001b[0;34m\u001b[0m\u001b[0m\n\u001b[0m\u001b[1;32m   1048\u001b[0m \u001b[0;34m\u001b[0m\u001b[0m\n\u001b[1;32m   1049\u001b[0m             \u001b[0;32mbreak\u001b[0m\u001b[0;34m\u001b[0m\u001b[0;34m\u001b[0m\u001b[0m\n",
            "\u001b[0;31mAuthenticationError\u001b[0m: Error code: 401 - {'error': {'message': 'Incorrect API key provided: xxx. You can find your API key at https://platform.openai.com/account/api-keys.', 'type': 'invalid_request_error', 'param': None, 'code': 'invalid_api_key'}}"
          ]
        }
      ],
      "source": [
        "result = full_chain.invoke({\"question\":\"2x + 5 = 15\"})\n",
        "\n",
        "result"
      ]
    },
    {
      "cell_type": "code",
      "execution_count": 53,
      "metadata": {
        "id": "MNZZMLRq3PGL"
      },
      "outputs": [],
      "source": [
        "formatted_result = result.replace('\\\\[', '$$') \\\n",
        "                         .replace('\\\\]', '$$') \\\n",
        "                         .replace('\\\\(', '$') \\\n",
        "                         .replace('\\\\)', '$')"
      ]
    },
    {
      "cell_type": "code",
      "execution_count": 54,
      "metadata": {
        "colab": {
          "base_uri": "https://localhost:8080/",
          "height": 319
        },
        "id": "ZsY3BV243eCg",
        "outputId": "90701499-1a0d-45a2-a33d-4c571d319489"
      },
      "outputs": [
        {
          "data": {
            "text/markdown": [
              "ถูกต้องแล้วครับ โจทย์ข้อนี้ถูกต้องและสามารถแก้ได้ดังนี้ครับ:\n",
              "\n",
              "**วิธิีทำจากผลลัทธ์:**\n",
              "\n",
              "โจทย์นี้เป็นการแก้หาค่าของ x ที่ทำให้ 2x + 5 = 15\n",
              "\n",
              "**การแก้หาค่าของ x:**\n",
              "\n",
              "1. **หาค่าของ x ที่ทำให้ 2x + 5 = 15:**\n",
              "   *  2x + 5 = 15\n",
              "   *  2x = 10\n",
              "   *  x = 5\n",
              "\n",
              "**ดังนั้น x = 5**\n",
              "\n",
              "**สรุป:**\n",
              "\n",
              "* **วิธิีทำจากผลลัทธ์:** โจทย์ข้อนี้เป็นเพียงการแก้ปัญหาที่เรียกว่า \"แก้หาค่าของ x ที่ทำให้ 2x + 5 = 15\"\n",
              "* **การแก้หาค่าของ x:** โจทย์ข้อนี้เป็นคำถามที่ต้องการให้เราหาค่าของ x ที่ทำให้ 2x + 5 = 15\n",
              "\n"
            ],
            "text/plain": [
              "<IPython.core.display.Markdown object>"
            ]
          },
          "metadata": {},
          "output_type": "display_data"
        }
      ],
      "source": [
        "display(Markdown(formatted_result))"
      ]
    },
    {
      "cell_type": "code",
      "execution_count": 55,
      "metadata": {
        "id": "i3BloICP3fRE"
      },
      "outputs": [],
      "source": [
        "prompt = \"\"\"\n",
        "Extract keywords from this review\n",
        "{review}\n",
        "\"\"\"\n",
        "\n",
        "# Pros Simple, fast\n",
        "# Cons อาจได้ผลไม่ดีกับ Tasks ซับซ้อน"
      ]
    },
    {
      "cell_type": "code",
      "execution_count": 56,
      "metadata": {
        "id": "KIsSwBF_3pze"
      },
      "outputs": [],
      "source": [
        "prompt = \"\"\"\n",
        "Extract keywords from reviews.\n",
        "\n",
        "Example 1\n",
        "Review: \"กาแฟอร่อย บริการดี\"\n",
        "Keywords: กาแฟ, บริการ\n",
        "\n",
        "Example 2\n",
        "Review: \"ราคาแพง แต่คุ้มค่า\"\n",
        "Keywords: ราคา, คุณภาพ\n",
        "\n",
        "Now extract from this review\n",
        "Review: {review}\n",
        "Keywords:\n",
        "\"\"\"\n",
        "\n",
        "# Pros ได้ผลดีกว่า Zero-shot\n",
        "# Cons Prompt ใช้ Tokens มากขึ้น"
      ]
    },
    {
      "cell_type": "code",
      "execution_count": 57,
      "metadata": {
        "id": "3t4xYsqt3vkX"
      },
      "outputs": [],
      "source": [
        "prompt = \"\"\"\n",
        "Review: {review}\n",
        "\n",
        "ขั้นตอนการ Extract keywords\n",
        "1. อ่านรีวิวและเข้าใจความหมาย\n",
        "2. ระบุหัวข้อหลักที่กล่าวถึง\n",
        "3. เลือก 3 keywords ที่สำคัญที่สุด\n",
        "4. ตอบในรูปแบบ JSON: {{\"keywords\": \"คำ1, คำ2, คำ3\"}}\n",
        "\n",
        "ให้ทำทีละขั้นตอน\n",
        "\"\"\"\n",
        "\n",
        "# Pros ได้ผลดีกับ Reasoning tasks\n",
        "# Cons ใช้ Tokens มากกว่า ช้ากว่า"
      ]
    },
    {
      "cell_type": "code",
      "execution_count": 58,
      "metadata": {
        "id": "u6Ct4iyO3w7e"
      },
      "outputs": [],
      "source": [
        "keyword_prompt = PromptTemplate(\n",
        "template = \"\"\"\n",
        "จาก Review ต่อไปนี้\n",
        "Extract 3 keywords ที่เป็นตัวแทนของ Review นี้\n",
        "\n",
        "Review: {review}\n",
        "\n",
        "ขั้นตอนการ Extract keywords\n",
        "1. อ่านรีวิวและเข้าใจความหมาย\n",
        "2. ระบุหัวข้อหลักที่กล่าวถึง\n",
        "3. เลือก 3 keywords ที่สำคัญที่สุด\n",
        "4. ตอบในรูปแบบ JSON: {{\"keywords\": \"คำ1, คำ2, คำ3\"}}\n",
        "\n",
        "ให้ทำทีละขั้นตอน\n",
        "\"\"\")"
      ]
    },
    {
      "cell_type": "code",
      "execution_count": 59,
      "metadata": {
        "colab": {
          "base_uri": "https://localhost:8080/",
          "height": 147
        },
        "id": "u8ZWdG6i3x9S",
        "outputId": "300e0dad-e0a2-4422-9ed9-81555decbec6"
      },
      "outputs": [
        {
          "data": {
            "text/html": [
              "<div>\n",
              "<style scoped>\n",
              "    .dataframe tbody tr th:only-of-type {\n",
              "        vertical-align: middle;\n",
              "    }\n",
              "\n",
              "    .dataframe tbody tr th {\n",
              "        vertical-align: top;\n",
              "    }\n",
              "\n",
              "    .dataframe thead th {\n",
              "        text-align: right;\n",
              "    }\n",
              "</style>\n",
              "<table border=\"1\" class=\"dataframe\">\n",
              "  <thead>\n",
              "    <tr style=\"text-align: right;\">\n",
              "      <th></th>\n",
              "      <th>column0</th>\n",
              "    </tr>\n",
              "  </thead>\n",
              "  <tbody>\n",
              "    <tr>\n",
              "      <th>0</th>\n",
              "      <td>ร้านอาหารใหญ่มากกกกกกก \\nเลี้ยวเข้ามาเจอห้องน้...</td>\n",
              "    </tr>\n",
              "    <tr>\n",
              "      <th>1</th>\n",
              "      <td>วันนี้ได้มีโอกาสไปนั่งซดกาแฟที่ร้านวาวี แถวๆอา...</td>\n",
              "    </tr>\n",
              "  </tbody>\n",
              "</table>\n",
              "</div><br><label><b>dtype:</b> object</label>"
            ],
            "text/plain": [
              "0    ร้านอาหารใหญ่มากกกกกกก \\nเลี้ยวเข้ามาเจอห้องน้...\n",
              "1    วันนี้ได้มีโอกาสไปนั่งซดกาแฟที่ร้านวาวี แถวๆอา...\n",
              "Name: column0, dtype: object"
            ]
          },
          "execution_count": 59,
          "metadata": {},
          "output_type": "execute_result"
        }
      ],
      "source": [
        "sample_reviews = coffee_reviews_df['column0'].head(2)\n",
        "sample_reviews"
      ]
    },
    {
      "cell_type": "code",
      "execution_count": 60,
      "metadata": {
        "id": "JT-bpC-p3zOe"
      },
      "outputs": [],
      "source": [
        "sample_reviews.to_csv('/content/sample_reviews.csv', index=False)"
      ]
    },
    {
      "cell_type": "code",
      "execution_count": 61,
      "metadata": {
        "id": "ifK6CAik31gW"
      },
      "outputs": [],
      "source": [
        "keyword_extract = keyword_prompt | llm | StrOutputParser()"
      ]
    },
    {
      "cell_type": "code",
      "execution_count": 62,
      "metadata": {
        "colab": {
          "base_uri": "https://localhost:8080/"
        },
        "id": "HHrJf3C95Mvm",
        "outputId": "3128fa87-42af-4627-c430-a7fb7d86fd67"
      },
      "outputs": [
        {
          "name": "stdout",
          "output_type": "stream",
          "text": [
            "CPU times: user 86.5 ms, sys: 8.57 ms, total: 95.1 ms\n",
            "Wall time: 10.1 s\n"
          ]
        }
      ],
      "source": [
        "%%time\n",
        "results = []\n",
        "for review in sample_reviews:\n",
        "    text = keyword_extract.invoke({\"review\": review})\n",
        "    cleaned = (text).replace(\"**\", \"\").strip()\n",
        "    results.append({\"review\": review, \"text\": cleaned})"
      ]
    },
    {
      "cell_type": "code",
      "execution_count": 63,
      "metadata": {
        "colab": {
          "base_uri": "https://localhost:8080/"
        },
        "id": "x0bNDoOP8on9",
        "outputId": "4e45f381-40c5-4d13-ae0a-4547faca81ad"
      },
      "outputs": [
        {
          "name": "stdout",
          "output_type": "stream",
          "text": [
            "Review ร้านอาหารใหญ่มากกกกกกก \n",
            "เลี้ยวเข้ามาเจอห้องน้ำก่อนเลย เออแปลกดี \n",
            "ห้องทานหลักๆอยู่ชั้น 2 มีกาแฟ น้ำผึ...\n",
            "text ```json\n",
            "{\"keywords\": [\"ร้านอาหาร\", \"ห้องน้ำ\", \"กาแฟ\", \"น้ำผึ้ง\", \"น้ำผึ้ง\", \"ลาบไข่ต้ม\", \"ไข่มัน\", \"ขนมไทย\", \"ขนมหวาน\", \"ฟรี\", \"ราคา\", \"เลิกกิน\", \"กินแล้ว\", \"ขนมหวาน\", \"ไทย\", \"อาหาร\", \"รีวิว\", \"เข้าใจ\", \"ความหมาย\", \"หัวข้อหลัก\", \"เลือก3keywords\", \"ตอบในรูปแบบ JSON\"]}\n",
            "```\n",
            "\n",
            "Review วันนี้ได้มีโอกาสไปนั่งซดกาแฟที่ร้านวาวี แถวๆอารีย์\n",
            "\n",
            "ก็ได้ยินมาบ่อยๆละ จากหลายที่ แต่ที่บ่อยสุดก็จาก ...\n",
            "text ```json\n",
            "{\n",
            "  \"keywords\": [\n",
            "    \"ลาเต้\",\n",
            "    \"กาแฟ\",\n",
            "    \"ร้านวาวี\",\n",
            "    \"อารีย์\",\n",
            "    \"Starbuck\",\n",
            "    \"การกิน\",\n",
            "    \"คาเฟ่\",\n",
            "    \"ร้านอาหาร\",\n",
            "    \"วิว\",\n",
            "    \"สวนบ้าน\",\n",
            "    \"สีเขียว\",\n",
            "    \"สีเขียวเล็กๆ\",\n",
            "    \"เมือง\",\n",
            "    \"สวน\",\n",
            "    \"ต้นไม้\",\n",
            "    \"สีม่วง\",\n",
            "    \"ความอร่อย\",\n",
            "    \"รสชาติ\",\n",
            "    \"กลิ่น\",\n",
            "    \"มวยรุ่นเดียวกะ Starbuck\",\n",
            "    \"เมพพพพ\",\n",
            "    \"การชิม\",\n",
            "    \"เครื่องดื่ม\",\n",
            "    \"กาแฟรสชาติไม่ธรรมดา\",\n",
            "    \"รสชาติและกลิ่นไม่ธรรมดา\",\n",
            "    \"เมนูอื่นๆ\",\n",
            "    \"ทานอาหาร\",\n",
            "    \"จิบกาแฟ\",\n",
            "    \"ฟังเพลง\",\n",
            "    \"พักผ่อนได้ดี\",\n",
            "    \"การกิน\",\n",
            "    \"ความสุข\",\n",
            "    \"ความอร่อย\",\n",
            "    \"ราคาไม่แพง\",\n",
            "    \"บ่อยๆ\",\n",
            "    \"จุกได้\",\n",
            "    \"ได้\",\n",
            "    \"กินบ่อย\",\n",
            "    \"ได้บ่อย\",\n",
            "    \"ซื้อ\",\n",
            "    \"คาเฟ่\",\n",
            "    \"ร้านอาหาร\",\n",
            "    \"ร้านค้า\",\n",
            "    \"ซอย\",\n",
            "    \"แต่อยู่ตรงข้าม Villa\",\n",
            "    \"บ้าน\",\n",
            "    \"ดูวิว\",\n",
            "    \"รอกาแฟ\",\n",
            "    \"ร้านค้า\",\n",
            "    \"ร้านค้าออนไลน์\",\n",
            "    \"ร้านค้าปลีก\",\n",
            "    \"ร้านค้าบูติคอปิ้ง\",\n",
            "    \"ร้านค้าปลีก\"\n",
            "  ]\n",
            "}\n",
            "```\n",
            "\n"
          ]
        }
      ],
      "source": [
        "for result in results:\n",
        "    print(f\"Review {result['review'][:100]}...\")\n",
        "    print(f\"text {result['text']}\\n\")"
      ]
    },
    {
      "cell_type": "code",
      "execution_count": 64,
      "metadata": {
        "id": "FezqUdDOALrn"
      },
      "outputs": [],
      "source": [
        "keyword_extract = keyword_prompt | llm2 | StrOutputParser()"
      ]
    },
    {
      "cell_type": "code",
      "execution_count": 65,
      "metadata": {
        "colab": {
          "base_uri": "https://localhost:8080/",
          "height": 529
        },
        "id": "Zurlau4dAOA3",
        "outputId": "4a91c523-ac03-43cb-ef76-6ef2f6a6f224"
      },
      "outputs": [
        {
          "ename": "AuthenticationError",
          "evalue": "Error code: 401 - {'error': {'message': 'Incorrect API key provided: xxx. You can find your API key at https://platform.openai.com/account/api-keys.', 'type': 'invalid_request_error', 'param': None, 'code': 'invalid_api_key'}}",
          "output_type": "error",
          "traceback": [
            "\u001b[0;31m---------------------------------------------------------------------------\u001b[0m",
            "\u001b[0;31mAuthenticationError\u001b[0m                       Traceback (most recent call last)",
            "\u001b[0;32m<timed exec>\u001b[0m in \u001b[0;36m<module>\u001b[0;34m\u001b[0m\n",
            "\u001b[0;32m/usr/local/lib/python3.12/dist-packages/langchain_core/runnables/base.py\u001b[0m in \u001b[0;36minvoke\u001b[0;34m(self, input, config, **kwargs)\u001b[0m\n\u001b[1;32m   3091\u001b[0m                         \u001b[0minput_\u001b[0m \u001b[0;34m=\u001b[0m \u001b[0mcontext\u001b[0m\u001b[0;34m.\u001b[0m\u001b[0mrun\u001b[0m\u001b[0;34m(\u001b[0m\u001b[0mstep\u001b[0m\u001b[0;34m.\u001b[0m\u001b[0minvoke\u001b[0m\u001b[0;34m,\u001b[0m \u001b[0minput_\u001b[0m\u001b[0;34m,\u001b[0m \u001b[0mconfig\u001b[0m\u001b[0;34m,\u001b[0m \u001b[0;34m**\u001b[0m\u001b[0mkwargs\u001b[0m\u001b[0;34m)\u001b[0m\u001b[0;34m\u001b[0m\u001b[0;34m\u001b[0m\u001b[0m\n\u001b[1;32m   3092\u001b[0m                     \u001b[0;32melse\u001b[0m\u001b[0;34m:\u001b[0m\u001b[0;34m\u001b[0m\u001b[0;34m\u001b[0m\u001b[0m\n\u001b[0;32m-> 3093\u001b[0;31m                         \u001b[0minput_\u001b[0m \u001b[0;34m=\u001b[0m \u001b[0mcontext\u001b[0m\u001b[0;34m.\u001b[0m\u001b[0mrun\u001b[0m\u001b[0;34m(\u001b[0m\u001b[0mstep\u001b[0m\u001b[0;34m.\u001b[0m\u001b[0minvoke\u001b[0m\u001b[0;34m,\u001b[0m \u001b[0minput_\u001b[0m\u001b[0;34m,\u001b[0m \u001b[0mconfig\u001b[0m\u001b[0;34m)\u001b[0m\u001b[0;34m\u001b[0m\u001b[0;34m\u001b[0m\u001b[0m\n\u001b[0m\u001b[1;32m   3094\u001b[0m         \u001b[0;31m# finish the root run\u001b[0m\u001b[0;34m\u001b[0m\u001b[0;34m\u001b[0m\u001b[0m\n\u001b[1;32m   3095\u001b[0m         \u001b[0;32mexcept\u001b[0m \u001b[0mBaseException\u001b[0m \u001b[0;32mas\u001b[0m \u001b[0me\u001b[0m\u001b[0;34m:\u001b[0m\u001b[0;34m\u001b[0m\u001b[0;34m\u001b[0m\u001b[0m\n",
            "\u001b[0;32m/usr/local/lib/python3.12/dist-packages/langchain_core/language_models/chat_models.py\u001b[0m in \u001b[0;36minvoke\u001b[0;34m(self, input, config, stop, **kwargs)\u001b[0m\n\u001b[1;32m    377\u001b[0m             cast(\n\u001b[1;32m    378\u001b[0m                 \u001b[0;34m\"ChatGeneration\"\u001b[0m\u001b[0;34m,\u001b[0m\u001b[0;34m\u001b[0m\u001b[0;34m\u001b[0m\u001b[0m\n\u001b[0;32m--> 379\u001b[0;31m                 self.generate_prompt(\n\u001b[0m\u001b[1;32m    380\u001b[0m                     \u001b[0;34m[\u001b[0m\u001b[0mself\u001b[0m\u001b[0;34m.\u001b[0m\u001b[0m_convert_input\u001b[0m\u001b[0;34m(\u001b[0m\u001b[0minput\u001b[0m\u001b[0;34m)\u001b[0m\u001b[0;34m]\u001b[0m\u001b[0;34m,\u001b[0m\u001b[0;34m\u001b[0m\u001b[0;34m\u001b[0m\u001b[0m\n\u001b[1;32m    381\u001b[0m                     \u001b[0mstop\u001b[0m\u001b[0;34m=\u001b[0m\u001b[0mstop\u001b[0m\u001b[0;34m,\u001b[0m\u001b[0;34m\u001b[0m\u001b[0;34m\u001b[0m\u001b[0m\n",
            "\u001b[0;32m/usr/local/lib/python3.12/dist-packages/langchain_core/language_models/chat_models.py\u001b[0m in \u001b[0;36mgenerate_prompt\u001b[0;34m(self, prompts, stop, callbacks, **kwargs)\u001b[0m\n\u001b[1;32m   1086\u001b[0m     ) -> LLMResult:\n\u001b[1;32m   1087\u001b[0m         \u001b[0mprompt_messages\u001b[0m \u001b[0;34m=\u001b[0m \u001b[0;34m[\u001b[0m\u001b[0mp\u001b[0m\u001b[0;34m.\u001b[0m\u001b[0mto_messages\u001b[0m\u001b[0;34m(\u001b[0m\u001b[0;34m)\u001b[0m \u001b[0;32mfor\u001b[0m \u001b[0mp\u001b[0m \u001b[0;32min\u001b[0m \u001b[0mprompts\u001b[0m\u001b[0;34m]\u001b[0m\u001b[0;34m\u001b[0m\u001b[0;34m\u001b[0m\u001b[0m\n\u001b[0;32m-> 1088\u001b[0;31m         \u001b[0;32mreturn\u001b[0m \u001b[0mself\u001b[0m\u001b[0;34m.\u001b[0m\u001b[0mgenerate\u001b[0m\u001b[0;34m(\u001b[0m\u001b[0mprompt_messages\u001b[0m\u001b[0;34m,\u001b[0m \u001b[0mstop\u001b[0m\u001b[0;34m=\u001b[0m\u001b[0mstop\u001b[0m\u001b[0;34m,\u001b[0m \u001b[0mcallbacks\u001b[0m\u001b[0;34m=\u001b[0m\u001b[0mcallbacks\u001b[0m\u001b[0;34m,\u001b[0m \u001b[0;34m**\u001b[0m\u001b[0mkwargs\u001b[0m\u001b[0;34m)\u001b[0m\u001b[0;34m\u001b[0m\u001b[0;34m\u001b[0m\u001b[0m\n\u001b[0m\u001b[1;32m   1089\u001b[0m \u001b[0;34m\u001b[0m\u001b[0m\n\u001b[1;32m   1090\u001b[0m     \u001b[0;34m@\u001b[0m\u001b[0moverride\u001b[0m\u001b[0;34m\u001b[0m\u001b[0;34m\u001b[0m\u001b[0m\n",
            "\u001b[0;32m/usr/local/lib/python3.12/dist-packages/langchain_core/language_models/chat_models.py\u001b[0m in \u001b[0;36mgenerate\u001b[0;34m(self, messages, stop, callbacks, tags, metadata, run_name, run_id, **kwargs)\u001b[0m\n\u001b[1;32m    901\u001b[0m             \u001b[0;32mtry\u001b[0m\u001b[0;34m:\u001b[0m\u001b[0;34m\u001b[0m\u001b[0;34m\u001b[0m\u001b[0m\n\u001b[1;32m    902\u001b[0m                 results.append(\n\u001b[0;32m--> 903\u001b[0;31m                     self._generate_with_cache(\n\u001b[0m\u001b[1;32m    904\u001b[0m                         \u001b[0mm\u001b[0m\u001b[0;34m,\u001b[0m\u001b[0;34m\u001b[0m\u001b[0;34m\u001b[0m\u001b[0m\n\u001b[1;32m    905\u001b[0m                         \u001b[0mstop\u001b[0m\u001b[0;34m=\u001b[0m\u001b[0mstop\u001b[0m\u001b[0;34m,\u001b[0m\u001b[0;34m\u001b[0m\u001b[0;34m\u001b[0m\u001b[0m\n",
            "\u001b[0;32m/usr/local/lib/python3.12/dist-packages/langchain_core/language_models/chat_models.py\u001b[0m in \u001b[0;36m_generate_with_cache\u001b[0;34m(self, messages, stop, run_manager, **kwargs)\u001b[0m\n\u001b[1;32m   1190\u001b[0m             \u001b[0mresult\u001b[0m \u001b[0;34m=\u001b[0m \u001b[0mgenerate_from_stream\u001b[0m\u001b[0;34m(\u001b[0m\u001b[0miter\u001b[0m\u001b[0;34m(\u001b[0m\u001b[0mchunks\u001b[0m\u001b[0;34m)\u001b[0m\u001b[0;34m)\u001b[0m\u001b[0;34m\u001b[0m\u001b[0;34m\u001b[0m\u001b[0m\n\u001b[1;32m   1191\u001b[0m         \u001b[0;32melif\u001b[0m \u001b[0minspect\u001b[0m\u001b[0;34m.\u001b[0m\u001b[0msignature\u001b[0m\u001b[0;34m(\u001b[0m\u001b[0mself\u001b[0m\u001b[0;34m.\u001b[0m\u001b[0m_generate\u001b[0m\u001b[0;34m)\u001b[0m\u001b[0;34m.\u001b[0m\u001b[0mparameters\u001b[0m\u001b[0;34m.\u001b[0m\u001b[0mget\u001b[0m\u001b[0;34m(\u001b[0m\u001b[0;34m\"run_manager\"\u001b[0m\u001b[0;34m)\u001b[0m\u001b[0;34m:\u001b[0m\u001b[0;34m\u001b[0m\u001b[0;34m\u001b[0m\u001b[0m\n\u001b[0;32m-> 1192\u001b[0;31m             result = self._generate(\n\u001b[0m\u001b[1;32m   1193\u001b[0m                 \u001b[0mmessages\u001b[0m\u001b[0;34m,\u001b[0m \u001b[0mstop\u001b[0m\u001b[0;34m=\u001b[0m\u001b[0mstop\u001b[0m\u001b[0;34m,\u001b[0m \u001b[0mrun_manager\u001b[0m\u001b[0;34m=\u001b[0m\u001b[0mrun_manager\u001b[0m\u001b[0;34m,\u001b[0m \u001b[0;34m**\u001b[0m\u001b[0mkwargs\u001b[0m\u001b[0;34m\u001b[0m\u001b[0;34m\u001b[0m\u001b[0m\n\u001b[1;32m   1194\u001b[0m             )\n",
            "\u001b[0;32m/usr/local/lib/python3.12/dist-packages/langchain_openai/chat_models/base.py\u001b[0m in \u001b[0;36m_generate\u001b[0;34m(self, messages, stop, run_manager, **kwargs)\u001b[0m\n\u001b[1;32m   1210\u001b[0m             \u001b[0;32mif\u001b[0m \u001b[0mraw_response\u001b[0m \u001b[0;32mis\u001b[0m \u001b[0;32mnot\u001b[0m \u001b[0;32mNone\u001b[0m \u001b[0;32mand\u001b[0m \u001b[0mhasattr\u001b[0m\u001b[0;34m(\u001b[0m\u001b[0mraw_response\u001b[0m\u001b[0;34m,\u001b[0m \u001b[0;34m\"http_response\"\u001b[0m\u001b[0;34m)\u001b[0m\u001b[0;34m:\u001b[0m\u001b[0;34m\u001b[0m\u001b[0;34m\u001b[0m\u001b[0m\n\u001b[1;32m   1211\u001b[0m                 \u001b[0me\u001b[0m\u001b[0;34m.\u001b[0m\u001b[0mresponse\u001b[0m \u001b[0;34m=\u001b[0m \u001b[0mraw_response\u001b[0m\u001b[0;34m.\u001b[0m\u001b[0mhttp_response\u001b[0m  \u001b[0;31m# type: ignore[attr-defined]\u001b[0m\u001b[0;34m\u001b[0m\u001b[0;34m\u001b[0m\u001b[0m\n\u001b[0;32m-> 1212\u001b[0;31m             \u001b[0;32mraise\u001b[0m \u001b[0me\u001b[0m\u001b[0;34m\u001b[0m\u001b[0;34m\u001b[0m\u001b[0m\n\u001b[0m\u001b[1;32m   1213\u001b[0m         if (\n\u001b[1;32m   1214\u001b[0m             \u001b[0mself\u001b[0m\u001b[0;34m.\u001b[0m\u001b[0minclude_response_headers\u001b[0m\u001b[0;34m\u001b[0m\u001b[0;34m\u001b[0m\u001b[0m\n",
            "\u001b[0;32m/usr/local/lib/python3.12/dist-packages/langchain_openai/chat_models/base.py\u001b[0m in \u001b[0;36m_generate\u001b[0;34m(self, messages, stop, run_manager, **kwargs)\u001b[0m\n\u001b[1;32m   1205\u001b[0m                 )\n\u001b[1;32m   1206\u001b[0m             \u001b[0;32melse\u001b[0m\u001b[0;34m:\u001b[0m\u001b[0;34m\u001b[0m\u001b[0;34m\u001b[0m\u001b[0m\n\u001b[0;32m-> 1207\u001b[0;31m                 \u001b[0mraw_response\u001b[0m \u001b[0;34m=\u001b[0m \u001b[0mself\u001b[0m\u001b[0;34m.\u001b[0m\u001b[0mclient\u001b[0m\u001b[0;34m.\u001b[0m\u001b[0mwith_raw_response\u001b[0m\u001b[0;34m.\u001b[0m\u001b[0mcreate\u001b[0m\u001b[0;34m(\u001b[0m\u001b[0;34m**\u001b[0m\u001b[0mpayload\u001b[0m\u001b[0;34m)\u001b[0m\u001b[0;34m\u001b[0m\u001b[0;34m\u001b[0m\u001b[0m\n\u001b[0m\u001b[1;32m   1208\u001b[0m                 \u001b[0mresponse\u001b[0m \u001b[0;34m=\u001b[0m \u001b[0mraw_response\u001b[0m\u001b[0;34m.\u001b[0m\u001b[0mparse\u001b[0m\u001b[0;34m(\u001b[0m\u001b[0;34m)\u001b[0m\u001b[0;34m\u001b[0m\u001b[0;34m\u001b[0m\u001b[0m\n\u001b[1;32m   1209\u001b[0m         \u001b[0;32mexcept\u001b[0m \u001b[0mException\u001b[0m \u001b[0;32mas\u001b[0m \u001b[0me\u001b[0m\u001b[0;34m:\u001b[0m\u001b[0;34m\u001b[0m\u001b[0;34m\u001b[0m\u001b[0m\n",
            "\u001b[0;32m/usr/local/lib/python3.12/dist-packages/openai/_legacy_response.py\u001b[0m in \u001b[0;36mwrapped\u001b[0;34m(*args, **kwargs)\u001b[0m\n\u001b[1;32m    362\u001b[0m         \u001b[0mkwargs\u001b[0m\u001b[0;34m[\u001b[0m\u001b[0;34m\"extra_headers\"\u001b[0m\u001b[0;34m]\u001b[0m \u001b[0;34m=\u001b[0m \u001b[0mextra_headers\u001b[0m\u001b[0;34m\u001b[0m\u001b[0;34m\u001b[0m\u001b[0m\n\u001b[1;32m    363\u001b[0m \u001b[0;34m\u001b[0m\u001b[0m\n\u001b[0;32m--> 364\u001b[0;31m         \u001b[0;32mreturn\u001b[0m \u001b[0mcast\u001b[0m\u001b[0;34m(\u001b[0m\u001b[0mLegacyAPIResponse\u001b[0m\u001b[0;34m[\u001b[0m\u001b[0mR\u001b[0m\u001b[0;34m]\u001b[0m\u001b[0;34m,\u001b[0m \u001b[0mfunc\u001b[0m\u001b[0;34m(\u001b[0m\u001b[0;34m*\u001b[0m\u001b[0margs\u001b[0m\u001b[0;34m,\u001b[0m \u001b[0;34m**\u001b[0m\u001b[0mkwargs\u001b[0m\u001b[0;34m)\u001b[0m\u001b[0;34m)\u001b[0m\u001b[0;34m\u001b[0m\u001b[0;34m\u001b[0m\u001b[0m\n\u001b[0m\u001b[1;32m    365\u001b[0m \u001b[0;34m\u001b[0m\u001b[0m\n\u001b[1;32m    366\u001b[0m     \u001b[0;32mreturn\u001b[0m \u001b[0mwrapped\u001b[0m\u001b[0;34m\u001b[0m\u001b[0;34m\u001b[0m\u001b[0m\n",
            "\u001b[0;32m/usr/local/lib/python3.12/dist-packages/openai/_utils/_utils.py\u001b[0m in \u001b[0;36mwrapper\u001b[0;34m(*args, **kwargs)\u001b[0m\n\u001b[1;32m    284\u001b[0m                         \u001b[0mmsg\u001b[0m \u001b[0;34m=\u001b[0m \u001b[0;34mf\"Missing required argument: {quote(missing[0])}\"\u001b[0m\u001b[0;34m\u001b[0m\u001b[0;34m\u001b[0m\u001b[0m\n\u001b[1;32m    285\u001b[0m                 \u001b[0;32mraise\u001b[0m \u001b[0mTypeError\u001b[0m\u001b[0;34m(\u001b[0m\u001b[0mmsg\u001b[0m\u001b[0;34m)\u001b[0m\u001b[0;34m\u001b[0m\u001b[0;34m\u001b[0m\u001b[0m\n\u001b[0;32m--> 286\u001b[0;31m             \u001b[0;32mreturn\u001b[0m \u001b[0mfunc\u001b[0m\u001b[0;34m(\u001b[0m\u001b[0;34m*\u001b[0m\u001b[0margs\u001b[0m\u001b[0;34m,\u001b[0m \u001b[0;34m**\u001b[0m\u001b[0mkwargs\u001b[0m\u001b[0;34m)\u001b[0m\u001b[0;34m\u001b[0m\u001b[0;34m\u001b[0m\u001b[0m\n\u001b[0m\u001b[1;32m    287\u001b[0m \u001b[0;34m\u001b[0m\u001b[0m\n\u001b[1;32m    288\u001b[0m         \u001b[0;32mreturn\u001b[0m \u001b[0mwrapper\u001b[0m  \u001b[0;31m# type: ignore\u001b[0m\u001b[0;34m\u001b[0m\u001b[0;34m\u001b[0m\u001b[0m\n",
            "\u001b[0;32m/usr/local/lib/python3.12/dist-packages/openai/resources/chat/completions/completions.py\u001b[0m in \u001b[0;36mcreate\u001b[0;34m(self, messages, model, audio, frequency_penalty, function_call, functions, logit_bias, logprobs, max_completion_tokens, max_tokens, metadata, modalities, n, parallel_tool_calls, prediction, presence_penalty, prompt_cache_key, reasoning_effort, response_format, safety_identifier, seed, service_tier, stop, store, stream, stream_options, temperature, tool_choice, tools, top_logprobs, top_p, user, verbosity, web_search_options, extra_headers, extra_query, extra_body, timeout)\u001b[0m\n\u001b[1;32m   1145\u001b[0m     ) -> ChatCompletion | Stream[ChatCompletionChunk]:\n\u001b[1;32m   1146\u001b[0m         \u001b[0mvalidate_response_format\u001b[0m\u001b[0;34m(\u001b[0m\u001b[0mresponse_format\u001b[0m\u001b[0;34m)\u001b[0m\u001b[0;34m\u001b[0m\u001b[0;34m\u001b[0m\u001b[0m\n\u001b[0;32m-> 1147\u001b[0;31m         return self._post(\n\u001b[0m\u001b[1;32m   1148\u001b[0m             \u001b[0;34m\"/chat/completions\"\u001b[0m\u001b[0;34m,\u001b[0m\u001b[0;34m\u001b[0m\u001b[0;34m\u001b[0m\u001b[0m\n\u001b[1;32m   1149\u001b[0m             body=maybe_transform(\n",
            "\u001b[0;32m/usr/local/lib/python3.12/dist-packages/openai/_base_client.py\u001b[0m in \u001b[0;36mpost\u001b[0;34m(self, path, cast_to, body, options, files, stream, stream_cls)\u001b[0m\n\u001b[1;32m   1257\u001b[0m             \u001b[0mmethod\u001b[0m\u001b[0;34m=\u001b[0m\u001b[0;34m\"post\"\u001b[0m\u001b[0;34m,\u001b[0m \u001b[0murl\u001b[0m\u001b[0;34m=\u001b[0m\u001b[0mpath\u001b[0m\u001b[0;34m,\u001b[0m \u001b[0mjson_data\u001b[0m\u001b[0;34m=\u001b[0m\u001b[0mbody\u001b[0m\u001b[0;34m,\u001b[0m \u001b[0mfiles\u001b[0m\u001b[0;34m=\u001b[0m\u001b[0mto_httpx_files\u001b[0m\u001b[0;34m(\u001b[0m\u001b[0mfiles\u001b[0m\u001b[0;34m)\u001b[0m\u001b[0;34m,\u001b[0m \u001b[0;34m**\u001b[0m\u001b[0moptions\u001b[0m\u001b[0;34m\u001b[0m\u001b[0;34m\u001b[0m\u001b[0m\n\u001b[1;32m   1258\u001b[0m         )\n\u001b[0;32m-> 1259\u001b[0;31m         \u001b[0;32mreturn\u001b[0m \u001b[0mcast\u001b[0m\u001b[0;34m(\u001b[0m\u001b[0mResponseT\u001b[0m\u001b[0;34m,\u001b[0m \u001b[0mself\u001b[0m\u001b[0;34m.\u001b[0m\u001b[0mrequest\u001b[0m\u001b[0;34m(\u001b[0m\u001b[0mcast_to\u001b[0m\u001b[0;34m,\u001b[0m \u001b[0mopts\u001b[0m\u001b[0;34m,\u001b[0m \u001b[0mstream\u001b[0m\u001b[0;34m=\u001b[0m\u001b[0mstream\u001b[0m\u001b[0;34m,\u001b[0m \u001b[0mstream_cls\u001b[0m\u001b[0;34m=\u001b[0m\u001b[0mstream_cls\u001b[0m\u001b[0;34m)\u001b[0m\u001b[0;34m)\u001b[0m\u001b[0;34m\u001b[0m\u001b[0;34m\u001b[0m\u001b[0m\n\u001b[0m\u001b[1;32m   1260\u001b[0m \u001b[0;34m\u001b[0m\u001b[0m\n\u001b[1;32m   1261\u001b[0m     def patch(\n",
            "\u001b[0;32m/usr/local/lib/python3.12/dist-packages/openai/_base_client.py\u001b[0m in \u001b[0;36mrequest\u001b[0;34m(self, cast_to, options, stream, stream_cls)\u001b[0m\n\u001b[1;32m   1045\u001b[0m \u001b[0;34m\u001b[0m\u001b[0m\n\u001b[1;32m   1046\u001b[0m                 \u001b[0mlog\u001b[0m\u001b[0;34m.\u001b[0m\u001b[0mdebug\u001b[0m\u001b[0;34m(\u001b[0m\u001b[0;34m\"Re-raising status error\"\u001b[0m\u001b[0;34m)\u001b[0m\u001b[0;34m\u001b[0m\u001b[0;34m\u001b[0m\u001b[0m\n\u001b[0;32m-> 1047\u001b[0;31m                 \u001b[0;32mraise\u001b[0m \u001b[0mself\u001b[0m\u001b[0;34m.\u001b[0m\u001b[0m_make_status_error_from_response\u001b[0m\u001b[0;34m(\u001b[0m\u001b[0merr\u001b[0m\u001b[0;34m.\u001b[0m\u001b[0mresponse\u001b[0m\u001b[0;34m)\u001b[0m \u001b[0;32mfrom\u001b[0m \u001b[0;32mNone\u001b[0m\u001b[0;34m\u001b[0m\u001b[0;34m\u001b[0m\u001b[0m\n\u001b[0m\u001b[1;32m   1048\u001b[0m \u001b[0;34m\u001b[0m\u001b[0m\n\u001b[1;32m   1049\u001b[0m             \u001b[0;32mbreak\u001b[0m\u001b[0;34m\u001b[0m\u001b[0;34m\u001b[0m\u001b[0m\n",
            "\u001b[0;31mAuthenticationError\u001b[0m: Error code: 401 - {'error': {'message': 'Incorrect API key provided: xxx. You can find your API key at https://platform.openai.com/account/api-keys.', 'type': 'invalid_request_error', 'param': None, 'code': 'invalid_api_key'}}"
          ]
        }
      ],
      "source": [
        "%%time\n",
        "results = []\n",
        "for review in sample_reviews:\n",
        "    text = keyword_extract.invoke({\"review\": review})\n",
        "    cleaned = (text).replace(\"**\", \"\").strip()\n",
        "    results.append({\"review\": review, \"text\": cleaned})"
      ]
    },
    {
      "cell_type": "code",
      "execution_count": 66,
      "metadata": {
        "id": "6IEpvbLbASwO"
      },
      "outputs": [],
      "source": [
        "for result in results:\n",
        "    print(f\"Review {result['review'][:100]}...\")\n",
        "    print(f\"text {result['text']}\\n\")"
      ]
    },
    {
      "cell_type": "code",
      "execution_count": 67,
      "metadata": {
        "colab": {
          "base_uri": "https://localhost:8080/"
        },
        "id": "Vi7mUMvp5OSr",
        "outputId": "ec437717-d4a7-418b-fe8f-4910a9e587eb"
      },
      "outputs": [
        {
          "name": "stdout",
          "output_type": "stream",
          "text": [
            "\u001b[?2026h\u001b[?25l\u001b[1G\u001b[?25h\u001b[?2026l\u001b[?2026h\u001b[?25l\u001b[1G\u001b[?25h\u001b[?2026l\u001b[?2026h\u001b[?25l\u001b[1G\u001b[?25h\u001b[?2026l\u001b[?2026h\u001b[?25l\u001b[1G\u001b[?25h\u001b[?2026l\n"
          ]
        }
      ],
      "source": [
        "!ollama pull scb10x/typhoon2.1-gemma3-4b"
      ]
    },
    {
      "cell_type": "code",
      "execution_count": 68,
      "metadata": {
        "colab": {
          "base_uri": "https://localhost:8080/"
        },
        "id": "o4I1DneY7I6k",
        "outputId": "e5cdfa73-69a6-4c4e-ab80-93a06381d76d"
      },
      "outputs": [
        {
          "name": "stdout",
          "output_type": "stream",
          "text": [
            "NAME                                  ID              SIZE      MODIFIED      \n",
            "scb10x/typhoon2.1-gemma3-4b:latest    8cfab9097c9d    2.6 GB    2 seconds ago    \n",
            "gemma3:270m                           e7d36fb2c3b3    291 MB    2 minutes ago    \n"
          ]
        }
      ],
      "source": [
        "!ollama list"
      ]
    },
    {
      "cell_type": "code",
      "execution_count": 69,
      "metadata": {
        "id": "FgRJCwcS7ian"
      },
      "outputs": [],
      "source": [
        "llm3 = OllamaLLM(model=\"scb10x/typhoon2.1-gemma3-4b\")"
      ]
    },
    {
      "cell_type": "code",
      "execution_count": 70,
      "metadata": {
        "id": "8tgYtNW17Nld"
      },
      "outputs": [],
      "source": [
        "keyword_extract = keyword_prompt | llm3 | StrOutputParser()"
      ]
    },
    {
      "cell_type": "code",
      "execution_count": 71,
      "metadata": {
        "colab": {
          "base_uri": "https://localhost:8080/"
        },
        "id": "Ln1UWmU67Ojb",
        "outputId": "46b9fdaf-2134-4df1-8d59-6c5ecbc4b928"
      },
      "outputs": [
        {
          "name": "stdout",
          "output_type": "stream",
          "text": [
            "CPU times: user 90.2 ms, sys: 12 ms, total: 102 ms\n",
            "Wall time: 14.3 s\n"
          ]
        }
      ],
      "source": [
        "%%time\n",
        "results = []\n",
        "for review in sample_reviews:\n",
        "    text = keyword_extract.invoke({\"review\": review})\n",
        "    cleaned = (text).replace(\"**\", \"\").strip()\n",
        "    results.append({\"review\": review, \"text\": cleaned})"
      ]
    },
    {
      "cell_type": "code",
      "execution_count": 72,
      "metadata": {
        "colab": {
          "base_uri": "https://localhost:8080/"
        },
        "id": "VK5q-zLF7qXX",
        "outputId": "245fffa1-f6da-4027-8057-38945be88da0"
      },
      "outputs": [
        {
          "name": "stdout",
          "output_type": "stream",
          "text": [
            "Review ร้านอาหารใหญ่มากกกกกกก \n",
            "เลี้ยวเข้ามาเจอห้องน้ำก่อนเลย เออแปลกดี \n",
            "ห้องทานหลักๆอยู่ชั้น 2 มีกาแฟ น้ำผึ...\n",
            "text แน่นอนครับ ผมจะทำตามขั้นตอนที่คุณแนะนำมาเพื่อดึงคำสำคัญจากรีวิวนี้ และตอบในรูปแบบ JSON:\n",
            "\n",
            "ขั้นตอนที่ 1: อ่านรีวิวและเข้าใจความหมาย\n",
            "\n",
            "รีวิวนี้พูดถึงประสบการณ์การทานอาหารที่ร้านอาหารแห่งหนึ่ง โดยมีประเด็นหลักๆ เกี่ยวกับขนาดของร้าน, ความแปลกของสิ่งแรกที่เจอ (ห้องน้ำ), ความอร่อยของทอดมันหัวปลี, ความอร่อยของพะแนงห่อไข่, และราคาที่สูงเกินไป รวมถึงมีของหวานฟรีในตอนท้าย\n",
            "\n",
            "ขั้นตอนที่ 2: ระบุหัวข้อหลักที่กล่าวถึง\n",
            "\n",
            "*   ขนาดร้าน\n",
            "*   อาหาร (ทอดมันหัวปลี, พะแนงห่อไข่, ไข่ต้ม)\n",
            "*   ราคา\n",
            "\n",
            "ขั้นตอนที่ 3: เลือก 3 keywords ที่สำคัญที่สุด\n",
            "\n",
            "จากหัวข้อหลักที่กล่าวถึง ผมเลือกคำเหล่านี้เป็น keywords ที่สำคัญที่สุด:\n",
            "\n",
            "1.  ราคา\n",
            "2.  อาหาร\n",
            "3.  ขนาด\n",
            "\n",
            "ขั้นตอนที่ 4: ตอบในรูปแบบ JSON\n",
            "\n",
            "```json\n",
            "{\n",
            "  \"keywords\": [\"ราคา\", \"อาหาร\", \"ขนาด\"]\n",
            "}\n",
            "```\n",
            "\n",
            "หวังว่าคำตอบนี้จะเป็นประโยชน์นะครับ หากคุณมีคำถามเพิ่มเติมหรือต้องการให้ผมช่วยในเรื่องอื่น ๆ โปรดแจ้งให้ทราบได้เลยครับ\n",
            "\n",
            "Review วันนี้ได้มีโอกาสไปนั่งซดกาแฟที่ร้านวาวี แถวๆอารีย์\n",
            "\n",
            "ก็ได้ยินมาบ่อยๆละ จากหลายที่ แต่ที่บ่อยสุดก็จาก ...\n",
            "text ขั้นตอนการ Extract keywords จากรีวิว:\n",
            "\n",
            "1.  อ่านรีวิวและเข้าใจความหมาย: รีวิวนี้พูดถึงประสบการณ์การไปดื่มกาแฟที่ร้าน \"วาวี\" ในย่านอารีย์ โดยเน้นถึงรสชาติกาแฟ บรรยากาศ บริการ และความคุ้มค่า\n",
            "\n",
            "2.  ระบุหัวข้อหลักที่กล่าวถึง:\n",
            "    *   รสชาติกาแฟ (ลาเต้, กลิ่นหอม, รสชาติ)\n",
            "    *   บรรยากาศร้าน (สีเขียว, วิว)\n",
            "    *   บริการ (เสิร์ฟถึงโต๊ะ)\n",
            "\n",
            "3.  เลือก 3 keywords ที่สำคัญที่สุด:\n",
            "    *   กาแฟ\n",
            "    *   วาวี\n",
            "    *   บรรยากาศ\n",
            "\n",
            "4.  ตอบในรูปแบบ JSON:\n",
            "\n",
            "```json\n",
            "{\n",
            "  \"keywords\": [\"กาแฟ\", \"วาวี\", \"บรรยากาศ\"]\n",
            "}\n",
            "```\n",
            "\n"
          ]
        }
      ],
      "source": [
        "for result in results:\n",
        "    print(f\"Review {result['review'][:100]}...\")\n",
        "    print(f\"text {result['text']}\\n\")"
      ]
    },
    {
      "cell_type": "code",
      "execution_count": 73,
      "metadata": {
        "id": "qAUAuk8v71Vs"
      },
      "outputs": [],
      "source": [
        "from pydantic import BaseModel, Field\n",
        "from langchain_core.output_parsers import JsonOutputParser\n",
        "\n",
        "class ReviewKeywords(BaseModel):\n",
        "    keywords: str = Field(\n",
        "        ...,  # Required field\n",
        "        description=\"3 keywords separated by comma\",\n",
        "        examples=[\"กาแฟ, บรรยากาศ, ราคา\"]\n",
        "    )\n",
        "\n",
        "class KeywordsExtraction(BaseModel):\n",
        "    extracted_qualities: ReviewKeywords"
      ]
    },
    {
      "cell_type": "code",
      "execution_count": 74,
      "metadata": {
        "id": "PxeAmGGQ8N1F"
      },
      "outputs": [],
      "source": [
        "keywords_parser = JsonOutputParser(pydantic_object=KeywordsExtraction)"
      ]
    },
    {
      "cell_type": "code",
      "execution_count": 75,
      "metadata": {
        "id": "PSeF1grW8PLa"
      },
      "outputs": [],
      "source": [
        "keyword_extract = keyword_prompt | llm3 | keywords_parser"
      ]
    },
    {
      "cell_type": "code",
      "execution_count": 76,
      "metadata": {
        "colab": {
          "base_uri": "https://localhost:8080/"
        },
        "id": "bwcI0KwS8QKx",
        "outputId": "37dbfda6-efdb-4757-a771-e501b53b80f6"
      },
      "outputs": [
        {
          "name": "stdout",
          "output_type": "stream",
          "text": [
            "CPU times: user 123 ms, sys: 10.5 ms, total: 134 ms\n",
            "Wall time: 12.5 s\n"
          ]
        }
      ],
      "source": [
        "%%time\n",
        "results = []\n",
        "for review in sample_reviews:\n",
        "    text = keyword_extract.invoke({\"review\": review})\n",
        "    results.append({\"review\": review, \"text\": text})"
      ]
    },
    {
      "cell_type": "code",
      "execution_count": 77,
      "metadata": {
        "colab": {
          "base_uri": "https://localhost:8080/"
        },
        "id": "EaCnKiR28RPU",
        "outputId": "2865c78c-b557-44cd-d4d0-564b4aa262fe"
      },
      "outputs": [
        {
          "data": {
            "text/plain": [
              "['ราคา', 'อาหาร', 'ขนาดร้าน']"
            ]
          },
          "execution_count": 77,
          "metadata": {},
          "output_type": "execute_result"
        }
      ],
      "source": [
        "results[0]['text']['keywords']"
      ]
    },
    {
      "cell_type": "code",
      "execution_count": 78,
      "metadata": {
        "colab": {
          "base_uri": "https://localhost:8080/"
        },
        "id": "BPSy29ZF8SpE",
        "outputId": "e0e072e5-3db0-4a49-cc19-ebefa07a7814"
      },
      "outputs": [
        {
          "data": {
            "text/plain": [
              "['วาวี', 'ลาเต้', 'อารีย์']"
            ]
          },
          "execution_count": 78,
          "metadata": {},
          "output_type": "execute_result"
        }
      ],
      "source": [
        "results[1]['text']['keywords']"
      ]
    },
    {
      "cell_type": "code",
      "execution_count": 79,
      "metadata": {
        "id": "Cql4beQhBDO4"
      },
      "outputs": [],
      "source": [
        "llm3 = OllamaLLM(\n",
        "    model=\"scb10x/typhoon2.1-gemma3-4b\",\n",
        "    temperature=0.05\n",
        ")\n",
        "\n",
        "keyword_extract = keyword_prompt | llm3 | keywords_parser"
      ]
    },
    {
      "cell_type": "code",
      "execution_count": 80,
      "metadata": {
        "colab": {
          "base_uri": "https://localhost:8080/"
        },
        "id": "YmDNDTndBEzJ",
        "outputId": "9ebcc731-e364-4f62-93c1-79fc1e0917df"
      },
      "outputs": [
        {
          "name": "stdout",
          "output_type": "stream",
          "text": [
            "CPU times: user 175 ms, sys: 17 ms, total: 192 ms\n",
            "Wall time: 18.3 s\n"
          ]
        }
      ],
      "source": [
        "%%time\n",
        "results = []\n",
        "for review in sample_reviews:\n",
        "    text = keyword_extract.invoke({\"review\": review})\n",
        "    results.append({\"review\": review, \"text\": text})"
      ]
    },
    {
      "cell_type": "code",
      "execution_count": 81,
      "metadata": {
        "colab": {
          "base_uri": "https://localhost:8080/"
        },
        "id": "BJH6_KRbBF05",
        "outputId": "bb1e7b85-fb93-4089-95db-25efa14b9495"
      },
      "outputs": [
        {
          "data": {
            "text/plain": [
              "(['ราคา', 'รสชาติ', 'ขนาด'], ['กาแฟ', 'บรรยากาศ', 'รสชาติ'])"
            ]
          },
          "execution_count": 81,
          "metadata": {},
          "output_type": "execute_result"
        }
      ],
      "source": [
        "results[0]['text']['keywords'], results[1]['text']['keywords']"
      ]
    },
    {
      "cell_type": "code",
      "execution_count": 82,
      "metadata": {
        "id": "mDE5ONNLBKrA"
      },
      "outputs": [],
      "source": [
        "keyword_prompt = PromptTemplate(\n",
        "    template=\"\"\"จาก Review ต่อไปนี้\n",
        "    Extract keywords 3 keywords เท่านั้น ที่เป็นตัวแทนของ Review นี้ได้ดีที่สุด\n",
        "\n",
        "    Review: {review}\n",
        "\n",
        "    ตอบในรูปแบบ JSON โดยมีคีย์เป็น 'keywords'\n",
        "    และค่าเป็นข้อความที่ดึงได้คั่นด้วย comma\n",
        "    เช่น {{\"keywords\": \"กาแฟ, บรรยากาศ, ราคา\"}}\n",
        "\n",
        "    หากไม่พบข้อมูลให้ตอบ 'ไม่ระบุ'\n",
        "    \"\"\"\n",
        ")"
      ]
    },
    {
      "cell_type": "code",
      "execution_count": 83,
      "metadata": {
        "id": "3KmWhhdRBOUL"
      },
      "outputs": [],
      "source": [
        "keyword_extract = keyword_prompt | llm3 | keywords_parser"
      ]
    },
    {
      "cell_type": "code",
      "execution_count": 84,
      "metadata": {
        "id": "eXDmaFYIBPky"
      },
      "outputs": [],
      "source": [
        "inputs = [{\"review\": r} for r in sample_reviews]"
      ]
    },
    {
      "cell_type": "code",
      "execution_count": 85,
      "metadata": {
        "colab": {
          "base_uri": "https://localhost:8080/"
        },
        "id": "JW5E27XiBQvM",
        "outputId": "d5e72656-0676-4286-9d67-3c2ddd671f07"
      },
      "outputs": [
        {
          "name": "stdout",
          "output_type": "stream",
          "text": [
            "CPU times: user 22.2 ms, sys: 1.62 ms, total: 23.8 ms\n",
            "Wall time: 2.5 s\n"
          ]
        }
      ],
      "source": [
        "%%time\n",
        "results = keyword_extract.batch(inputs)"
      ]
    },
    {
      "cell_type": "code",
      "execution_count": 86,
      "metadata": {
        "colab": {
          "base_uri": "https://localhost:8080/"
        },
        "id": "Guf8s3efBSC6",
        "outputId": "63aeee20-cc3a-4b11-c609-e4cb88a7bf4f"
      },
      "outputs": [
        {
          "data": {
            "text/plain": [
              "[{'keywords': 'ราคา, บรรยากาศ, ไข่ต้ม'},\n",
              " {'keywords': 'กาแฟ, บรรยากาศ, รสชาติ'}]"
            ]
          },
          "execution_count": 86,
          "metadata": {},
          "output_type": "execute_result"
        }
      ],
      "source": [
        "results"
      ]
    },
    {
      "cell_type": "markdown",
      "metadata": {
        "id": "hyfO-inivbY6"
      },
      "source": [
        "#แสดง 1,000 รีวิว"
      ]
    },
    {
      "cell_type": "code",
      "execution_count": 87,
      "metadata": {
        "id": "qdP5zSZeBTm2"
      },
      "outputs": [],
      "source": [
        "sample_reviews_1000 = coffee_reviews_df['column0'].head(100).tolist()\n",
        "inputs_1000 = [{\"review\": r} for r in sample_reviews_1000]\n",
        "\n",
        "BATCH_SIZE = 8\n",
        "\n",
        "results_1000 = []"
      ]
    },
    {
      "cell_type": "code",
      "execution_count": 88,
      "metadata": {
        "id": "l-HDjZg2BrpP"
      },
      "outputs": [],
      "source": [
        "from tqdm import tqdm"
      ]
    },
    {
      "cell_type": "code",
      "execution_count": 89,
      "metadata": {
        "colab": {
          "base_uri": "https://localhost:8080/"
        },
        "id": "LVi35V2OBsjD",
        "outputId": "a9cde87f-0e3a-49c9-9634-936f11206200"
      },
      "outputs": [
        {
          "name": "stderr",
          "output_type": "stream",
          "text": [
            "Extracting keywords: 100%|██████████| 13/13 [02:07<00:00,  9.82s/it]\n"
          ]
        }
      ],
      "source": [
        "for i in tqdm(range(0, len(inputs_1000), BATCH_SIZE), desc=\"Extracting keywords\"):\n",
        "    batch = inputs_1000[i:i+BATCH_SIZE]\n",
        "    outputs = keyword_extract.batch(batch)\n",
        "    for inp, out in zip(batch, outputs):\n",
        "        results_1000.append({\"review\": inp[\"review\"], \"text\": out})\n"
      ]
    },
    {
      "cell_type": "code",
      "execution_count": 90,
      "metadata": {
        "colab": {
          "base_uri": "https://localhost:8080/"
        },
        "id": "hVOEBVVyBt5g",
        "outputId": "7cd3261d-2b7c-42a2-8cc2-9924165b1089"
      },
      "outputs": [
        {
          "name": "stdout",
          "output_type": "stream",
          "text": [
            "ราคา, บรรยากาศ, ไข่ต้ม\n",
            "กาแฟ, บรรยากาศ, รสชาติ\n",
            "โดนัท, รสชาติ, ความหวาน\n",
            "วาซาบิ, ปลาซาบะ, ข้าวหน้าปลา\n",
            "โดนัท, Original Glazed, คิว\n",
            "วังพญาไท, นรสิงห์, คาเฟ่\n",
            "อาหารทะเล, ราคา, บรรยากาศ\n",
            "กาแฟ, เค้ก, พนักงาน\n",
            "ฮันนี่ โทสท์, ราคา, รสชาติ\n",
            "คาเฟ่, วานิลลา, คาโบนาร่า\n"
          ]
        }
      ],
      "source": [
        "for result in results_1000[0:10]:\n",
        "    print(result['text']['keywords'])"
      ]
    },
    {
      "cell_type": "code",
      "execution_count": 91,
      "metadata": {
        "id": "QBdQGprVCRu-"
      },
      "outputs": [],
      "source": [
        "context_prompt = PromptTemplate(\n",
        "    template=\"\"\"จาก Review ต่อไปนี้\n",
        "    Extract context ใน Review ที่เป็นตัวแทนที่บรรยายคำว่า {keyword} ได้ดีที่สุด\n",
        "\n",
        "    Review: {review}\n",
        "\n",
        "    ตอบผลลัพธ์ในรูปแบบ JSON โดยมีคีย์เป็น 'context'\n",
        "    และค่าเป็นข้อความที่ดึงได้จาก Review\n",
        "\n",
        "    ตัวอย่าง\n",
        "    keyword คือ \"กาแฟ\"\n",
        "    context: \"กาแฟที่นี่อร่อยมาก หอมกลิ่นกาแฟคั่วสด\"\n",
        "\n",
        "    หากไม่พบข้อมูลให้ตอบ 'ไม่ระบุ'\n",
        "    \"\"\"\n",
        ")"
      ]
    },
    {
      "cell_type": "code",
      "execution_count": 92,
      "metadata": {
        "id": "ibN0FPXEDZz0"
      },
      "outputs": [],
      "source": [
        "sentiment_prompt = PromptTemplate(\n",
        "    template=\"\"\"จากข้อความต่อไปนี้ ให้วิเคราะห์ว่าเป็น sentiment แบบไหน\n",
        "    เลือกจากตัวเลือกเหล่านี้เท่านั้น: \"positive\", \"negative\", \"neutral\"\n",
        "\n",
        "    ข้อความ: {message}\n",
        "\n",
        "    ตอบในรูปแบบ JSON โดยมีคีย์เป็น 'sentiment'\n",
        "    และค่าเป็นหนึ่งใน list ต่อไปนี้ [positive, negative, neutral]\n",
        "\n",
        "    คำแนะนำ\n",
        "    - positive คือ ข้อความที่แสดงความพอใจ ชอบ ดี\n",
        "    - negative คือ ข้อความที่แสดงความไม่พอใจ ไม่ชอบ แย่\n",
        "    - neutral คือ ข้อความที่ไม่แสดงความรู้สึกชัดเจน เป็นกลาง\n",
        "\n",
        "    # ตัวอย่าง\n",
        "    # ข้อความ \"อร่อยมาก\" → {{\"sentiment\": \"positive\"}}\n",
        "    # ข้อความ \"แพงไป\" → {{\"sentiment\": \"negative\"}}\n",
        "    # ข้อความ \"ปกติ\" → {{\"sentiment\": \"neutral\"}}\n",
        "    \"\"\"\n",
        ")"
      ]
    },
    {
      "cell_type": "code",
      "execution_count": 93,
      "metadata": {
        "id": "1uw2UgIiDbx1"
      },
      "outputs": [],
      "source": [
        "class ContextKeyword(BaseModel):\n",
        "    context: str = Field(..., description=\"context that best represent this keyword\")\n",
        "\n",
        "class ContexExtraction(BaseModel):\n",
        "    extracted: ContextKeyword\n",
        "\n",
        "context_parser = JsonOutputParser(pydantic_object=ContexExtraction)"
      ]
    },
    {
      "cell_type": "code",
      "execution_count": 94,
      "metadata": {
        "id": "ofe2MDUfDdEO"
      },
      "outputs": [],
      "source": [
        "context_extract = context_prompt | llm3 | context_parser"
      ]
    },
    {
      "cell_type": "code",
      "execution_count": 95,
      "metadata": {
        "id": "GpIi5MJ-DeEc"
      },
      "outputs": [],
      "source": [
        "class Sentiment(BaseModel):\n",
        "    sentiment: str = Field(..., description=\"sentiment of review\")\n",
        "\n",
        "class SentimentExtraction(BaseModel):\n",
        "    extracted: Sentiment\n",
        "\n",
        "\n",
        "sentiment_parser = JsonOutputParser(pydantic_object=SentimentExtraction)"
      ]
    },
    {
      "cell_type": "code",
      "execution_count": 96,
      "metadata": {
        "id": "zosBoLtgDfLg"
      },
      "outputs": [],
      "source": [
        "sentiment_extract = sentiment_prompt | llm3 | sentiment_parser"
      ]
    },
    {
      "cell_type": "code",
      "execution_count": 99,
      "metadata": {
        "id": "bsrpLc0aDgI7"
      },
      "outputs": [],
      "source": [
        "keywords = results_1000[0]['text']['keywords']"
      ]
    },
    {
      "cell_type": "code",
      "execution_count": 100,
      "metadata": {
        "colab": {
          "base_uri": "https://localhost:8080/"
        },
        "id": "Ltb9FKT3DhJr",
        "outputId": "e88810c5-fbe9-4388-a484-b44a03125577"
      },
      "outputs": [
        {
          "name": "stderr",
          "output_type": "stream",
          "text": [
            "Preparing context inputs: 100%|██████████| 100/100 [00:00<00:00, 22339.83it/s]\n"
          ]
        }
      ],
      "source": [
        "context_inputs = []\n",
        "\n",
        "for review_data in tqdm(results_1000, desc=\"Preparing context inputs\"):\n",
        "    review = review_data['review']\n",
        "    keywords = review_data['text']['keywords']\n",
        "    for keyword in keywords:\n",
        "        context_inputs.append({\"review\": review, \"keyword\": keyword.strip()})"
      ]
    },
    {
      "cell_type": "code",
      "execution_count": 101,
      "metadata": {
        "colab": {
          "base_uri": "https://localhost:8080/"
        },
        "id": "QJkIBnB5zSjE",
        "outputId": "e1fbd8ca-df3b-4213-cbc0-6bfd8bfa3db0"
      },
      "outputs": [
        {
          "data": {
            "text/plain": [
              "2519"
            ]
          },
          "execution_count": 101,
          "metadata": {},
          "output_type": "execute_result"
        }
      ],
      "source": [
        "len(context_inputs)"
      ]
    },
    {
      "cell_type": "code",
      "execution_count": 102,
      "metadata": {
        "colab": {
          "base_uri": "https://localhost:8080/"
        },
        "id": "nRrgF9RMzUXt",
        "outputId": "87260fab-c96f-4808-9e15-84c2a7f4562d"
      },
      "outputs": [
        {
          "name": "stderr",
          "output_type": "stream",
          "text": [
            "Extracting contexts: 100%|██████████| 100/100 [09:02<00:00,  5.42s/it]\n"
          ]
        }
      ],
      "source": [
        "context_results = []\n",
        "for i in tqdm(range(len(results_1000)), desc=\"Extracting contexts\"):\n",
        "   result = context_extract.batch(context_inputs[i*3:(i*3)+3])\n",
        "   contexts_list = [d['context'] for d in result]\n",
        "   results_1000[i]['contexts'] = contexts_list"
      ]
    },
    {
      "cell_type": "code",
      "execution_count": 104,
      "metadata": {
        "colab": {
          "base_uri": "https://localhost:8080/"
        },
        "id": "XaWE5bguzWCN",
        "outputId": "7dee99d1-3de2-49ef-b55f-b65761f7fcbe"
      },
      "outputs": [
        {
          "data": {
            "text/plain": [
              "[{'review': 'ร้านอาหารใหญ่มากกกกกกก \\nเลี้ยวเข้ามาเจอห้องน้ำก่อนเลย เออแปลกดี \\nห้องทานหลักๆอยู่ชั้น 2 มีกาแฟ น้ำผึ้ง ซึ่งก็แค่เอาน้ำผึ้งมาราด แพงเวอร์ อย่าสั่งเลย \\nลาบไข่ต้ม ไข่มันคาวอะ เลยไม่ประทับใจเท่าไหร่\\nทอดมันหัวปลีกรอบอร่อยต้องเบิ้ล \\nพะแนงห่อไข่อร่อยดี เห้ยแต่ราคา 150บาทมันเกินไปนะ รับไม่ไหวว\\nเลิกกินแล้วมีขนมหวานให้กินฟรีเล็กน้อย )ขนมไทย) \\n\\nคงไม่ไปซ้ำ แพงเกิน ',\n",
              "  'text': {'keywords': 'ราคา, บรรยากาศ, ไข่ต้ม'},\n",
              "  'contexts': ['ร้านอาหารใหญ่มากกกกกกก',\n",
              "   'ร้านอาหารใหญ่มากกกกกกก เลี้ยวเข้ามาเจอห้องน้ำก่อนเลย เออแปลกดี',\n",
              "   'ห้องทานอาหารอยู่ชั้น 2 มีกาแฟ น้ำผึ้ง ซึ่งก็แค่เอาน้ำผึ้งมาราด แพงเวอร์ อย่าสั่งเลย']},\n",
              " {'review': 'วันนี้ได้มีโอกาสไปนั่งซดกาแฟที่ร้านวาวี แถวๆอารีย์\\n\\nก็ได้ยินมาบ่อยๆละ จากหลายที่ แต่ที่บ่อยสุดก็จาก Twitter ว่ากาแฟที่นี่อร่อยมากกกกกกก\\nเรียกว่าระดับแฟนๆ Starbuck ยังต้องเหลียวมามอง ก็ดองมานานจนถึงวันนี้โอกาสเหมาะ ไป\\npresent งานที่ตึก Software Park เสร็จก็เลยมาหาไรกินแถวนี้พอดี\\nจัดไป.....\\n\\n\\nบรรยากาศรอบๆร้านก็แต่งได้น่านั่ง อารมณ์ประมาณว่าอยู่ในสวนบ้านเราเอง ต้นไม้เยอะดี\\nอย่างน้อยก็เป็นสีเขียวเล็กๆ ในใจกลางเมืองได้ละ\\nเขียวชอุ่ม\\n\\nว่าแล้วไม่รอช้าขอ Test ไม่สิ Taste เลยดีกว่าเดินเข้าร้านทันใด ป้าบบ...\\n\\n\"พี่คับ เอา...ลาเต้ ร้อนแก้วนึงคับ\"\\nว่างๆ มานั่งจิบกาแฟ ฟังเพลง พักผ่อนได้ดีทีเดียว\\n\\nจ่ายตังเสร็จ ก็ถูกพนักงานอัญเชิญไปรอที่โต๊ะ 55+ เพราะที่นี่เขาเสริฟให้ถึงที่ หุๆ\\nก็เลือกที่นั่งริมกระจก จะได้เห็นสาวๆ เอ้ย วิวถนัดๆหน่อย\\nนั่งชมวิวรอกาแฟมา\\n\\nไม่นานเกินอึดใจ ไวไวยังไม่ทันสุก ลาเต้ร้อนๆก็มาวางอยู่ข้างหน้า\\nซู้ดดดดดดด อ่าห์\\n\\nชำเลืองตามองลงไป....โอ้วว ที่นี่มีเล่นลายฟองนมด้วยเว้ยยย\\nแต่พอดีด้วยความตะกละไปนิดดันฉีกน้ำตาลเทใส่แล้วเผลอคน ก็เลยไม่ได้\\nถ่ายรูปมาให้ดู 55+ เหลือแต่ซากอารยธรรมลาเต้เมพๆ\\n\\n\\nหน้าตาผ่าน ที่นี่ก็รสชาติ 1...2.....ชู้ดดดดดดด\\nเฮ้ยยย นี่มัน....เมพพพพ ถึงเราจะไม่ค่อยรู้เรื่องกาแฟมากนัก แต่เท่าที่เคยลองชิมๆ\\nมา รสชาติและกลิ่นมันไม่ธรรมดาเลย หอมๆ ถือว่าเป็นมวยรุ่นเดียวกะ Starbuck ได้\\n\\n\\nเมนูอื่นๆ ลองชิม Coco ปั่น ของเพื่อนก็แหล่มไม่แพ้กัน วิปครีมหวานมัน โกโก้ก็หอม\\nส่วนเพื่อนอีกคนสั่งน้ำส้มกะเค้กช็อกโกแลตมันก็บอกว่าแจ่ม ......\\n\\n\\nสรุปก็คือ บรรยากาศก็ดี บริการก็ดี กาแฟอร่อย ราคาไม่แพง(แต่กินบ่อยก็จุกได้)\\nถ้าครายผ่านแถวอารีย์มากินเหอะ ซอยไรจำไม่ได้รู้แต่อยู่ตรงข้าม Villa ตรง BS อารีย์เลยอะ 55+\\n\\nถ่ายโดย : Tan\\nกล้อง : ซัมซวย Omnia i900 (สีภาพถึงได้ไม่ค่อยสวยเท่าไหร) ',\n",
              "  'text': {'keywords': 'กาแฟ, บรรยากาศ, รสชาติ'},\n",
              "  'contexts': ['ร้านอาหารใหญ่มากกกกกกก เลี้ยวเข้ามาเจอห้องน้ำก่อนเลย เออแปลกดี',\n",
              "   'ราคา 150 บาทมันเกินไปนะ รับไม่ไหวว',\n",
              "   'ทอดมันหัวปลีกรอบอร่อยต้องเบิ้ล']},\n",
              " {'review': 'สารภาพว่าไม่เคยคิดจะไปต่อคิวซื้อมากินเองครับ บังเอิญมีรุ่นน้องที่ไม่ได้เจอกันนานชวนไปเป็นเพื่อน แล้วเค้าให้ซื้อได้คนละกล่อง เลยเข้าไปต่อคิวซื้อให้น้องเพิ่มอีกกล่องนึง น้องใจดีแบ่งมาให้ชิมหนึ่งชิ้นถ้วน ^^\"\\n\\nรออยู่เกือบสองชั่วโมง ได้ลัดคิวเพราะสั่ง original แบบ glazed ทั้งกล่อง หลังร้านจะมีที่นั่งนะครับ เป็นโต๊ะเก้าอี้ แต่ไม่ค่อยมีคนนั่งซักเท่าไหร่ ก็สะดวกดีสำหรับการนัดพบกัน (ถ้าร้านยังอยู่ต่อไปนะ ^^)\\n\\nมาถึงตัวโดนัท เสียดายที่ใส่กล่องทิ้งไว้นานแล้วเลยไม่ค่อยอุ่น ถ้าเสร็จใหม่ๆหรือเอาไปอบเพิ่มน่าจะดีกว่านี้ เนื้อแป้งนิ่มมากถ้าเทียบกับยี่ห้อใกล้เคียงที่เป็นแบบเดียวกัน ทำให้เวลาจับเบาๆน้ำตาลก็จะร่วงออกมาง่ายไปหน่อย\\n\\nน้องบอกว่าหวานไป ผมเห็นด้วยส่วนนึง เพราะแป้งนิ่มเวลากินก็จะทำให้รับรสหวานจากแป้งได้ง่ายกว่า ยิ่งทำให้น้ำตาลที่เคลือบอยู่แบบไม่หนา ซึ่งหวานพอดีอยู่แล้วดันหวานขึ้นไปอีก แต่ถ้ากินพร้อมกาแฟน่าจะเวิร์กครับ\\n\\nก็หวังว่าจะอยู่ต่อไปนานๆ อย่าโรยราไปตามความนิยมที่ยังไงๆ ก็ต้องลดลงตามเวลา่นะครับ :D',\n",
              "  'text': {'keywords': 'โดนัท, รสชาติ, ความหวาน'},\n",
              "  'contexts': ['ร้านอาหารใหญ่มากกกกกกก',\n",
              "   'ร้านอาหารใหญ่มากกกกกกก',\n",
              "   'ร้านอาหารใหญ่มากกกกกกก']}]"
            ]
          },
          "execution_count": 104,
          "metadata": {},
          "output_type": "execute_result"
        }
      ],
      "source": [
        "results_1000[:3]"
      ]
    },
    {
      "cell_type": "code",
      "execution_count": 105,
      "metadata": {
        "colab": {
          "base_uri": "https://localhost:8080/"
        },
        "id": "wZwDN7M01d3h",
        "outputId": "a9802f60-c1ea-43e0-e0c1-faabf93ca6ea"
      },
      "outputs": [
        {
          "name": "stderr",
          "output_type": "stream",
          "text": [
            "Preparing sentiment inputs: 100%|██████████| 100/100 [00:00<00:00, 108351.95it/s]\n"
          ]
        }
      ],
      "source": [
        "sentiment_inputs = []\n",
        "\n",
        "for review_data in tqdm(results_1000, desc=\"Preparing sentiment inputs\"):\n",
        "    contexts = review_data['contexts']\n",
        "    for context in contexts:\n",
        "        sentiment_inputs.append({\"message\": context})"
      ]
    },
    {
      "cell_type": "code",
      "execution_count": 106,
      "metadata": {
        "colab": {
          "base_uri": "https://localhost:8080/"
        },
        "id": "9OI3OBiA1ptO",
        "outputId": "33106e48-a5e7-4c51-e9bd-9c54513cdb1a"
      },
      "outputs": [
        {
          "data": {
            "text/plain": [
              "300"
            ]
          },
          "execution_count": 106,
          "metadata": {},
          "output_type": "execute_result"
        }
      ],
      "source": [
        "len(sentiment_inputs)"
      ]
    },
    {
      "cell_type": "code",
      "execution_count": 107,
      "metadata": {
        "colab": {
          "base_uri": "https://localhost:8080/"
        },
        "id": "pzyGjpMb1rpS",
        "outputId": "7d6c726c-998e-4e5c-e8ee-b3028fe3b701"
      },
      "outputs": [
        {
          "data": {
            "text/plain": [
              "[{'message': 'ร้านอาหารใหญ่มากกกกกกก'},\n",
              " {'message': 'ร้านอาหารใหญ่มากกกกกกก เลี้ยวเข้ามาเจอห้องน้ำก่อนเลย เออแปลกดี'},\n",
              " {'message': 'ห้องทานอาหารอยู่ชั้น 2 มีกาแฟ น้ำผึ้ง ซึ่งก็แค่เอาน้ำผึ้งมาราด แพงเวอร์ อย่าสั่งเลย'},\n",
              " {'message': 'ร้านอาหารใหญ่มากกกกกกก เลี้ยวเข้ามาเจอห้องน้ำก่อนเลย เออแปลกดี'},\n",
              " {'message': 'ราคา 150 บาทมันเกินไปนะ รับไม่ไหวว'},\n",
              " {'message': 'ทอดมันหัวปลีกรอบอร่อยต้องเบิ้ล'},\n",
              " {'message': 'ร้านอาหารใหญ่มากกกกกกก'},\n",
              " {'message': 'ร้านอาหารใหญ่มากกกกกกก'},\n",
              " {'message': 'ร้านอาหารใหญ่มากกกกกกก'},\n",
              " {'message': 'ร้านอาหารใหญ่มากกกกกกก เลี้ยวเข้ามาเจอห้องน้ำก่อนเลย เออแปลกดี'}]"
            ]
          },
          "execution_count": 107,
          "metadata": {},
          "output_type": "execute_result"
        }
      ],
      "source": [
        "sentiment_inputs[:10]"
      ]
    },
    {
      "cell_type": "code",
      "execution_count": 108,
      "metadata": {
        "colab": {
          "base_uri": "https://localhost:8080/"
        },
        "id": "j-0clfs51vIR",
        "outputId": "4061051b-7913-45bd-ef7c-c673e11b6a98"
      },
      "outputs": [
        {
          "name": "stderr",
          "output_type": "stream",
          "text": [
            "Extracting sentiment: 100%|██████████| 100/100 [04:24<00:00,  2.65s/it]\n"
          ]
        }
      ],
      "source": [
        "for i in tqdm(range(len(results_1000)), desc=\"Extracting sentiment\"):\n",
        "   result = sentiment_extract.batch(sentiment_inputs[i*3:(i*3)+3])\n",
        "   sentiment_list = [d['sentiment'] for d in result]\n",
        "   results_1000[i]['sentiment'] = sentiment_list"
      ]
    },
    {
      "cell_type": "code",
      "execution_count": 109,
      "metadata": {
        "colab": {
          "base_uri": "https://localhost:8080/"
        },
        "id": "XbYnGshW1w0z",
        "outputId": "a97968b7-6d47-4b9c-841a-09d6f249351a"
      },
      "outputs": [
        {
          "data": {
            "text/plain": [
              "[{'review': 'ร้านอาหารใหญ่มากกกกกกก \\nเลี้ยวเข้ามาเจอห้องน้ำก่อนเลย เออแปลกดี \\nห้องทานหลักๆอยู่ชั้น 2 มีกาแฟ น้ำผึ้ง ซึ่งก็แค่เอาน้ำผึ้งมาราด แพงเวอร์ อย่าสั่งเลย \\nลาบไข่ต้ม ไข่มันคาวอะ เลยไม่ประทับใจเท่าไหร่\\nทอดมันหัวปลีกรอบอร่อยต้องเบิ้ล \\nพะแนงห่อไข่อร่อยดี เห้ยแต่ราคา 150บาทมันเกินไปนะ รับไม่ไหวว\\nเลิกกินแล้วมีขนมหวานให้กินฟรีเล็กน้อย )ขนมไทย) \\n\\nคงไม่ไปซ้ำ แพงเกิน ',\n",
              "  'text': {'keywords': 'ราคา, บรรยากาศ, ไข่ต้ม'},\n",
              "  'contexts': ['ร้านอาหารใหญ่มากกกกกกก',\n",
              "   'ร้านอาหารใหญ่มากกกกกกก เลี้ยวเข้ามาเจอห้องน้ำก่อนเลย เออแปลกดี',\n",
              "   'ห้องทานอาหารอยู่ชั้น 2 มีกาแฟ น้ำผึ้ง ซึ่งก็แค่เอาน้ำผึ้งมาราด แพงเวอร์ อย่าสั่งเลย'],\n",
              "  'sentiment': ['neutral', 'neutral', 'negative']},\n",
              " {'review': 'วันนี้ได้มีโอกาสไปนั่งซดกาแฟที่ร้านวาวี แถวๆอารีย์\\n\\nก็ได้ยินมาบ่อยๆละ จากหลายที่ แต่ที่บ่อยสุดก็จาก Twitter ว่ากาแฟที่นี่อร่อยมากกกกกกก\\nเรียกว่าระดับแฟนๆ Starbuck ยังต้องเหลียวมามอง ก็ดองมานานจนถึงวันนี้โอกาสเหมาะ ไป\\npresent งานที่ตึก Software Park เสร็จก็เลยมาหาไรกินแถวนี้พอดี\\nจัดไป.....\\n\\n\\nบรรยากาศรอบๆร้านก็แต่งได้น่านั่ง อารมณ์ประมาณว่าอยู่ในสวนบ้านเราเอง ต้นไม้เยอะดี\\nอย่างน้อยก็เป็นสีเขียวเล็กๆ ในใจกลางเมืองได้ละ\\nเขียวชอุ่ม\\n\\nว่าแล้วไม่รอช้าขอ Test ไม่สิ Taste เลยดีกว่าเดินเข้าร้านทันใด ป้าบบ...\\n\\n\"พี่คับ เอา...ลาเต้ ร้อนแก้วนึงคับ\"\\nว่างๆ มานั่งจิบกาแฟ ฟังเพลง พักผ่อนได้ดีทีเดียว\\n\\nจ่ายตังเสร็จ ก็ถูกพนักงานอัญเชิญไปรอที่โต๊ะ 55+ เพราะที่นี่เขาเสริฟให้ถึงที่ หุๆ\\nก็เลือกที่นั่งริมกระจก จะได้เห็นสาวๆ เอ้ย วิวถนัดๆหน่อย\\nนั่งชมวิวรอกาแฟมา\\n\\nไม่นานเกินอึดใจ ไวไวยังไม่ทันสุก ลาเต้ร้อนๆก็มาวางอยู่ข้างหน้า\\nซู้ดดดดดดด อ่าห์\\n\\nชำเลืองตามองลงไป....โอ้วว ที่นี่มีเล่นลายฟองนมด้วยเว้ยยย\\nแต่พอดีด้วยความตะกละไปนิดดันฉีกน้ำตาลเทใส่แล้วเผลอคน ก็เลยไม่ได้\\nถ่ายรูปมาให้ดู 55+ เหลือแต่ซากอารยธรรมลาเต้เมพๆ\\n\\n\\nหน้าตาผ่าน ที่นี่ก็รสชาติ 1...2.....ชู้ดดดดดดด\\nเฮ้ยยย นี่มัน....เมพพพพ ถึงเราจะไม่ค่อยรู้เรื่องกาแฟมากนัก แต่เท่าที่เคยลองชิมๆ\\nมา รสชาติและกลิ่นมันไม่ธรรมดาเลย หอมๆ ถือว่าเป็นมวยรุ่นเดียวกะ Starbuck ได้\\n\\n\\nเมนูอื่นๆ ลองชิม Coco ปั่น ของเพื่อนก็แหล่มไม่แพ้กัน วิปครีมหวานมัน โกโก้ก็หอม\\nส่วนเพื่อนอีกคนสั่งน้ำส้มกะเค้กช็อกโกแลตมันก็บอกว่าแจ่ม ......\\n\\n\\nสรุปก็คือ บรรยากาศก็ดี บริการก็ดี กาแฟอร่อย ราคาไม่แพง(แต่กินบ่อยก็จุกได้)\\nถ้าครายผ่านแถวอารีย์มากินเหอะ ซอยไรจำไม่ได้รู้แต่อยู่ตรงข้าม Villa ตรง BS อารีย์เลยอะ 55+\\n\\nถ่ายโดย : Tan\\nกล้อง : ซัมซวย Omnia i900 (สีภาพถึงได้ไม่ค่อยสวยเท่าไหร) ',\n",
              "  'text': {'keywords': 'กาแฟ, บรรยากาศ, รสชาติ'},\n",
              "  'contexts': ['ร้านอาหารใหญ่มากกกกกกก เลี้ยวเข้ามาเจอห้องน้ำก่อนเลย เออแปลกดี',\n",
              "   'ราคา 150 บาทมันเกินไปนะ รับไม่ไหวว',\n",
              "   'ทอดมันหัวปลีกรอบอร่อยต้องเบิ้ล'],\n",
              "  'sentiment': ['negative', 'negative', 'positive']},\n",
              " {'review': 'สารภาพว่าไม่เคยคิดจะไปต่อคิวซื้อมากินเองครับ บังเอิญมีรุ่นน้องที่ไม่ได้เจอกันนานชวนไปเป็นเพื่อน แล้วเค้าให้ซื้อได้คนละกล่อง เลยเข้าไปต่อคิวซื้อให้น้องเพิ่มอีกกล่องนึง น้องใจดีแบ่งมาให้ชิมหนึ่งชิ้นถ้วน ^^\"\\n\\nรออยู่เกือบสองชั่วโมง ได้ลัดคิวเพราะสั่ง original แบบ glazed ทั้งกล่อง หลังร้านจะมีที่นั่งนะครับ เป็นโต๊ะเก้าอี้ แต่ไม่ค่อยมีคนนั่งซักเท่าไหร่ ก็สะดวกดีสำหรับการนัดพบกัน (ถ้าร้านยังอยู่ต่อไปนะ ^^)\\n\\nมาถึงตัวโดนัท เสียดายที่ใส่กล่องทิ้งไว้นานแล้วเลยไม่ค่อยอุ่น ถ้าเสร็จใหม่ๆหรือเอาไปอบเพิ่มน่าจะดีกว่านี้ เนื้อแป้งนิ่มมากถ้าเทียบกับยี่ห้อใกล้เคียงที่เป็นแบบเดียวกัน ทำให้เวลาจับเบาๆน้ำตาลก็จะร่วงออกมาง่ายไปหน่อย\\n\\nน้องบอกว่าหวานไป ผมเห็นด้วยส่วนนึง เพราะแป้งนิ่มเวลากินก็จะทำให้รับรสหวานจากแป้งได้ง่ายกว่า ยิ่งทำให้น้ำตาลที่เคลือบอยู่แบบไม่หนา ซึ่งหวานพอดีอยู่แล้วดันหวานขึ้นไปอีก แต่ถ้ากินพร้อมกาแฟน่าจะเวิร์กครับ\\n\\nก็หวังว่าจะอยู่ต่อไปนานๆ อย่าโรยราไปตามความนิยมที่ยังไงๆ ก็ต้องลดลงตามเวลา่นะครับ :D',\n",
              "  'text': {'keywords': 'โดนัท, รสชาติ, ความหวาน'},\n",
              "  'contexts': ['ร้านอาหารใหญ่มากกกกกกก',\n",
              "   'ร้านอาหารใหญ่มากกกกกกก',\n",
              "   'ร้านอาหารใหญ่มากกกกกกก'],\n",
              "  'sentiment': ['neutral', 'neutral', 'neutral']}]"
            ]
          },
          "execution_count": 109,
          "metadata": {},
          "output_type": "execute_result"
        }
      ],
      "source": [
        "results_1000[0:3]"
      ]
    },
    {
      "cell_type": "code",
      "execution_count": 110,
      "metadata": {
        "id": "Oenw7kCU25Gf"
      },
      "outputs": [],
      "source": [
        "import pandas as pd\n",
        "\n",
        "df = pd.DataFrame([\n",
        "    {\n",
        "        'review': r['review'],\n",
        "        **{f'keyword{i+1}': k.strip() for i, k in enumerate(r['text']['keywords'])},\n",
        "        **{f'context{i+1}_keyword': c for i, c in enumerate(r['contexts'])},\n",
        "        **{f'sentiment{i+1}': s for i, s in enumerate(r['sentiment'])}\n",
        "    }\n",
        "    for r in results_1000\n",
        "])"
      ]
    },
    {
      "cell_type": "code",
      "execution_count": 111,
      "metadata": {
        "id": "WrFb4xb629x-"
      },
      "outputs": [],
      "source": [
        "df.to_csv('results.csv', index=False, encoding='utf-8-sig')"
      ]
    }
  ],
  "metadata": {
    "accelerator": "GPU",
    "colab": {
      "gpuType": "T4",
      "provenance": []
    },
    "kernelspec": {
      "display_name": "Python 3",
      "name": "python3"
    },
    "language_info": {
      "name": "python"
    },
    "widgets": {
      "application/vnd.jupyter.widget-state+json": {
        "00c8a139d94440ca89c37c1199264c1d": {
          "model_module": "@jupyter-widgets/controls",
          "model_module_version": "1.5.0",
          "model_name": "ProgressStyleModel",
          "state": {
            "_model_module": "@jupyter-widgets/controls",
            "_model_module_version": "1.5.0",
            "_model_name": "ProgressStyleModel",
            "_view_count": null,
            "_view_module": "@jupyter-widgets/base",
            "_view_module_version": "1.2.0",
            "_view_name": "StyleView",
            "bar_color": "black",
            "description_width": ""
          }
        },
        "5d8a53d3f36d4dd7a85149b03358f128": {
          "model_module": "@jupyter-widgets/controls",
          "model_module_version": "1.5.0",
          "model_name": "FloatProgressModel",
          "state": {
            "_dom_classes": [],
            "_model_module": "@jupyter-widgets/controls",
            "_model_module_version": "1.5.0",
            "_model_name": "FloatProgressModel",
            "_view_count": null,
            "_view_module": "@jupyter-widgets/controls",
            "_view_module_version": "1.5.0",
            "_view_name": "ProgressView",
            "bar_style": "",
            "description": "",
            "description_tooltip": null,
            "layout": "IPY_MODEL_969bd64263944c96af28badb2fbddb7b",
            "max": 100,
            "min": 0,
            "orientation": "horizontal",
            "style": "IPY_MODEL_00c8a139d94440ca89c37c1199264c1d",
            "value": 100
          }
        },
        "6186681c412247f7ba53c08613901833": {
          "model_module": "@jupyter-widgets/base",
          "model_module_version": "1.2.0",
          "model_name": "LayoutModel",
          "state": {
            "_model_module": "@jupyter-widgets/base",
            "_model_module_version": "1.2.0",
            "_model_name": "LayoutModel",
            "_view_count": null,
            "_view_module": "@jupyter-widgets/base",
            "_view_module_version": "1.2.0",
            "_view_name": "LayoutView",
            "align_content": null,
            "align_items": null,
            "align_self": null,
            "border": null,
            "bottom": null,
            "display": null,
            "flex": null,
            "flex_flow": null,
            "grid_area": null,
            "grid_auto_columns": null,
            "grid_auto_flow": null,
            "grid_auto_rows": null,
            "grid_column": null,
            "grid_gap": null,
            "grid_row": null,
            "grid_template_areas": null,
            "grid_template_columns": null,
            "grid_template_rows": null,
            "height": null,
            "justify_content": null,
            "justify_items": null,
            "left": null,
            "margin": null,
            "max_height": null,
            "max_width": null,
            "min_height": null,
            "min_width": null,
            "object_fit": null,
            "object_position": null,
            "order": null,
            "overflow": null,
            "overflow_x": null,
            "overflow_y": null,
            "padding": null,
            "right": null,
            "top": null,
            "visibility": null,
            "width": "auto"
          }
        },
        "877134cc816d44818b43eef5d4a359e7": {
          "model_module": "@jupyter-widgets/controls",
          "model_module_version": "1.5.0",
          "model_name": "ProgressStyleModel",
          "state": {
            "_model_module": "@jupyter-widgets/controls",
            "_model_module_version": "1.5.0",
            "_model_name": "ProgressStyleModel",
            "_view_count": null,
            "_view_module": "@jupyter-widgets/base",
            "_view_module_version": "1.2.0",
            "_view_name": "StyleView",
            "bar_color": "black",
            "description_width": ""
          }
        },
        "969bd64263944c96af28badb2fbddb7b": {
          "model_module": "@jupyter-widgets/base",
          "model_module_version": "1.2.0",
          "model_name": "LayoutModel",
          "state": {
            "_model_module": "@jupyter-widgets/base",
            "_model_module_version": "1.2.0",
            "_model_name": "LayoutModel",
            "_view_count": null,
            "_view_module": "@jupyter-widgets/base",
            "_view_module_version": "1.2.0",
            "_view_name": "LayoutView",
            "align_content": null,
            "align_items": null,
            "align_self": null,
            "border": null,
            "bottom": null,
            "display": null,
            "flex": null,
            "flex_flow": null,
            "grid_area": null,
            "grid_auto_columns": null,
            "grid_auto_flow": null,
            "grid_auto_rows": null,
            "grid_column": null,
            "grid_gap": null,
            "grid_row": null,
            "grid_template_areas": null,
            "grid_template_columns": null,
            "grid_template_rows": null,
            "height": null,
            "justify_content": null,
            "justify_items": null,
            "left": null,
            "margin": null,
            "max_height": null,
            "max_width": null,
            "min_height": null,
            "min_width": null,
            "object_fit": null,
            "object_position": null,
            "order": null,
            "overflow": null,
            "overflow_x": null,
            "overflow_y": null,
            "padding": null,
            "right": null,
            "top": null,
            "visibility": null,
            "width": "auto"
          }
        },
        "c2a1ae9d0487404bbfd42471efbace29": {
          "model_module": "@jupyter-widgets/controls",
          "model_module_version": "1.5.0",
          "model_name": "FloatProgressModel",
          "state": {
            "_dom_classes": [],
            "_model_module": "@jupyter-widgets/controls",
            "_model_module_version": "1.5.0",
            "_model_name": "FloatProgressModel",
            "_view_count": null,
            "_view_module": "@jupyter-widgets/controls",
            "_view_module_version": "1.5.0",
            "_view_name": "ProgressView",
            "bar_style": "",
            "description": "",
            "description_tooltip": null,
            "layout": "IPY_MODEL_6186681c412247f7ba53c08613901833",
            "max": 100,
            "min": 0,
            "orientation": "horizontal",
            "style": "IPY_MODEL_877134cc816d44818b43eef5d4a359e7",
            "value": 100
          }
        }
      }
    }
  },
  "nbformat": 4,
  "nbformat_minor": 0
}
